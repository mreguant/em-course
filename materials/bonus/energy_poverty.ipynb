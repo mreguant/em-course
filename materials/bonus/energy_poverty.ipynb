{
 "cells": [
  {
   "cell_type": "markdown",
   "metadata": {},
   "source": [
    "# Day 8: Demand II - Household Budget Survey\n",
    "\n",
    "We will start by looking at a publicly available survey measuring household expenditures on energy components.\n",
    "\n",
    "With that, we can forecast the effect of the energy crisis on household energy bills\n",
    "\n",
    "The exercise is based on the post \"Los efectos de la crisis energética en el presupuesto de los hogares: un impacto desigual\":\n",
    "\n",
    "https://nadaesgratis.es/admin/los-efectos-de-la-crisis-energetica-en-el-presupuesto-de-los-hogares-un-impacto-desigual\n",
    "\n"
   ]
  },
  {
   "cell_type": "markdown",
   "metadata": {},
   "source": [
    "We first load relevant libraries"
   ]
  },
  {
   "cell_type": "code",
   "execution_count": 1,
   "metadata": {},
   "outputs": [],
   "source": [
    "\n",
    "#using Pkg\n",
    "#Pkg.update([\"DataFrames\", \"CSV\", \"Plots\", \"Printf\",\"StatsPlots\",\"Statistics\"])\n",
    "\n"
   ]
  },
  {
   "cell_type": "code",
   "execution_count": 2,
   "metadata": {},
   "outputs": [],
   "source": [
    "\n",
    "    using DataFrames\n",
    "    using CSV\n",
    "    using Plots\n",
    "    using Printf\n",
    "    using StatsPlots\n",
    "    using Binscatters\n"
   ]
  },
  {
   "cell_type": "markdown",
   "metadata": {},
   "source": [
    "## Household expenditure surveys\n",
    "\n",
    "Many countries survey households to understand the well-being of households across demographics.\n",
    "\n",
    "These household surveys are used throughout the EU to construct energy-poverty measures. See a great resource here:\n",
    "\n",
    "https://energy-poverty.ec.europa.eu/observing-energy-poverty/national-indicators_en\n",
    "\n",
    "The data we will use today is based on household survey expenditures from Spain. We will be using the \"micro\" data, which contains the individual responses for each household. The data can be obtained here: \n",
    "\n",
    "https://www.ine.es/dyngs/INEbase/en/operacion.htm?c=Estadistica_C&cid=1254736176806&menu=resultados&idp=1254735976608"
   ]
  },
  {
   "cell_type": "markdown",
   "metadata": {},
   "source": [
    "### Overview of dataset\n",
    "\n",
    "We will work with a reduced version of the household expenditure survey. In the data, each row is a representative household with a given weight (factor) in the population at a given quarter\n",
    "\n",
    "Variables from the survey at yearly level:\n",
    "- decile: decile in the income distribution in which the household belongs to\n",
    "- income: household income\n",
    "- GASTO: = expenditure\n",
    "- gasto_income_epf = GASTO / income\n",
    "- CANTIDAD_ = quantity\n",
    "- id_tur: whether the household has a regulated gas contract (cheaper)\n",
    "- iprem: income criteria to be eligible for the \"bono social\"\n",
    "- severo / vulnerable: whether the household is eligible to other subsidies, severo >> vulnerable\n",
    "- bono: whether the household actually received the \"bono\" - a subsidy on the household electricity bill. We estimated that only 25% of those eligibles actually received it.\n",
    "- See conditions for receiving the  subsidy: https://www.bonosocial.gob.es/#requisitos\n",
    "- Among those, `income`*12 should not exceed `iprem`*1.5\n",
    " \n",
    "\n",
    "*Price variables*:\n",
    "1. Compute the average price from annual survey data = GASTO / CANTIDAD\n",
    "2. Apply quaterly changes from real price data. This creates elec_price, gas_price and fuel_price\n",
    "\n",
    "We repeat this procedure for electricity demand (elec_demand). This is, obtain quaterly changes from total electricity demand and impute it into CANTIDAD.\n",
    "\n",
    "Real price and demand data comes from the Spanish market operator https://www.omie.es/\n",
    "\n",
    "*Policies*:\n",
    "- June 2021: IVA from 21% to 10%. With that we get `elec_price_no_iva`\n",
    "- November 2021: increase \"bono social\" discount. Subsidies for vulnerable households went up from 25% to 60% of the total electricity bill, while severo increased from 40% to 70%. We apply these extra discounts to the variable ``elec_price_no_iva``. With that, we have the counterfactual prices without the policy ``elec_price_no_policy``\n",
    "- April 2022: 20 cents fuel subsidy \n"
   ]
  },
  {
   "cell_type": "markdown",
   "metadata": {},
   "source": [
    "### Energy to income measures\n",
    "\n",
    "We read the data and add the share of income used for energy expenditures.\n",
    "\n",
    "Energy, as a basic good, represents a much higher level of expenditures for low-income households."
   ]
  },
  {
   "cell_type": "code",
   "execution_count": 3,
   "metadata": {
    "scrolled": true
   },
   "outputs": [
    {
     "data": {
      "text/html": [
       "<table class=\"data-frame\"><thead><tr><th></th><th>quarter</th><th>decile</th><th>id</th><th>year</th><th>factor</th><th>income</th><th>GASTO_gas</th><th>CANTIDAD_gas</th><th>GASTO_electr</th></tr><tr><th></th><th>String7</th><th>String3</th><th>Int64</th><th>Int64</th><th>Float64</th><th>Int64</th><th>Float64</th><th>Float64</th><th>Float64</th></tr></thead><tbody><p>306,296 rows × 28 columns (omitted printing of 19 columns)</p><tr><th>1</th><td>2019 Q1</td><td>D1</td><td>63953</td><td>2019</td><td>332.468</td><td>558</td><td>72.9943</td><td>64.8</td><td>64.3157</td></tr><tr><th>2</th><td>2019 Q1</td><td>D1</td><td>63984</td><td>2019</td><td>988.648</td><td>773</td><td>0.0</td><td>0.0</td><td>45.0</td></tr><tr><th>3</th><td>2019 Q1</td><td>D1</td><td>64033</td><td>2019</td><td>425.276</td><td>666</td><td>0.0</td><td>0.0</td><td>40.0</td></tr><tr><th>4</th><td>2019 Q1</td><td>D1</td><td>64034</td><td>2019</td><td>451.393</td><td>460</td><td>0.0</td><td>0.0</td><td>75.0</td></tr><tr><th>5</th><td>2019 Q1</td><td>D1</td><td>64037</td><td>2019</td><td>1381.54</td><td>300</td><td>0.0</td><td>0.0</td><td>17.88</td></tr><tr><th>6</th><td>2019 Q1</td><td>D1</td><td>64038</td><td>2019</td><td>732.724</td><td>356</td><td>0.0</td><td>0.0</td><td>49.0</td></tr><tr><th>7</th><td>2019 Q1</td><td>D1</td><td>64041</td><td>2019</td><td>684.441</td><td>371</td><td>0.0</td><td>0.0</td><td>0.0</td></tr><tr><th>8</th><td>2019 Q1</td><td>D1</td><td>64058</td><td>2019</td><td>248.676</td><td>338</td><td>0.0</td><td>0.0</td><td>38.0</td></tr><tr><th>9</th><td>2019 Q1</td><td>D1</td><td>64091</td><td>2019</td><td>372.777</td><td>780</td><td>0.0</td><td>0.0</td><td>50.0</td></tr><tr><th>10</th><td>2019 Q1</td><td>D1</td><td>64092</td><td>2019</td><td>2344.01</td><td>650</td><td>13.34</td><td>22.0</td><td>8.67</td></tr><tr><th>11</th><td>2019 Q1</td><td>D1</td><td>64096</td><td>2019</td><td>794.333</td><td>784</td><td>0.0</td><td>0.0</td><td>55.0</td></tr><tr><th>12</th><td>2019 Q1</td><td>D1</td><td>64097</td><td>2019</td><td>3418.06</td><td>774</td><td>0.0</td><td>0.0</td><td>40.0</td></tr><tr><th>13</th><td>2019 Q1</td><td>D1</td><td>64099</td><td>2019</td><td>1096.91</td><td>778</td><td>0.0</td><td>0.0</td><td>55.0</td></tr><tr><th>14</th><td>2019 Q1</td><td>D1</td><td>64113</td><td>2019</td><td>323.944</td><td>770</td><td>51.0</td><td>55.7</td><td>49.0</td></tr><tr><th>15</th><td>2019 Q1</td><td>D1</td><td>64118</td><td>2019</td><td>1704.58</td><td>615</td><td>0.0</td><td>0.0</td><td>55.0</td></tr><tr><th>16</th><td>2019 Q1</td><td>D1</td><td>64135</td><td>2019</td><td>691.238</td><td>400</td><td>52.0066</td><td>53.6</td><td>45.8233</td></tr><tr><th>17</th><td>2019 Q1</td><td>D1</td><td>64138</td><td>2019</td><td>989.85</td><td>430</td><td>0.0</td><td>0.0</td><td>26.5</td></tr><tr><th>18</th><td>2019 Q1</td><td>D1</td><td>64141</td><td>2019</td><td>1446.25</td><td>760</td><td>0.0</td><td>0.0</td><td>27.83</td></tr><tr><th>19</th><td>2019 Q1</td><td>D1</td><td>64149</td><td>2019</td><td>1476.82</td><td>432</td><td>0.0</td><td>0.0</td><td>34.0776</td></tr><tr><th>20</th><td>2019 Q1</td><td>D1</td><td>64150</td><td>2019</td><td>122.51</td><td>637</td><td>0.0</td><td>0.0</td><td>40.0</td></tr><tr><th>21</th><td>2019 Q1</td><td>D1</td><td>64167</td><td>2019</td><td>906.254</td><td>642</td><td>0.0</td><td>0.0</td><td>30.0</td></tr><tr><th>22</th><td>2019 Q1</td><td>D1</td><td>64179</td><td>2019</td><td>541.506</td><td>781</td><td>17.5</td><td>20.2</td><td>44.75</td></tr><tr><th>23</th><td>2019 Q1</td><td>D1</td><td>64188</td><td>2019</td><td>342.782</td><td>784</td><td>0.0</td><td>0.0</td><td>18.0</td></tr><tr><th>24</th><td>2019 Q1</td><td>D1</td><td>64192</td><td>2019</td><td>2080.24</td><td>784</td><td>0.0</td><td>0.0</td><td>20.0</td></tr><tr><th>&vellip;</th><td>&vellip;</td><td>&vellip;</td><td>&vellip;</td><td>&vellip;</td><td>&vellip;</td><td>&vellip;</td><td>&vellip;</td><td>&vellip;</td><td>&vellip;</td></tr></tbody></table>"
      ],
      "text/latex": [
       "\\begin{tabular}{r|cccccccccc}\n",
       "\t& quarter & decile & id & year & factor & income & GASTO\\_gas & CANTIDAD\\_gas & GASTO\\_electr & \\\\\n",
       "\t\\hline\n",
       "\t& String7 & String3 & Int64 & Int64 & Float64 & Int64 & Float64 & Float64 & Float64 & \\\\\n",
       "\t\\hline\n",
       "\t1 & 2019 Q1 & D1 & 63953 & 2019 & 332.468 & 558 & 72.9943 & 64.8 & 64.3157 & $\\dots$ \\\\\n",
       "\t2 & 2019 Q1 & D1 & 63984 & 2019 & 988.648 & 773 & 0.0 & 0.0 & 45.0 & $\\dots$ \\\\\n",
       "\t3 & 2019 Q1 & D1 & 64033 & 2019 & 425.276 & 666 & 0.0 & 0.0 & 40.0 & $\\dots$ \\\\\n",
       "\t4 & 2019 Q1 & D1 & 64034 & 2019 & 451.393 & 460 & 0.0 & 0.0 & 75.0 & $\\dots$ \\\\\n",
       "\t5 & 2019 Q1 & D1 & 64037 & 2019 & 1381.54 & 300 & 0.0 & 0.0 & 17.88 & $\\dots$ \\\\\n",
       "\t6 & 2019 Q1 & D1 & 64038 & 2019 & 732.724 & 356 & 0.0 & 0.0 & 49.0 & $\\dots$ \\\\\n",
       "\t7 & 2019 Q1 & D1 & 64041 & 2019 & 684.441 & 371 & 0.0 & 0.0 & 0.0 & $\\dots$ \\\\\n",
       "\t8 & 2019 Q1 & D1 & 64058 & 2019 & 248.676 & 338 & 0.0 & 0.0 & 38.0 & $\\dots$ \\\\\n",
       "\t9 & 2019 Q1 & D1 & 64091 & 2019 & 372.777 & 780 & 0.0 & 0.0 & 50.0 & $\\dots$ \\\\\n",
       "\t10 & 2019 Q1 & D1 & 64092 & 2019 & 2344.01 & 650 & 13.34 & 22.0 & 8.67 & $\\dots$ \\\\\n",
       "\t11 & 2019 Q1 & D1 & 64096 & 2019 & 794.333 & 784 & 0.0 & 0.0 & 55.0 & $\\dots$ \\\\\n",
       "\t12 & 2019 Q1 & D1 & 64097 & 2019 & 3418.06 & 774 & 0.0 & 0.0 & 40.0 & $\\dots$ \\\\\n",
       "\t13 & 2019 Q1 & D1 & 64099 & 2019 & 1096.91 & 778 & 0.0 & 0.0 & 55.0 & $\\dots$ \\\\\n",
       "\t14 & 2019 Q1 & D1 & 64113 & 2019 & 323.944 & 770 & 51.0 & 55.7 & 49.0 & $\\dots$ \\\\\n",
       "\t15 & 2019 Q1 & D1 & 64118 & 2019 & 1704.58 & 615 & 0.0 & 0.0 & 55.0 & $\\dots$ \\\\\n",
       "\t16 & 2019 Q1 & D1 & 64135 & 2019 & 691.238 & 400 & 52.0066 & 53.6 & 45.8233 & $\\dots$ \\\\\n",
       "\t17 & 2019 Q1 & D1 & 64138 & 2019 & 989.85 & 430 & 0.0 & 0.0 & 26.5 & $\\dots$ \\\\\n",
       "\t18 & 2019 Q1 & D1 & 64141 & 2019 & 1446.25 & 760 & 0.0 & 0.0 & 27.83 & $\\dots$ \\\\\n",
       "\t19 & 2019 Q1 & D1 & 64149 & 2019 & 1476.82 & 432 & 0.0 & 0.0 & 34.0776 & $\\dots$ \\\\\n",
       "\t20 & 2019 Q1 & D1 & 64150 & 2019 & 122.51 & 637 & 0.0 & 0.0 & 40.0 & $\\dots$ \\\\\n",
       "\t21 & 2019 Q1 & D1 & 64167 & 2019 & 906.254 & 642 & 0.0 & 0.0 & 30.0 & $\\dots$ \\\\\n",
       "\t22 & 2019 Q1 & D1 & 64179 & 2019 & 541.506 & 781 & 17.5 & 20.2 & 44.75 & $\\dots$ \\\\\n",
       "\t23 & 2019 Q1 & D1 & 64188 & 2019 & 342.782 & 784 & 0.0 & 0.0 & 18.0 & $\\dots$ \\\\\n",
       "\t24 & 2019 Q1 & D1 & 64192 & 2019 & 2080.24 & 784 & 0.0 & 0.0 & 20.0 & $\\dots$ \\\\\n",
       "\t$\\dots$ & $\\dots$ & $\\dots$ & $\\dots$ & $\\dots$ & $\\dots$ & $\\dots$ & $\\dots$ & $\\dots$ & $\\dots$ &  \\\\\n",
       "\\end{tabular}\n"
      ],
      "text/plain": [
       "\u001b[1m306296×28 DataFrame\u001b[0m\n",
       "\u001b[1m    Row \u001b[0m│\u001b[1m quarter \u001b[0m\u001b[1m decile  \u001b[0m\u001b[1m id     \u001b[0m\u001b[1m year  \u001b[0m\u001b[1m factor   \u001b[0m\u001b[1m income \u001b[0m\u001b[1m GASTO_gas \u001b[0m\u001b[1m CANTID\u001b[0m ⋯\n",
       "\u001b[1m        \u001b[0m│\u001b[90m String7 \u001b[0m\u001b[90m String3 \u001b[0m\u001b[90m Int64  \u001b[0m\u001b[90m Int64 \u001b[0m\u001b[90m Float64  \u001b[0m\u001b[90m Int64  \u001b[0m\u001b[90m Float64   \u001b[0m\u001b[90m Float6\u001b[0m ⋯\n",
       "────────┼───────────────────────────────────────────────────────────────────────\n",
       "      1 │ 2019 Q1  D1        63953   2019   332.468     558    72.9943         ⋯\n",
       "      2 │ 2019 Q1  D1        63984   2019   988.648     773     0.0\n",
       "      3 │ 2019 Q1  D1        64033   2019   425.276     666     0.0\n",
       "      4 │ 2019 Q1  D1        64034   2019   451.393     460     0.0\n",
       "      5 │ 2019 Q1  D1        64037   2019  1381.54      300     0.0            ⋯\n",
       "      6 │ 2019 Q1  D1        64038   2019   732.724     356     0.0\n",
       "      7 │ 2019 Q1  D1        64041   2019   684.441     371     0.0\n",
       "      8 │ 2019 Q1  D1        64058   2019   248.676     338     0.0\n",
       "   ⋮    │    ⋮        ⋮       ⋮       ⋮       ⋮        ⋮         ⋮           ⋮ ⋱\n",
       " 306290 │ 2022 Q4  D9       121502   2022   824.469    3371     0.0            ⋯\n",
       " 306291 │ 2022 Q4  D9       121521   2022  2966.75     3125     0.0\n",
       " 306292 │ 2022 Q4  D9       121528   2022  1770.36     3287     0.0\n",
       " 306293 │ 2022 Q4  D9       121529   2022   528.74     3086    30.92\n",
       " 306294 │ 2022 Q4  D9       121548   2022  1007.42     3367    14.0            ⋯\n",
       " 306295 │ 2022 Q4  D9       121574   2022   988.136    3395     0.0\n",
       " 306296 │ 2022 Q4  D9       121592   2022   984.997    3370   140.0\n",
       "\u001b[36m                                              21 columns and 306281 rows omitted\u001b[0m"
      ]
     },
     "metadata": {},
     "output_type": "display_data"
    }
   ],
   "source": [
    "\n",
    "\n",
    "    df_hh = CSV.read(\"data_hh.csv\", DataFrame)\n",
    "\n",
    "    #Outcome variables depending on policy\n",
    "    df_hh.energy_to_income = (df_hh.fuel_price .* df_hh.CANTIDAD_fuel .+\n",
    "                              (df_hh.gas_price .*(1 .- df_hh.id_tur) .+ df_hh.tur_price .*df_hh.id_tur  ).*  df_hh.CANTIDAD_fuel .+\n",
    "                              df_hh.elec_price_no_policy .* df_hh.elec_dmnd) ./ df_hh.income .*100;\n",
    "\n",
    "    df_hh.energy_to_income_policy = (df_hh.fuel_price_policy .* df_hh.CANTIDAD_fuel .+\n",
    "                              (df_hh.gas_price .*(1 .-df_hh.id_tur) .+ df_hh.tur_price .*df_hh.id_tur  ).*  df_hh.CANTIDAD_fuel .+\n",
    "                              df_hh.elec_price .* df_hh.elec_dmnd) ./ df_hh.income .*100;\n",
    "\n",
    "    df_hh\n"
   ]
  },
  {
   "cell_type": "markdown",
   "metadata": {},
   "source": [
    "Rich households tend to consume more energy."
   ]
  },
  {
   "cell_type": "code",
   "execution_count": null,
   "metadata": {},
   "outputs": [],
   "source": [
    "# We do a weighted plot of electricity expenditures by monthly income\n",
    "# Factor = survey weights to ensure sample is representative\n",
    "binscatter(df_hh, @formula(GASTO_electr ~ income), weights=:factor) \n",
    "    \n"
   ]
  },
  {
   "cell_type": "markdown",
   "metadata": {},
   "source": [
    "However, low-income houeholds spend a higher share and income."
   ]
  },
  {
   "cell_type": "code",
   "execution_count": null,
   "metadata": {
    "scrolled": true
   },
   "outputs": [],
   "source": [
    " \n",
    "# We do a weighted plot of income and share of expenditures\n",
    "# Factor = survey weights to ensure sample is representative\n",
    "binscatter(df_hh, @formula(energy_to_income ~ income), weights=:factor) \n"
   ]
  },
  {
   "cell_type": "markdown",
   "metadata": {},
   "source": [
    "We can also summarize these measures by decile. We can also examine how the burden is changing over the years.\n",
    "\n",
    "Note: We will also examine how relieve policies have impacted households' budgets."
   ]
  },
  {
   "cell_type": "code",
   "execution_count": null,
   "metadata": {
    "scrolled": true
   },
   "outputs": [],
   "source": [
    "\n",
    "    \n",
    "## Plot: Energy bill as a proportion of income ##\n",
    "# Aggregate at quarter level, weighted by survey factors\n",
    "plot_hh = combine(groupby(df_hh,[:quarter,:decile]), \n",
    "                [:energy_to_income,:energy_to_income_policy, :factor] => ((i, i_p, w) ->\n",
    "                    (energy_to_income = (sum(i.* w) / sum(w)),\n",
    "                     energy_to_income_policy = (sum(i_p .* w) / sum(w)))) => [:energy_to_income, :energy_to_income_policy]\n",
    "                )\n",
    "    \n",
    "# selecting deciles\n",
    "filter!(row ->(row.decile == \"D1\") | (row.decile == \"D5\") | (row.decile == \"D10\") ,plot_hh)\n",
    "\n",
    "# plot\n",
    "    plot(plot_hh.quarter, plot_hh.energy_to_income, group = plot_hh.decile,\n",
    "        title = \"Energy bill as a proportion of income\",\n",
    "        xlabel = \"quarter\",\n",
    "        legend = :outerright,\n",
    "        color=[:orange :black :red3])\n",
    "    plot!(plot_hh.quarter, plot_hh.energy_to_income_policy, group = plot_hh.decile,\n",
    "        color=[:orange :black :red3],\n",
    "        linestyle=:dash) \n"
   ]
  },
  {
   "cell_type": "markdown",
   "metadata": {},
   "source": [
    "### Over-burdened households\n",
    "\n",
    "We identify the households for which energy expenditures are a very large fraction of their expenses relative to their income.\n",
    "\n",
    "This can help understand how the presence of mitigating policies affected the most vulnerable consumers."
   ]
  },
  {
   "cell_type": "code",
   "execution_count": null,
   "metadata": {},
   "outputs": [],
   "source": [
    "function household_prop(data::DataFrame; threshold=30.0, policy = 1)\n",
    "    \n",
    "    ## Plot: Households with energy bill above a threshold ##\n",
    "\n",
    "    if policy == 1\n",
    "        data.threshold_prop = ifelse.( data.energy_to_income_policy .>= threshold, 1, 0)\n",
    "    else \n",
    "        data.threshold_prop = ifelse.( data.energy_to_income .>= threshold, 1, 0)\n",
    "    end\n",
    "                            \n",
    "    plot_hh = combine(groupby(df_hh,[:year,:decile]), \n",
    "                [:threshold_prop, :factor] => ((th,  w) ->\n",
    "                    (energy_to_income = (sum(th.* w) / sum(w)).*100,)) => [:threshold_prop]\n",
    "                )\n",
    "\n",
    "    plot_hh.dec = SubString.(plot_hh.decile, 2)\n",
    "    plot_hh.dec = parse.(Float64,plot_hh.dec) \n",
    "    sort!(plot_hh,:dec)\n",
    "\n",
    "    plot_prop = groupedbar(plot_hh.dec,plot_hh.threshold_prop, group = plot_hh.year,\n",
    "               bar_position = :dodge, bar_width=0.7,\n",
    "               xticks = (1:10, string.(1:10)),\n",
    "               title = @sprintf(\"Households with energy bill above %2.1f percent\", threshold),\n",
    "               xlabel = \"Income Decile\"   ,\n",
    "               legend = :outerright\n",
    "              ,color=[:orange :black :red3 :skyblue1] \n",
    "              )\n",
    "\n",
    "    return plot_prop\n",
    "    \n",
    "end"
   ]
  },
  {
   "cell_type": "code",
   "execution_count": null,
   "metadata": {
    "scrolled": true
   },
   "outputs": [],
   "source": [
    "household_prop(df_hh,threshold=50,policy=0)"
   ]
  },
  {
   "cell_type": "markdown",
   "metadata": {},
   "source": [
    "## Follow-up exercises\n",
    "\n",
    "1. Not always those households that need the most assistance are those that are in highest need. Make use of the variables `iprem`, `severo`, `vulnerable`, `bono` to examine this issue.\n"
   ]
  }
 ],
 "metadata": {
  "kernelspec": {
   "display_name": "Julia 1.9.2",
   "language": "julia",
   "name": "julia-1.9"
  },
  "language_info": {
   "file_extension": ".jl",
   "mimetype": "application/julia",
   "name": "julia",
   "version": "1.9.2"
  }
 },
 "nbformat": 4,
 "nbformat_minor": 2
}
