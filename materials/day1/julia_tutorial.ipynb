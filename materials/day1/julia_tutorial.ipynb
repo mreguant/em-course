{
 "cells": [
  {
   "cell_type": "markdown",
   "metadata": {},
   "source": [
    "# Introduction to Julia Language\n",
    "\n",
    "## Installation\n",
    "\n",
    "\n",
    "This is a short tutorial on Julia programming language mostly based on this excellent tutorial by Aurelio Amerio: https://techytok.com/introduction-to-the-repl/\n",
    "\n",
    "Let's start with all the requirements for a proper installation:\n",
    "\n",
    "1. Install Julia https://julialang.org/downloads/\n",
    "2. Install VSCode (coding editor that improves usability): https://code.visualstudio.com/\n",
    "3. Install Julia for VSCode: Go to Extensions, and type “julia” in the search box and hit enter. Install the julia extension.\n",
    "4. In my case, I'm also using Jupyter notebook to combine code with text in Markdown format. It supports several progamming languages, including Python, R and Julia. \n",
    "https://docs.jupyter.org/en/latest/install/notebook-classic.html (You also need python)\n",
    "\n",
    "\n",
    "Julia combines fast languages perfomance (like C) with easy-to-use languages such as Python or R.\n",
    "\n",
    "Julia has a documentation webpage: https://docs.julialang.org/en/v1/ \n",
    "\n",
    "There you can find useful links such as a list of Punctuation symbols: https://docs.julialang.org/en/v1/base/punctuation/ "
   ]
  },
  {
   "cell_type": "markdown",
   "metadata": {},
   "source": [
    "## Basics\n",
    "\n",
    "All programs consist of the following:\n",
    "* Variables\n",
    "* Functions\n",
    "* Loops\n",
    "* Conditionals\n",
    "\n",
    "### Variables\n",
    "Julia can infer the type of variable from its assigned value:\n"
   ]
  },
  {
   "cell_type": "code",
   "execution_count": null,
   "metadata": {},
   "outputs": [],
   "source": [
    "a = 1 # a is of type Integer\n",
    "b = 2.0 # b is of type Float\n",
    "c = \"Hello World!\" # c is of type String\n",
    "d = true # d is of type Bool\n",
    "\n",
    "# everything after # is a comment"
   ]
  },
  {
   "cell_type": "markdown",
   "metadata": {},
   "source": [
    "### Types\n",
    "\n",
    "In Julia every element has a type. The type system is a hierarchical structure: at the top of the tree there is the type *Any*, which means that every element belongs to it, then there are many other sub-types, for example *Numbe*r which includes *Real* and *Complex*, and *Real* contains for example *Int* (integer) numbers and *Float64* numbers (decimals)."
   ]
  },
  {
   "cell_type": "code",
   "execution_count": null,
   "metadata": {},
   "outputs": [],
   "source": [
    "typeof(d) # To determine the type of the variable\n",
    "# If we know we are going to operate with decimals, it is of good practise to initialise it already with the correct type:\n",
    "# a= 1.0\n",
    "# However, it is possible to convert a value:\n",
    "#convert(Float64,a)\n"
   ]
  },
  {
   "cell_type": "markdown",
   "metadata": {},
   "source": [
    "### If...else statements\n",
    "\n"
   ]
  },
  {
   "cell_type": "code",
   "execution_count": null,
   "metadata": {},
   "outputs": [],
   "source": [
    "# Example 1:\n",
    "julia_is_cool = true\n",
    "if julia_is_cool \n",
    "print(\"It sure is cool!\")\n",
    "end"
   ]
  },
  {
   "cell_type": "code",
   "execution_count": null,
   "metadata": {},
   "outputs": [],
   "source": [
    "# Example 2:\n",
    "x = 42\n",
    "if x<1\n",
    "    print(\"$x < 1\")\n",
    "elseif  1 < x < 3\n",
    "    print(\"$x < 3\")\n",
    "elseif x < 100\n",
    "    print(\"$x < 100\")\n",
    "else\n",
    "    print(\"$x is really big!\")\n",
    "end\n",
    "\n",
    "## Recall: use == to check equality and != to negate an statement\n",
    "# you can also chain comparisons\n"
   ]
  },
  {
   "cell_type": "markdown",
   "metadata": {},
   "source": [
    "### Loops\n",
    "\n",
    "Loops repeat the same operations several times. Julia offers `for`  loops and `while` loops."
   ]
  },
  {
   "cell_type": "code",
   "execution_count": null,
   "metadata": {},
   "outputs": [],
   "source": [
    "# for loops go over each element of an iterable object. The following one goes over all integers from 1 to 10 and adds them to x\n",
    "x = 0\n",
    "for i in 1:10\n",
    "    for j in 1:5\n",
    "        x = x + i + j\n",
    "    end\n",
    "end\n",
    "\n",
    "# Note how we have specified the range 1:10. We can define ranges in several ways, e.g., 10:-1:1, range(1, length=12, stop=100),...\n",
    "# ranges are used mostly for loops and for array indexing (more on that later)"
   ]
  },
  {
   "cell_type": "code",
   "execution_count": null,
   "metadata": {},
   "outputs": [],
   "source": [
    "# you can also loop over other types of variables:\n",
    "programming_languages = [\"Julia\", \"Python\", \"Matlab\"]\n",
    "for x in programming_languages\n",
    "println(x) #println appends a newline character (\\n) to output\n",
    "end"
   ]
  },
  {
   "cell_type": "code",
   "execution_count": null,
   "metadata": {},
   "outputs": [],
   "source": [
    "#while loops execute the same code until the condition for their execution is not true anymore\n",
    "i = 1\n",
    "while julia_is_cool\n",
    "print(\"Yep, julia is still cool. I just checked it.\")\n",
    "i = i + 1\n",
    "if i == 10\n",
    "julia_is_cool = false\n",
    "end\n",
    "end"
   ]
  },
  {
   "cell_type": "code",
   "execution_count": null,
   "metadata": {},
   "outputs": [],
   "source": [
    "# Use Break and Continue to interrupt or skipt an iteration:\n",
    "\n",
    "\n",
    "for i in 1:100\n",
    "    if i>10\n",
    "        break\n",
    "    else\n",
    "   \t    println(i^2)\n",
    "    end\n",
    "end\n",
    "\n",
    "\n",
    "#=\n",
    "for i in 1:12\n",
    "    if i % 3 == 0 # % gives you the remainder\n",
    "        continue\n",
    "    else\n",
    "        println(i)\n",
    "    end\n",
    "end\n",
    "=#\n",
    "\n",
    "# Use #= =# to comment a chunk of code."
   ]
  },
  {
   "cell_type": "markdown",
   "metadata": {},
   "source": [
    "### Functions\n",
    "\n",
    "Functions return some output for given inputs. They are very useful to run small code sections that you need repeatedly\n",
    "in different parts of you program."
   ]
  },
  {
   "cell_type": "code",
   "execution_count": null,
   "metadata": {},
   "outputs": [],
   "source": [
    "#Example 1:\n",
    "function plus_two(x)\n",
    "    x + 2\n",
    "end\n",
    "\n",
    "plus_two(4)"
   ]
  },
  {
   "cell_type": "code",
   "execution_count": null,
   "metadata": {},
   "outputs": [],
   "source": [
    "# Example 2: multiple inputs\n",
    "function f(x,y)\n",
    "   a = x + y\n",
    "   b = x - y\n",
    "   return a, b # we use return to specify all outputs, otherwise the function returns the result of the last line.\n",
    "end\n",
    "\n",
    "f(3,4)"
   ]
  },
  {
   "cell_type": "code",
   "execution_count": null,
   "metadata": {},
   "outputs": [],
   "source": [
    "# Example 3: optional arguments (to avoid writing it every time)\n",
    "function fopt(x,y=2)\n",
    "    x + y\n",
    "end\n",
    "\n",
    "fopt(3) # equivalent to fopt(3,2), but can be changed: fopt(3,4) "
   ]
  },
  {
   "cell_type": "code",
   "execution_count": null,
   "metadata": {},
   "outputs": [],
   "source": [
    "fopt(3,2)"
   ]
  },
  {
   "cell_type": "code",
   "execution_count": null,
   "metadata": {},
   "outputs": [],
   "source": [
    "# Example 4: Keyword arguments\n",
    "# optional arguments as we defined them are positional, in the sense that the order cannot be changed. If we want the optional arguments with no fixed position, we separate them with a semicolon ;\n",
    "\n",
    "function my_long_function(a, b=2; c, d=3)\n",
    "    return a + b + c + d\n",
    "end"
   ]
  },
  {
   "cell_type": "code",
   "execution_count": null,
   "metadata": {},
   "outputs": [],
   "source": [
    "# Run the following funcions to understand the difference:\n",
    "\n",
    "#my_long_function(1; c=3)\n",
    "\n",
    "#my_long_function(1, 2; c=3)\n",
    "\n",
    "#my_long_function(1, 2; d=5, c=3)\n",
    "\n",
    "#my_long_function(1, 2; d=5)\n",
    "\n",
    "#my_long_function(b = 1, a = 2;d =5, c=3)\n"
   ]
  },
  {
   "cell_type": "markdown",
   "metadata": {},
   "source": [
    "Aurelio points out the following: \" It is preferable to use positional arguments whenever high performance is required \n",
    "(for example when writing functions which need to be called many times).\n"
   ]
  },
  {
   "cell_type": "markdown",
   "metadata": {},
   "source": [
    "### Data Structure: Arrays\n",
    "\n",
    "Arrays are a way to represent large amounts of data. In Julia, we represent vectors and matrices as following:"
   ]
  },
  {
   "cell_type": "code",
   "execution_count": null,
   "metadata": {},
   "outputs": [],
   "source": [
    "v = [1, 2, 3]  #vector\n",
    "m = [1 2; 3 4] # matrix"
   ]
  },
  {
   "cell_type": "code",
   "execution_count": null,
   "metadata": {},
   "outputs": [],
   "source": [
    "v"
   ]
  },
  {
   "cell_type": "code",
   "execution_count": null,
   "metadata": {},
   "outputs": [],
   "source": [
    "# Note that if we define the array as a matrix, it can still have dimension 1 and not be a vector:\n",
    "v = [1, 2, 3] # vector\n",
    "m = [1 2 3]' # 3x1 matrix \n",
    "transpose(m)"
   ]
  },
  {
   "cell_type": "code",
   "execution_count": null,
   "metadata": {},
   "outputs": [],
   "source": [
    "# We can see it by calling typeof()\n",
    "m = [1 2 3; 4 5 6]\n",
    "typeof(m) # 2 dimension array\n"
   ]
  },
  {
   "cell_type": "markdown",
   "metadata": {},
   "source": [
    "Accessing the elements of an array can be done using the indexing syntax.\n",
    "Consider x = [1 2; 3 4]\n",
    "* x[1,2] is the element in the first row and second column, i.e. 2\n",
    "* x[:,2] is the second column\n",
    "* x[2] is the second element if all columns would be stacked one after the other\n",
    "* x[1:2,:] gives you the whole matrix\n",
    "\n"
   ]
  },
  {
   "cell_type": "code",
   "execution_count": null,
   "metadata": {},
   "outputs": [],
   "source": [
    "x = [1 2; 3 4]"
   ]
  },
  {
   "cell_type": "code",
   "execution_count": null,
   "metadata": {},
   "outputs": [],
   "source": [
    "x[1:2,:]"
   ]
  },
  {
   "cell_type": "markdown",
   "metadata": {},
   "source": [
    "When accessing elements through a loop, note that Julia uses a column order to store arrays in memory. Thus, if we want fast loops, we should iterate first over columns (i.e., the first index must vary first):"
   ]
  },
  {
   "cell_type": "code",
   "execution_count": null,
   "metadata": {},
   "outputs": [],
   "source": [
    "table = zeros(2,3) #function to create an Array of zeros\n",
    "\n",
    "    for j in 1:3\n",
    "        for i in 1:2\n",
    "            table[i,j] = i*j\n",
    "        end\n",
    "    end\n"
   ]
  },
  {
   "cell_type": "code",
   "execution_count": null,
   "metadata": {},
   "outputs": [],
   "source": [
    "table"
   ]
  },
  {
   "cell_type": "markdown",
   "metadata": {},
   "source": [
    "If you want to append an element to an array, we can do it by using the `append!` function. Notice the `!`, this is a Julia convention to say that the function will modify the existing argument (more on that later on). "
   ]
  },
  {
   "cell_type": "code",
   "execution_count": null,
   "metadata": {},
   "outputs": [],
   "source": [
    "a = [1,2,3,4,5]\n",
    "append!(a,6)  \n"
   ]
  },
  {
   "cell_type": "markdown",
   "metadata": {},
   "source": [
    "**Be careful:** In Julia, if we create an array *a* and assign $b = a$, the elements of *a* will be modified by accessing *b*. This is useful because it saves memory, but may have undesirable effects. If you want to make a copy of an array use the function `copy`:"
   ]
  },
  {
   "cell_type": "code",
   "execution_count": null,
   "metadata": {},
   "outputs": [],
   "source": [
    "a=[1,2,3]\n",
    "b=a\n",
    "b[2] = 42\n",
    "print(a)"
   ]
  },
  {
   "cell_type": "code",
   "execution_count": null,
   "metadata": {},
   "outputs": [],
   "source": [
    "a=[1,2,3]\n",
    "b=copy(a)\n",
    "b[2] = 42\n",
    "print(a)\n"
   ]
  },
  {
   "cell_type": "markdown",
   "metadata": {},
   "source": [
    "### Data Structure: Dictionaries    \n",
    "\n",
    "A dictionary is an unordered collection of keys and values. We will use them to store the results of our models."
   ]
  },
  {
   "cell_type": "code",
   "execution_count": null,
   "metadata": {},
   "outputs": [],
   "source": [
    "# Example 1: address book:\n",
    "\n",
    "person1 = Dict(\"Name\" => \"Aurelio\", \"Phone\" => 123456789, \"Job\" => \"Economist\")\n",
    "person2 = Dict(\"Name\" => \"Elena\", \"Phone\" => 123456789, \"Job\" => \"Physician\")\n",
    "\n",
    "addressBook = Dict(\"Aurelio\" => person1, \"Elena\" => person2) #we can store dictionaries into dictionaries\n"
   ]
  },
  {
   "cell_type": "code",
   "execution_count": null,
   "metadata": {},
   "outputs": [],
   "source": [
    "addressBook[\"Aurelio\"][\"Job\"]"
   ]
  },
  {
   "cell_type": "code",
   "execution_count": null,
   "metadata": {},
   "outputs": [],
   "source": [
    "addressBook"
   ]
  },
  {
   "cell_type": "markdown",
   "metadata": {},
   "source": [
    "In this case, \"Name\", \"Phone\" and \"Job\" are the keys, which have assigned a given value. Keys must be unique.\n",
    "Dictionaries are mutable, so we can add new keys or change values: "
   ]
  },
  {
   "cell_type": "code",
   "execution_count": null,
   "metadata": {},
   "outputs": [],
   "source": [
    "addressBook[\"Aurelio\"][\"Job\"] = \"Professor\" \n",
    "addressBook\n",
    "\n",
    "# ** try a diccionary with duplicated keys (Job = Name) **"
   ]
  },
  {
   "cell_type": "code",
   "execution_count": null,
   "metadata": {},
   "outputs": [],
   "source": [
    "person1 = Dict(\"Name\" => \"Aurelio\", \"Phone\" => 123456789, \"Name\" => \"Economist\")\n"
   ]
  },
  {
   "cell_type": "code",
   "execution_count": null,
   "metadata": {},
   "outputs": [],
   "source": [
    "person3 = Dict(\"Name\" => \"Vittorio\", \"Phone\" => 123456789, \"Job\" => \"Unemployed\")\n",
    "addressBook[\"Vittorio\"] = person3"
   ]
  },
  {
   "cell_type": "markdown",
   "metadata": {},
   "source": [
    "### Broadcasting\n",
    "\n",
    "Another important notation in Julia is the `.` preceding a mathematical operation. It indicates that the operation should be applied elementwise. We refer to this action as **Broadcasting**. This is particularly useful to map a function over all elements of an array:"
   ]
  },
  {
   "cell_type": "code",
   "execution_count": null,
   "metadata": {},
   "outputs": [],
   "source": [
    "sin.([2, 3, 4]) "
   ]
  },
  {
   "cell_type": "markdown",
   "metadata": {},
   "source": [
    "Thus, any function that works on scalars can be broadcast using the dot notation."
   ]
  },
  {
   "cell_type": "markdown",
   "metadata": {},
   "source": [
    "## Application\n",
    "\n",
    "In this application we will learn how to\n",
    "* Write a function that simulates a data generating process\n",
    "* Run a regression and store the coefficients\n",
    "* Plot the results\n",
    "* Save the simulated data\n",
    "\n",
    "We need to load packages in Julia, similar to the import function in Python or the library functionality in R. They need to be installed as follows:\n",
    "\n",
    "```\n",
    "using Pkg\n",
    "Pkg.add(\"LibraryName\")\n",
    "```\n"
   ]
  },
  {
   "cell_type": "code",
   "execution_count": null,
   "metadata": {},
   "outputs": [],
   "source": [
    "# uncomment the following lines to install the packages for the first time\n",
    "using Pkg\n",
    "#Pkg.add([\"DataFrames\",\"CSV\",\"Plots\",\"FixedEffectModels\",\"StatsPlots\",\"Statistics\",\"Dates\"])\n"
   ]
  },
  {
   "cell_type": "code",
   "execution_count": null,
   "metadata": {},
   "outputs": [],
   "source": [
    "\n",
    "using DataFrames\n",
    "using CSV\n",
    "using Plots, StatsPlots\n",
    "using FixedEffectModels\n",
    "using Statistics\n",
    "using Dates\n",
    "  \n"
   ]
  },
  {
   "cell_type": "markdown",
   "metadata": {},
   "source": [
    "Make sure you have set the correct directory. You can specify the path with `cd(\"\")` and check the current directory with `pwd()`. \n"
   ]
  },
  {
   "cell_type": "code",
   "execution_count": null,
   "metadata": {},
   "outputs": [],
   "source": [
    "cd(\"G:/.shortcut-targets-by-id/1LEj0H_g-jhr7WCtNwaDLaQ4EjziKUqfS/24EN01 - Empirical Methods for the Analysis of the Energy Transition/Practicals/day_1\")"
   ]
  },
  {
   "cell_type": "code",
   "execution_count": null,
   "metadata": {},
   "outputs": [],
   "source": [
    "results = DataFrame([[],[],[]], [\"coef\", \"ind\", \"periods\"]) #Dataframe to store the coefficients\n",
    "#results = DataFrame(\"coef\" =>[],\"ind\" =>[],\"periods\" =>[])"
   ]
  },
  {
   "cell_type": "code",
   "execution_count": null,
   "metadata": {},
   "outputs": [],
   "source": [
    "function Simulation(N,T;beta=0.7)\n",
    "\n",
    "    #create regressors\n",
    "    alphai = repeat(3 .+ 0.4 .*randn(N),inner = T) #generate N normally distributed random numbers with mean 3 and variance 0.4 and repeat each element T times\n",
    "    deltat = repeat(-2 .+ 0.2 .*randn(T),outer=N)\n",
    "    epsilon = randn(N*T)\n",
    "    Xit= 5 .+ 0.3 .*randn(N*T)\n",
    "\n",
    "    #Define dependent DGP for the dependent variable\n",
    "    Yit = alphai + deltat + beta .*Xit + epsilon\n",
    "\n",
    "    #Store it in a dataframe\n",
    "    df = DataFrame(Y = Yit, X = Xit,individual = alphai, time = deltat)\n",
    "    \n",
    "    #regression\n",
    "    reg1 = reg(df, @formula(Y ~  X + fe(individual) + fe(time)))\n",
    "\n",
    "    #store results\n",
    "    append!(results,DataFrame(coef=coef(reg1),ind=N,periods=T))\n",
    "\n",
    "\n",
    "end    "
   ]
  },
  {
   "cell_type": "code",
   "execution_count": null,
   "metadata": {},
   "outputs": [],
   "source": [
    "for t in 10:10:500\n",
    "    for i in 10:10:500\n",
    "\n",
    "   \n",
    "    Simulation(i,t;beta=0.7)\n",
    "   \n",
    "    end\n",
    "end"
   ]
  },
  {
   "cell_type": "code",
   "execution_count": null,
   "metadata": {},
   "outputs": [],
   "source": [
    "results.obs = results.ind .* results.periods #Number of observations in the simulated data"
   ]
  },
  {
   "cell_type": "code",
   "execution_count": null,
   "metadata": {},
   "outputs": [],
   "source": [
    "results"
   ]
  },
  {
   "cell_type": "code",
   "execution_count": null,
   "metadata": {},
   "outputs": [],
   "source": [
    "# we create a plot\n",
    "#=\n",
    "plot1 = plot(results.coef, results.obs,\n",
    "\t\t\tseriestype=:scatter,\n",
    "\t\t\tlinestyle = :dot,\n",
    "\t\t\txlabel = \"Coefficient\",\n",
    "\t\t\tylabel = \"Number of Observations\"\n",
    ")\n",
    "=#\n",
    "\n",
    "@df results plot(:coef, :obs,\n",
    "seriestype=:scatter,\n",
    "linestyle = :dot,\n",
    "xlabel = \"Coefficient\",\n",
    "ylabel = \"Number of Observations\"\n",
    ")\n",
    "\n",
    "# As the number of observations increase, our estimate converges to the true value.\n",
    "#** Add Random.seed!(12345) (with package) and see what happens when you have a small sample"
   ]
  },
  {
   "cell_type": "markdown",
   "metadata": {},
   "source": [
    "Finally, we **store** the data file with our estimated coefficients.\n"
   ]
  },
  {
   "cell_type": "code",
   "execution_count": null,
   "metadata": {},
   "outputs": [],
   "source": [
    "CSV.write(\"coef_sim.csv\", results)"
   ]
  },
  {
   "cell_type": "markdown",
   "metadata": {},
   "source": [
    "## Data Manipulation: A non-exhaustive cheatsheet\n",
    "\n",
    "In what follows I present a list of commands I found useful when working on my own personal projects. While this is a way to write code, I'm not claiming it is the only or the most efficient one.\n",
    "\n",
    "We will use the same data from the day1 tutorial, containing time series data from the Spanish electricity market."
   ]
  },
  {
   "cell_type": "code",
   "execution_count": null,
   "metadata": {},
   "outputs": [],
   "source": [
    "\n",
    "using DataFrames\n",
    "using CSV\n",
    "using Plots, StatsPlots\n",
    "using FixedEffectModels\n",
    "using Statistics\n",
    "using Dates\n",
    "  \n",
    "cd(\"G:/.shortcut-targets-by-id/1LEj0H_g-jhr7WCtNwaDLaQ4EjziKUqfS/24EN01 - Empirical Methods for the Analysis of the Energy Transition/Practicals/day_1\")\n",
    "\n",
    "df_raw = CSV.read(\"data_spain.csv\", DataFrame)"
   ]
  },
  {
   "cell_type": "code",
   "execution_count": null,
   "metadata": {},
   "outputs": [],
   "source": [
    "# commands to describe the data:\n",
    "\n",
    "first(df_raw,5)\n",
    "describe(df_raw)\n",
    "show(describe(df_raw),allrows = true)\n",
    "sort!(df_raw,[:year,:month],rev=true)\n",
    "\n"
   ]
  },
  {
   "cell_type": "code",
   "execution_count": null,
   "metadata": {},
   "outputs": [],
   "source": [
    "# Missing values\n",
    "df = copy(df_raw)\n",
    "df = dropmissing(df,:demand)\n",
    "describe(df)"
   ]
  },
  {
   "cell_type": "code",
   "execution_count": null,
   "metadata": {},
   "outputs": [],
   "source": [
    "# selecting rows\n",
    "filter!(row -> row.year > 2009,df )\n",
    "df = df[df.year.< 2018,:]\n"
   ]
  },
  {
   "cell_type": "code",
   "execution_count": null,
   "metadata": {},
   "outputs": [],
   "source": [
    "# selecting columns\n",
    "df_s = select(df,Not(:wind))\n",
    "#select!(df_s,[:year,:month,:day])\n",
    "select!(df_s,[:year,:month,:day],Between(:demand,:wind_forecast))"
   ]
  },
  {
   "cell_type": "code",
   "execution_count": null,
   "metadata": {},
   "outputs": [],
   "source": [
    "# modifying and creating variables\n",
    "df.date_s = string.(df.year,\"-\",df.month,\"-\",df.day) #paste\n",
    "df.date = Date.(df.date_s,\"y-m-d\") #converting it to Date format\n",
    "df.date_m = replace.(df.date_s,\"2010\" => \"10\",\"2011\" => \"11\")\n",
    "\n",
    "df.policy = ((df.year .> 2014) .| ((df.year.==2014) .& (df.month .> 5))) # creating and indicator variable (could be done with ifelse)\n",
    "df.wind_error = df.wind .- df.wind_forecast\n",
    "\n",
    "df.hour_s = string.(df.hour) #convert number to string\n",
    "df.hour_n = parse.(Int64,df.hour_s) #convert string to number\n",
    "df.hour_c = categorical(df.hour_s) #convert string to factor\n",
    "\n",
    "df[:,:constant] .= 0 \n",
    "# df.constant .= 0"
   ]
  },
  {
   "cell_type": "code",
   "execution_count": null,
   "metadata": {},
   "outputs": [],
   "source": []
  },
  {
   "cell_type": "code",
   "execution_count": null,
   "metadata": {},
   "outputs": [],
   "source": [
    "# Aggregating data: combine and groupby\n",
    "\n",
    "\n",
    "df_ag1 = combine(groupby(df, [:hour, :year]),\n",
    ":wind => mean => :wind_mean,  :demand => mean => :demand_mean)\n",
    "\n",
    "# df_ag2 = combine(groupby(df,[\"year\",\"month\",\"day\"]), \n",
    "# :demand => sum,:wholesale_price =>mean)\n",
    "\n"
   ]
  },
  {
   "cell_type": "code",
   "execution_count": null,
   "metadata": {},
   "outputs": [],
   "source": [
    "# Reshapping data\n",
    "df_r = select(df,Between(:year,:demand))\n",
    "\n",
    "#long to wide\n",
    "df_r.hour = string.(\"demand_\",df.hour)\n",
    "df_w = unstack(df_r, :hour, :demand)\n",
    "\n",
    "# wide to long\n",
    "df_l = DataFrames.stack(df_w,Between(:demand_1,:demand_24)) # when using stack, you need to specify the package\n",
    "rename!(df_l,\"variable\" => \"hour\", \"value\" => \"demand\")\n",
    "\n",
    "df_l.hour = parse.(Int64,replace.(df_l.hour,\"demand_\" =>\"\"))"
   ]
  },
  {
   "cell_type": "code",
   "execution_count": null,
   "metadata": {},
   "outputs": [],
   "source": [
    "df_r = select(df,Between(:year,:demand))\n",
    "df_r.hour = string.(\"demand_\",df.hour)\n",
    "df_w = unstack(df_r, :hour, :demand)\n"
   ]
  },
  {
   "cell_type": "code",
   "execution_count": null,
   "metadata": {},
   "outputs": [],
   "source": [
    "# Merging data:\n",
    "df_09 = df[df.year .== 2009,:]\n",
    "df_10 = df[df.year .== 2010,:]\n",
    "\n",
    "df_09_10 = append!(df_09,df_10)\n",
    "\n",
    "df_demand = select(df,Between(:year,:demand))\n",
    "df_wind = select(df,Between(:year,:hour),:wind)\n",
    "\n",
    "df_join = leftjoin(df_demand,df_wind, on = [:year, :month, :day, :hour])"
   ]
  },
  {
   "cell_type": "markdown",
   "metadata": {},
   "source": [
    "## An Introduction to JuMP\n",
    "\n",
    "JuMP (Julia Mathematical Programming) is a modeling language to write and solve optimization models. Depending on the optimization problem, you'll use different solvers (e.g., linear, mixed-integer, quadratic, nonlinear,...).\n",
    "\n",
    "A solver is an algorithm to find solutions."
   ]
  },
  {
   "cell_type": "code",
   "execution_count": null,
   "metadata": {},
   "outputs": [],
   "source": [
    "using JuMP\n",
    "using Ipopt #Ipopt is a nonlinear solver, and the one you'll use during the tutorials (for the following problem is an overkill)"
   ]
  },
  {
   "cell_type": "code",
   "execution_count": null,
   "metadata": {},
   "outputs": [],
   "source": [
    "# We declare a model\n",
    "model = Model(\n",
    "    optimizer_with_attributes(\n",
    "        Ipopt.Optimizer)\n",
    "    )\n",
    "\n",
    "# We define the variables we want to solve for\n",
    "@variable(model, x ) #you can add the restrictions later on\n",
    "@variable(model, y )     \n",
    "\n",
    "#We define the objective function...\n",
    "@objective(model, Min, 12x + 20y)\n",
    "\n",
    "#...and the constraints\n",
    "@constraint(model, c1, 6x + 8y >= 100) #c1 is the name of the constraint, optional\n",
    "@constraint(model, c2, 7x + 12y >= 120)\n",
    "@constraint(model,  0 <= y <= 3)\n",
    "@constraint(model,  x >= 0)\n",
    "#print(model)"
   ]
  },
  {
   "cell_type": "code",
   "execution_count": null,
   "metadata": {},
   "outputs": [],
   "source": [
    "optimize!(model)"
   ]
  },
  {
   "cell_type": "code",
   "execution_count": null,
   "metadata": {},
   "outputs": [],
   "source": [
    "# Extracting information of the model\n",
    "# JuMP.termination_status(model) # to check whether the algorithm found a solution\n",
    "\n",
    "JuMP.value(x) #solution"
   ]
  },
  {
   "cell_type": "code",
   "execution_count": null,
   "metadata": {},
   "outputs": [],
   "source": [
    "function f_opt(a)\n",
    "    model = Model(\n",
    "        optimizer_with_attributes(\n",
    "            Ipopt.Optimizer)\n",
    "        )\n",
    "    \n",
    "    # We define the variables we want to solve for\n",
    "    @variable(model, x >= 0) #you can also add the restrictions here\n",
    "    @variable(model, y )     \n",
    "    \n",
    "    #We define the objective function...\n",
    "    @objective(model, Min, a*x + 20y)\n",
    "    \n",
    "    #...and the contraints\n",
    "    @constraint(model, c1, 6x + 8y >= 100) #c1 is the name of the constraint, optional\n",
    "    @constraint(model, c2, 7x + 12y >= 120)\n",
    "    @constraint(model,  0 <= y <= 3)\n",
    "    \n",
    "    optimize!(model)\n",
    "\n",
    "    return JuMP.value(x)\n",
    "\n",
    "end"
   ]
  },
  {
   "cell_type": "code",
   "execution_count": null,
   "metadata": {},
   "outputs": [],
   "source": [
    "f_opt(12)"
   ]
  }
 ],
 "metadata": {
  "kernelspec": {
   "display_name": "Julia 1.9.2",
   "language": "julia",
   "name": "julia-1.9"
  },
  "language_info": {
   "file_extension": ".jl",
   "mimetype": "application/julia",
   "name": "julia",
   "version": "1.9.2"
  }
 },
 "nbformat": 4,
 "nbformat_minor": 2
}
