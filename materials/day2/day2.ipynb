{
 "cells": [
  {
   "cell_type": "markdown",
   "metadata": {},
   "source": [
    "# Day 2: Supply I\n",
    "\n",
    "We talked today about how electricity markets work.\n",
    "\n",
    "We will learn today how to build a simple model of an electricity market using **JuMP**.\n",
    "\n",
    "The data and code are based on the paper \"The Efficiency and Sectoral Distributional Implications of Large-Scale Renewable Policies,\" by Mar Reguant.\n"
   ]
  },
  {
   "cell_type": "markdown",
   "metadata": {},
   "source": [
    "We first load relevant libraries.\n",
    "\n",
    "Compared to day 1, we will be adding the libraries `JuMP` and the non-linear solver `Ipopt`. We will also be using the clustering library `Clustering` and the package `Random` to control the randomness in the machine learning algorithm.\n",
    "\n",
    "**Note:** I often prefer to use commercial solvers (Gurobi or CPLEX), which are available under an academic license. I use solvers that are readily available here without a license for simplicity and to ensure that everyone can access the code.\n"
   ]
  },
  {
   "cell_type": "code",
   "execution_count": 13,
   "metadata": {},
   "outputs": [],
   "source": [
    "#using Pkg\n",
    "#Pkg.add([ \"StatsPlots\",\"StatsBase\",\"Clustering\",\"Random\",\"JuMP\",\"Ipopt\",\"Printf\"])\n",
    "\n",
    "using DataFrames\n",
    "using CSV\n",
    "using Plots\n",
    "using StatsPlots\n",
    "using Statistics, StatsBase\n",
    "using Clustering\n",
    "using Random\n",
    "using JuMP\n",
    "using Ipopt\n",
    "using Printf\n",
    "\t\n"
   ]
  },
  {
   "cell_type": "markdown",
   "metadata": {},
   "source": [
    "We load the data using the CSV syntax (`CSV.read`) into a data frame called `df`.  Here we need to do some cleaning of the variables, rescaling and dropping missing entries.\n",
    "\n",
    "Having a clean dataset will be very helpful for the clustering algorithm, which requires complete rows of data.\n"
   ]
  },
  {
   "cell_type": "code",
   "execution_count": 3,
   "metadata": {},
   "outputs": [
    {
     "data": {
      "text/html": [
       "<table class=\"data-frame\"><thead><tr><th></th><th>year</th><th>month</th><th>day</th><th>hour</th><th>price</th><th>imports</th><th>q_commercial</th><th>q_industrial</th><th>q_residential</th></tr><tr><th></th><th>Int64</th><th>Int64</th><th>Int64</th><th>Int64</th><th>Float64</th><th>Float64</th><th>Float64</th><th>Float64</th><th>Float64</th></tr></thead><tbody><p>5 rows × 12 columns (omitted printing of 3 columns)</p><tr><th>1</th><td>2011</td><td>1</td><td>2</td><td>1</td><td>29.5397</td><td>4.502</td><td>8.38001</td><td>2.05659</td><td>10.6404</td></tr><tr><th>2</th><td>2011</td><td>1</td><td>2</td><td>2</td><td>27.9688</td><td>4.363</td><td>8.34789</td><td>2.06558</td><td>9.80354</td></tr><tr><th>3</th><td>2011</td><td>1</td><td>2</td><td>3</td><td>26.5258</td><td>4.089</td><td>8.54809</td><td>2.11851</td><td>9.5554</td></tr><tr><th>4</th><td>2011</td><td>1</td><td>2</td><td>4</td><td>25.5872</td><td>3.783</td><td>8.56002</td><td>2.13467</td><td>9.31031</td></tr><tr><th>5</th><td>2011</td><td>1</td><td>2</td><td>5</td><td>25.9229</td><td>3.969</td><td>8.61251</td><td>2.17499</td><td>9.4285</td></tr></tbody></table>"
      ],
      "text/latex": [
       "\\begin{tabular}{r|cccccccccc}\n",
       "\t& year & month & day & hour & price & imports & q\\_commercial & q\\_industrial & q\\_residential & \\\\\n",
       "\t\\hline\n",
       "\t& Int64 & Int64 & Int64 & Int64 & Float64 & Float64 & Float64 & Float64 & Float64 & \\\\\n",
       "\t\\hline\n",
       "\t1 & 2011 & 1 & 2 & 1 & 29.5397 & 4.502 & 8.38001 & 2.05659 & 10.6404 & $\\dots$ \\\\\n",
       "\t2 & 2011 & 1 & 2 & 2 & 27.9688 & 4.363 & 8.34789 & 2.06558 & 9.80354 & $\\dots$ \\\\\n",
       "\t3 & 2011 & 1 & 2 & 3 & 26.5258 & 4.089 & 8.54809 & 2.11851 & 9.5554 & $\\dots$ \\\\\n",
       "\t4 & 2011 & 1 & 2 & 4 & 25.5872 & 3.783 & 8.56002 & 2.13467 & 9.31031 & $\\dots$ \\\\\n",
       "\t5 & 2011 & 1 & 2 & 5 & 25.9229 & 3.969 & 8.61251 & 2.17499 & 9.4285 & $\\dots$ \\\\\n",
       "\\end{tabular}\n"
      ],
      "text/plain": [
       "\u001b[1m5×12 DataFrame\u001b[0m\n",
       "\u001b[1m Row \u001b[0m│\u001b[1m year  \u001b[0m\u001b[1m month \u001b[0m\u001b[1m day   \u001b[0m\u001b[1m hour  \u001b[0m\u001b[1m price   \u001b[0m\u001b[1m imports \u001b[0m\u001b[1m q_commercial \u001b[0m\u001b[1m q_industria\u001b[0m ⋯\n",
       "\u001b[1m     \u001b[0m│\u001b[90m Int64 \u001b[0m\u001b[90m Int64 \u001b[0m\u001b[90m Int64 \u001b[0m\u001b[90m Int64 \u001b[0m\u001b[90m Float64 \u001b[0m\u001b[90m Float64 \u001b[0m\u001b[90m Float64      \u001b[0m\u001b[90m Float64    \u001b[0m ⋯\n",
       "─────┼──────────────────────────────────────────────────────────────────────────\n",
       "   1 │  2011      1      2      1  29.5397    4.502       8.38001       2.0565 ⋯\n",
       "   2 │  2011      1      2      2  27.9688    4.363       8.34789       2.0655\n",
       "   3 │  2011      1      2      3  26.5258    4.089       8.54809       2.1185\n",
       "   4 │  2011      1      2      4  25.5872    3.783       8.56002       2.1346\n",
       "   5 │  2011      1      2      5  25.9229    3.969       8.61251       2.1749 ⋯\n",
       "\u001b[36m                                                               5 columns omitted\u001b[0m"
      ]
     },
     "metadata": {},
     "output_type": "display_data"
    }
   ],
   "source": [
    "# We read the data and clean it up a bit\n",
    "df = CSV.read(\"data_jaere.csv\", DataFrame)\n",
    "df = sort(df,[\"year\",\"month\",\"day\",\"hour\"])\n",
    "df = dropmissing(df)\n",
    "df.nuclear = df.nuclear/1000.0\n",
    "df.hydro = df.hydro/1000.0\n",
    "df.imports = df.imports/1000.0\n",
    "df.q_commercial = df.q_commercial/1000.0\n",
    "df.q_industrial = df.q_industrial/1000.0\n",
    "df.q_residential = df.q_residential/1000.0\n",
    "df.hydronuc = df.nuclear + df.hydro \n",
    "df = select(df,Not([\"nuclear\",\"hydro\"]))\n",
    "first(df, 5)"
   ]
  },
  {
   "cell_type": "code",
   "execution_count": 4,
   "metadata": {},
   "outputs": [
    {
     "data": {
      "text/html": [
       "<table class=\"data-frame\"><thead><tr><th></th><th>variable</th><th>mean</th><th>min</th><th>median</th><th>max</th><th>nmissing</th><th>eltype</th></tr><tr><th></th><th>Symbol</th><th>Float64</th><th>Real</th><th>Float64</th><th>Real</th><th>Int64</th><th>DataType</th></tr></thead><tbody><p>12 rows × 7 columns</p><tr><th>1</th><td>year</td><td>2013.0</td><td>2011</td><td>2013.0</td><td>2015</td><td>0</td><td>Int64</td></tr><tr><th>2</th><td>month</td><td>6.5478</td><td>1</td><td>7.0</td><td>12</td><td>0</td><td>Int64</td></tr><tr><th>3</th><td>day</td><td>15.7486</td><td>1</td><td>16.0</td><td>31</td><td>0</td><td>Int64</td></tr><tr><th>4</th><td>hour</td><td>12.5064</td><td>1</td><td>13.0</td><td>24</td><td>0</td><td>Int64</td></tr><tr><th>5</th><td>price</td><td>35.5433</td><td>-13.9395</td><td>34.5713</td><td>172.352</td><td>0</td><td>Float64</td></tr><tr><th>6</th><td>imports</td><td>7.41422</td><td>1.571</td><td>7.446</td><td>11.674</td><td>0</td><td>Float64</td></tr><tr><th>7</th><td>q_commercial</td><td>12.1097</td><td>6.91611</td><td>11.458</td><td>26.0133</td><td>0</td><td>Float64</td></tr><tr><th>8</th><td>q_industrial</td><td>3.91344</td><td>1.95289</td><td>3.65441</td><td>8.53145</td><td>0</td><td>Float64</td></tr><tr><th>9</th><td>q_residential</td><td>10.5988</td><td>3.87066</td><td>9.8203</td><td>24.9831</td><td>0</td><td>Float64</td></tr><tr><th>10</th><td>wind_cap</td><td>0.323496</td><td>0.00689445</td><td>0.301532</td><td>0.949153</td><td>0</td><td>Float64</td></tr><tr><th>11</th><td>solar_cap</td><td>0.185062</td><td>0.0</td><td>0.0</td><td>0.984559</td><td>0</td><td>Float64</td></tr><tr><th>12</th><td>hydronuc</td><td>4.5316</td><td>0.415</td><td>3.951</td><td>10.824</td><td>0</td><td>Float64</td></tr></tbody></table>"
      ],
      "text/latex": [
       "\\begin{tabular}{r|ccccccc}\n",
       "\t& variable & mean & min & median & max & nmissing & eltype\\\\\n",
       "\t\\hline\n",
       "\t& Symbol & Float64 & Real & Float64 & Real & Int64 & DataType\\\\\n",
       "\t\\hline\n",
       "\t1 & year & 2013.0 & 2011 & 2013.0 & 2015 & 0 & Int64 \\\\\n",
       "\t2 & month & 6.5478 & 1 & 7.0 & 12 & 0 & Int64 \\\\\n",
       "\t3 & day & 15.7486 & 1 & 16.0 & 31 & 0 & Int64 \\\\\n",
       "\t4 & hour & 12.5064 & 1 & 13.0 & 24 & 0 & Int64 \\\\\n",
       "\t5 & price & 35.5433 & -13.9395 & 34.5713 & 172.352 & 0 & Float64 \\\\\n",
       "\t6 & imports & 7.41422 & 1.571 & 7.446 & 11.674 & 0 & Float64 \\\\\n",
       "\t7 & q\\_commercial & 12.1097 & 6.91611 & 11.458 & 26.0133 & 0 & Float64 \\\\\n",
       "\t8 & q\\_industrial & 3.91344 & 1.95289 & 3.65441 & 8.53145 & 0 & Float64 \\\\\n",
       "\t9 & q\\_residential & 10.5988 & 3.87066 & 9.8203 & 24.9831 & 0 & Float64 \\\\\n",
       "\t10 & wind\\_cap & 0.323496 & 0.00689445 & 0.301532 & 0.949153 & 0 & Float64 \\\\\n",
       "\t11 & solar\\_cap & 0.185062 & 0.0 & 0.0 & 0.984559 & 0 & Float64 \\\\\n",
       "\t12 & hydronuc & 4.5316 & 0.415 & 3.951 & 10.824 & 0 & Float64 \\\\\n",
       "\\end{tabular}\n"
      ],
      "text/plain": [
       "\u001b[1m12×7 DataFrame\u001b[0m\n",
       "\u001b[1m Row \u001b[0m│\u001b[1m variable      \u001b[0m\u001b[1m mean        \u001b[0m\u001b[1m min        \u001b[0m\u001b[1m median      \u001b[0m\u001b[1m max      \u001b[0m\u001b[1m nmissing\u001b[0m ⋯\n",
       "\u001b[1m     \u001b[0m│\u001b[90m Symbol        \u001b[0m\u001b[90m Float64     \u001b[0m\u001b[90m Real       \u001b[0m\u001b[90m Float64     \u001b[0m\u001b[90m Real     \u001b[0m\u001b[90m Int64   \u001b[0m ⋯\n",
       "─────┼──────────────────────────────────────────────────────────────────────────\n",
       "   1 │ year           2013.0             2011  2013.0           2015         0 ⋯\n",
       "   2 │ month             6.5478             1     7.0             12         0\n",
       "   3 │ day              15.7486             1    16.0             31         0\n",
       "   4 │ hour             12.5064             1    13.0             24         0\n",
       "   5 │ price            35.5433      -13.9395    34.5713     172.352         0 ⋯\n",
       "   6 │ imports           7.41422        1.571     7.446       11.674         0\n",
       "   7 │ q_commercial     12.1097       6.91611    11.458      26.0133         0\n",
       "   8 │ q_industrial      3.91344      1.95289     3.65441    8.53145         0\n",
       "   9 │ q_residential    10.5988       3.87066     9.8203     24.9831         0 ⋯\n",
       "  10 │ wind_cap          0.323496  0.00689445     0.301532  0.949153         0\n",
       "  11 │ solar_cap         0.185062         0.0     0.0       0.984559         0\n",
       "  12 │ hydronuc          4.5316         0.415     3.951       10.824         0\n",
       "\u001b[36m                                                                1 column omitted\u001b[0m"
      ]
     },
     "metadata": {},
     "output_type": "display_data"
    }
   ],
   "source": [
    " describe(df)\n",
    "# nrow(df)"
   ]
  },
  {
   "cell_type": "markdown",
   "metadata": {},
   "source": [
    "## Clustering\n",
    "\n",
    "When modeling electricity markets, oftentimes the size of the problem can make the solver slow.\n",
    "\n",
    "Here we will be using a clustering algorithm to come up with a (much) smaller synthetic dataset that we will use for the purposes of our main analysis.\n",
    "\n",
    "**Note:** We ignore the time variables when we cluster. In our case, we'll transform a dataset of 43408 hours to 100 representatives hours. That is enough if you assume no correlation between hours.\n"
   ]
  },
  {
   "cell_type": "code",
   "execution_count": 5,
   "metadata": {},
   "outputs": [
    {
     "data": {
      "text/plain": [
       "43408-element Vector{Int64}:\n",
       "  23\n",
       "  23\n",
       "  23\n",
       "  23\n",
       "  23\n",
       "  23\n",
       "  23\n",
       "  39\n",
       "  39\n",
       "  74\n",
       "   ⋮\n",
       "  46\n",
       "  52\n",
       " 100\n",
       " 100\n",
       " 100\n",
       " 100\n",
       "  52\n",
       "  52\n",
       "  52"
      ]
     },
     "metadata": {},
     "output_type": "display_data"
    }
   ],
   "source": [
    "# define number of clusters\n",
    "n = 100\n",
    "# Clustering algorithms work in rows, so we need to transpose our data\n",
    "X = transpose(Array(select(df,Between(:price,:hydronuc))));\n",
    "\n",
    "# We scale variables to improve kmeans performance. For that, we take the mean and std of each row (dim=2) and you repeat it by the number of columns (rows in df)\n",
    "Xs = (X.- repeat(mean(X,dims=2),1,nrow(df)))./repeat(std(X,dims=2),1,nrow(df)); \n",
    "\n",
    "#we set seed because kmeans picks random samples to generate clusters\n",
    "Random.seed!(2020)\n",
    "R = kmeans(Xs, n);\n",
    "\n",
    "# Get the cluster centers rescaling again. These centers will be the new observations\n",
    "M = R.centers .* repeat(std(X,dims=2),1,n) .+ repeat(mean(X,dims=2),1,n);  \n",
    "\n",
    "# Assignments of each cluster\n",
    "A = assignments(R)\n"
   ]
  },
  {
   "cell_type": "code",
   "execution_count": null,
   "metadata": {},
   "outputs": [],
   "source": [
    "dfclust = DataFrame(transpose(M),\n",
    "\t[\"price\", \"imports\", \"q_commercial\", \"q_industrial\", \"q_residential\", \n",
    "\t\t\t\"wind_cap\", \"solar_cap\", \"hydronuc\"]);\n",
    "    # the weights is defined by the number of old observations assigned to each cluster          \n",
    "\tdfclust.weights = counts(R);\n",
    "\tfirst(dfclust, 5)\n",
    "\t"
   ]
  },
  {
   "cell_type": "markdown",
   "metadata": {},
   "source": [
    "We can compare the distribution of outcomes between the original dataset and the new dataset.\n",
    "\n",
    "Here is an example with prices. The two distributions are very similar.\n"
   ]
  },
  {
   "cell_type": "code",
   "execution_count": null,
   "metadata": {},
   "outputs": [],
   "source": [
    "histogram(df.price, fillalpha=.2, nbins=20, label=\"Data\")\n",
    "\thistogram!(dfclust.price,weights=dfclust.weights, \n",
    "\tfillalpha=.2, nbins=20, \n",
    "\t\tlabel=\"Clusters\")"
   ]
  },
  {
   "cell_type": "markdown",
   "metadata": {},
   "source": [
    "It is also relatively well matched for the case for solar, although it is harder there.\n"
   ]
  },
  {
   "cell_type": "code",
   "execution_count": null,
   "metadata": {},
   "outputs": [],
   "source": [
    "histogram(df.solar_cap, fillalpha=.2, nbins=20, label=\"Original\")\n",
    "\thistogram!(dfclust.solar_cap, weights=dfclust.weights, fillalpha=.2, nbins=20, label=\"Clusters\")"
   ]
  },
  {
   "cell_type": "markdown",
   "metadata": {},
   "source": [
    "### Saving the output\n",
    "\n",
    "It is useful to save the clustered data so that we can use it directly.\n"
   ]
  },
  {
   "cell_type": "code",
   "execution_count": null,
   "metadata": {},
   "outputs": [],
   "source": [
    "CSV.write(\"data_jaere_clustered.csv\", dfclust)\n"
   ]
  },
  {
   "cell_type": "markdown",
   "metadata": {},
   "source": [
    "## Building the model\n",
    "\n",
    "Now that we have clustered our data, we will build our model with the data that we have. \n",
    "\n",
    "The model that we will build today is a simplification from the original paper.\n",
    "\n",
    "In the original paper, the model needed to solve for:\n",
    "1. Endogenous retail prices (in a demand model, iterated to find equilibrium)\n",
    "2. Endogenous investment (in same supply model, with more equations)\n",
    "\n",
    "Here we will be simply building a simple model of market clearing.\n"
   ]
  },
  {
   "cell_type": "markdown",
   "metadata": {},
   "source": [
    "Before building the model, we define some model parameters related to:\n",
    "\n",
    "* Number and costs of different technologies (loaded from a small dataset)\n",
    "\n",
    "* Elasticity of demand and imports\n"
   ]
  },
  {
   "cell_type": "code",
   "execution_count": null,
   "metadata": {},
   "outputs": [],
   "source": [
    "tech = CSV.read(\"data_technology_simple.csv\", DataFrame)\n"
   ]
  },
  {
   "cell_type": "markdown",
   "metadata": {},
   "source": [
    "Here we assume zero marginal costs for renewable energy. `capUB` defines the maximum capacity of each power plant. For the existing ones, it defines the maximum production. For renewables, they will always produce at maximum capacity (precisely because of zero marginal costs) but production will depend on the capacity factors defined before."
   ]
  },
  {
   "cell_type": "markdown",
   "metadata": {},
   "source": [
    "To calibrate demand, one can use different strategies. Here we compute the slope for the demand curve that is consistent with the assumed elasticity of demand. \n",
    "\n",
    "Notice that this is a local elasticity approximation, but it has the advantage of being a linear demand curve, which is very attractive for the purposes of linear programming.\n",
    "\n",
    "The demand is: $ q = a - b \\ p $\n",
    "\n",
    "So the elasticity becomes: $elas =  b  \\frac{p}{q} $, which we set equal to an assumed parameter.\n",
    "\n",
    "Once we have $b$, we can back out $a$. \n",
    "\n",
    "An analogous procedure is done for imports, but in this case, $ qm = am + bm \\ p $\n"
   ]
  },
  {
   "cell_type": "code",
   "execution_count": null,
   "metadata": {},
   "outputs": [],
   "source": [
    "dfclust.weights = dfclust.weights / sum(dfclust.weights);\n",
    "\t\n",
    "\t# Here only one demand type to make it easier\n",
    "\tdfclust.demand = dfclust.q_residential + dfclust.q_commercial + dfclust.q_industrial;\n",
    "\t\n",
    "    # Calibrate demand based on elasticities (using 0.1 here as only one final demand)\n",
    "\telas = [.1, .2, .5, .3];\n",
    "\tdfclust.b = elas[1] * dfclust.demand ./ dfclust.price;  # slope\n",
    "\tdfclust.a = dfclust.demand + dfclust.b .* dfclust.price;  # intercept\n",
    "\n",
    "\t# Calibrate imports (using elas 0.3)\n",
    "    dfclust.bm = elas[4] * dfclust.imports ./ dfclust.price;  # slope\n",
    "    dfclust.am = dfclust.imports - dfclust.bm .* dfclust.price;  # intercept"
   ]
  },
  {
   "cell_type": "code",
   "execution_count": null,
   "metadata": {},
   "outputs": [],
   "source": [
    "describe(dfclust)"
   ]
  },
  {
   "cell_type": "markdown",
   "metadata": {},
   "source": [
    "### Non-linear solver\n",
    "\n",
    "We are now ready to clear the market. We will **maximize welfare** using a non-linear solver.\n",
    "\n",
    "$ \\max \\ CS - Costs $\n",
    "\n",
    "$ \\text{s.t.} \\ \\text{operational constraints, market clearing}. $\n"
   ]
  },
  {
   "cell_type": "code",
   "execution_count": null,
   "metadata": {},
   "outputs": [],
   "source": [
    "function clear_market_max(data::DataFrame, tech::DataFrame; \n",
    "    wind_gw = 5.0, solar_gw = 2.0)\n",
    "\n",
    "# We declare a model\n",
    "model = Model(\n",
    "    optimizer_with_attributes(\n",
    "        Ipopt.Optimizer)\n",
    "    );\n",
    "\n",
    "# Set useful indexes\n",
    "I = nrow(tech);  # number of techs\n",
    "T = nrow(data);  # number of periods\n",
    "S = 1;  # we will only be using one sector to keep things simple\n",
    "\n",
    "# Variables to solve for\n",
    "@variable(model, price[1:T]);\n",
    "@variable(model, demand[1:T]);\n",
    "@variable(model, imports[1:T]);\n",
    "@variable(model, quantity[1:T, 1:I] >= 0);\n",
    "@variable(model, Q[1:T] >= 0);\n",
    "\n",
    "# Maximize welfare including imports costs\n",
    "@NLobjective(model, Max, sum(data.weights[t] * (\n",
    "            (data.a[t] - demand[t]) * demand[t] / data.b[t] \n",
    "        + demand[t]^2/(2*data.b[t])\n",
    "    - sum(tech.c[i] * quantity[t,i] \n",
    "                + tech.c2[i] * quantity[t,i]^2/2 for i=1:I)\n",
    "    - (imports[t] - data.am[t])^2/(2 * data.bm[t])) for t=1:T));\n",
    "\n",
    "# Market clearing\n",
    "@constraint(model, [t=1:T], \n",
    "    demand[t] == data.a[t] - data.b[t] * price[t]);\n",
    "@constraint(model, [t=1:T], \n",
    "    imports[t] == data.am[t] + data.bm[t] * price[t]);\n",
    "@constraint(model, [t=1:T], \n",
    "    demand[t] == sum(quantity[t,i] for i=1:I) + imports[t]);\n",
    "@constraint(model, [t=1:T], \n",
    "    Q[t] == sum(quantity[t,i] for i=1:I) );\n",
    "\n",
    "# Constraints on output\n",
    "@constraint(model, [t=1:T], \n",
    "    quantity[t,1] <= data.hydronuc[t]);\t\n",
    "@constraint(model, [t=1:T,i=2:4], \n",
    "    quantity[t,i] <= tech[i,\"capUB\"]);\n",
    "@constraint(model, [t=1:T], \n",
    "    quantity[t,5] <= wind_gw * data.wind_cap[t]);\n",
    "@constraint(model, [t=1:T], \n",
    "    quantity[t,6] <= solar_gw * data.solar_cap[t]);\n",
    "\n",
    "# Solve model\n",
    "optimize!(model);\n",
    "\n",
    "status = @sprintf(\"%s\", JuMP.termination_status(model));\n",
    "\n",
    "if (status==\"LOCALLY_SOLVED\")\n",
    "    p = JuMP.value.(price);\n",
    "    avg_price = sum(p[t] * data.weights[t] for t=1:T);\n",
    "    q = JuMP.value.(quantity);\n",
    "    Q=JuMP.value.(Q);\n",
    "    imp = JuMP.value.(imports);\n",
    "    d = JuMP.value.(demand);\n",
    "    cost = sum(data.weights[t] * (sum(tech.c[i] * q[t,i] \n",
    "            + tech.c2[i] * q[t,i]^2 / 2 for i=1:I) \n",
    "            + (imp[t] - data.am[t])^2/(2 * data.bm[t])) for t=1:T);\n",
    "    results = Dict(\"status\" => @sprintf(\"%s\",JuMP.termination_status(model)),\n",
    "        \"avg_price\" => avg_price,\n",
    "        \"price\" => p,\n",
    "        \"quantity\" => q,\n",
    "        \"Total_quantity\" => Q\n",
    "        \"imports\" => imp,\n",
    "        \"demand\" => d,\n",
    "        \"cost\" => cost);\n",
    "    return results\n",
    "else\n",
    "    results = Dict(\"status\" => @sprintf(\"%s\",JuMP.termination_status(model)));\n",
    "    return results\n",
    "end\n",
    "\n",
    "end"
   ]
  },
  {
   "cell_type": "code",
   "execution_count": null,
   "metadata": {},
   "outputs": [],
   "source": [
    "results = clear_market_max(dfclust, tech)\n"
   ]
  },
  {
   "cell_type": "code",
   "execution_count": null,
   "metadata": {},
   "outputs": [],
   "source": [
    "results[\"avg_price\"]"
   ]
  },
  {
   "cell_type": "markdown",
   "metadata": {},
   "source": [
    "We can study the effects of an increase in renewable capacity"
   ]
  },
  {
   "cell_type": "code",
   "execution_count": null,
   "metadata": {},
   "outputs": [],
   "source": [
    "results = clear_market_max(dfclust, tech, wind_gw = 7.0, solar_gw = 3.0)"
   ]
  }
 ],
 "metadata": {
  "kernelspec": {
   "display_name": "Julia 1.6.2",
   "language": "julia",
   "name": "julia-1.6"
  },
  "language_info": {
   "file_extension": ".jl",
   "mimetype": "application/julia",
   "name": "julia",
   "version": "1.6.2"
  },
  "orig_nbformat": 4
 },
 "nbformat": 4,
 "nbformat_minor": 2
}
