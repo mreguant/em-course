{
 "cells": [
  {
   "cell_type": "markdown",
   "metadata": {},
   "source": [
    "# Day 3: Supply II - Enhancing the model\n",
    "\n",
    "We will continue our modeling exercise by adding carbon taxes, renewable subsidies, and investment to the model.\n",
    "\n",
    "This will allow us to consider the policy impacts of alternative energy transition policies.\n",
    "\n",
    "The data and code are based on the paper \"The Efficiency and Sectoral Distributional Implications of Large-Scale Renewable Policies,\" by Mar Reguant."
   ]
  },
  {
   "cell_type": "markdown",
   "metadata": {},
   "source": [
    "We first load relevant libraries, same as last session."
   ]
  },
  {
   "cell_type": "code",
   "execution_count": null,
   "metadata": {},
   "outputs": [],
   "source": [
    "#using Pkg\n",
    "#Pkg.add([\"DataFrames\", \"CSV\", \"JuMP\", \"Ipopt\", \"Plots\", \"Printf\"])\n"
   ]
  },
  {
   "cell_type": "code",
   "execution_count": null,
   "metadata": {},
   "outputs": [],
   "source": [
    "using DataFrames\n",
    "using CSV\n",
    "using JuMP\n",
    "using Ipopt\n",
    "using Plots\n",
    "using Printf"
   ]
  },
  {
   "cell_type": "markdown",
   "metadata": {},
   "source": [
    "Remember to set your path correctly:"
   ]
  },
  {
   "cell_type": "markdown",
   "metadata": {},
   "source": [
    "## Building the model\n",
    "\n",
    "We load the same data as last week, and also clean it up to simplify it further and create the demand and import curves."
   ]
  },
  {
   "cell_type": "code",
   "execution_count": null,
   "metadata": {},
   "outputs": [],
   "source": [
    "dfclust = CSV.read(\"data_jaere_clustered.csv\", DataFrame);\n",
    "\n",
    "# Re-scaling (we multiply by 8.76 to make it into a full year of hours (divided by 1000))\n",
    "dfclust.weights = 8.76 * dfclust.weights / sum(dfclust.weights);\n",
    "\n",
    "# Here only one demand type to make it easier\n",
    "dfclust.demand = dfclust.q_residential + dfclust.q_commercial + dfclust.q_industrial;\n",
    "\n",
    "# Calibrate demand based on elasticities (using 0.1 here as only one final demand)\n",
    "elas = [.1, .2, .5, .3];\n",
    "dfclust.b = elas[1] * dfclust.demand ./ dfclust.price;  # slope\n",
    "dfclust.a = dfclust.demand + dfclust.b .* dfclust.price;  # intercept\n",
    "\n",
    "# Calibrate imports (using elas 0.3)\n",
    "dfclust.bm = elas[4] * dfclust.imports ./ dfclust.price;  # slope\n",
    "dfclust.am = dfclust.imports - dfclust.bm .* dfclust.price;  # intercept"
   ]
  },
  {
   "cell_type": "code",
   "execution_count": null,
   "metadata": {},
   "outputs": [],
   "source": [
    "dfclust"
   ]
  },
  {
   "cell_type": "markdown",
   "metadata": {},
   "source": [
    "The technology file now includes the fixed cost of building new power plants (technologies 3-5). Note that we added an additional row for new natural gas plants."
   ]
  },
  {
   "cell_type": "markdown",
   "metadata": {},
   "source": [
    "We will use an annualization factor to pro-rate the importance of fixed costs for one year."
   ]
  },
  {
   "cell_type": "code",
   "execution_count": null,
   "metadata": {},
   "outputs": [],
   "source": [
    "tech = CSV.read(\"data_technology.csv\", DataFrame);\n",
    "afactor = (1 - (1 / (1.05^20.0))) / 0.05;\n",
    "tech.F = tech.F ./afactor;\n",
    "tech.F2 = tech.F2 ./afactor;\n",
    "tech\n",
    "\n"
   ]
  },
  {
   "cell_type": "markdown",
   "metadata": {},
   "source": [
    "### Adding investment\n",
    "\n",
    "We are now ready to clear the market. We will **maximize welfare** using a non-linear solver.\n",
    "\n",
    "$$ \\max \\ CS - Costs - Fixed Costs \\\\\n",
    "\n",
    "\\text{s.t.} \\ \\text{operational constraints, market clearing}. $$\n",
    "\n",
    "Notice that we added the fixed costs to the problem, as we will be solving for the optimal level of wind and solar investment."
   ]
  },
  {
   "cell_type": "code",
   "execution_count": null,
   "metadata": {},
   "outputs": [],
   "source": [
    "## Clear market based on cost minimization\n",
    "function clear_market_invest(data::DataFrame, tech::DataFrame)\n",
    "\n",
    "    # We declare a model\n",
    "    model = Model(\n",
    "        optimizer_with_attributes(\n",
    "            Ipopt.Optimizer, \n",
    "                \"print_level\"=>0)\n",
    "        );\n",
    "\n",
    "    # Set useful indexes\n",
    "    I = nrow(tech);  # number of techs\n",
    "    T = nrow(data);  # number of periods\n",
    "\n",
    "    \n",
    "    # Variables to solve for\n",
    "    @variable(model, price[1:T]);\n",
    "    @variable(model, demand[1:T]);\n",
    "    @variable(model, imports[1:T]);\n",
    "    @variable(model, quantity[1:T, 1:I] >= 0);\n",
    "    @variable(model, costs[1:T]);\n",
    "    @variable(model, gross_surplus[1:T]);\n",
    "    @variable(model, gas_gw >= 0.0);\n",
    "    @variable(model, wind_gw >= 0.0);\n",
    "    @variable(model, solar_gw >= 0.0);\n",
    "    @variable(model, profit_gas);\n",
    "    @variable(model, profit_wind);\n",
    "    @variable(model, profit_solar);\n",
    "\n",
    "    \n",
    "    # Maximize welfare including imports costs\n",
    "    @NLobjective(model, Max, sum(data.weights[t] * \n",
    "                        (gross_surplus[t] - costs[t] ) for t=1:T)\n",
    "                    - tech.F[5]*gas_gw  - tech.F[6]*wind_gw - tech.F[7]*solar_gw );\n",
    "\n",
    "    # Market clearing\n",
    "    @constraint(model, [t=1:T], \n",
    "        demand[t] == data.a[t] - data.b[t] * price[t]);\n",
    "    @constraint(model, [t=1:T], \n",
    "        imports[t] == data.am[t] + data.bm[t] * price[t]);\n",
    "    @constraint(model, [t=1:T], \n",
    "        demand[t] == sum(quantity[t,i] for i=1:I) + imports[t]);\n",
    "\n",
    "    # Define surplus\n",
    "    @constraint(model, [t=1:T], gross_surplus[t]==\n",
    "                (data.a[t] - demand[t]) * demand[t] / data.b[t] \n",
    "            + demand[t]^2/(2*data.b[t]));\n",
    "\n",
    "    # Define cost\n",
    "    @constraint(model, [t=1:T], costs[t] ==\n",
    "                    sum(tech.c[i] * quantity[t,i]\n",
    "                    + tech.c2[i] * quantity[t,i]^2/2 for i=1:I)\n",
    "        + (imports[t] - data.am[t])^2/(2 * data.bm[t]))\n",
    "\n",
    "    # Constraints on output\n",
    "    @constraint(model, [t=1:T], \n",
    "        quantity[t,1] <= data.hydronuc[t]);\n",
    "    @constraint(model, [t=1:T,i=2:4], \n",
    "        quantity[t,i] <= tech[i,\"capUB\"]);\n",
    "    @constraint(model, [t=1:T], \n",
    "        quantity[t,5] <= gas_gw);\n",
    "    @constraint(model, [t=1:T], \n",
    "        quantity[t,6] <= wind_gw * data.wind_cap[t]);\n",
    "    @constraint(model, [t=1:T], \n",
    "        quantity[t,7] <= solar_gw * data.solar_cap[t]);\n",
    "\n",
    "    #Definition of profit\n",
    "        @constraint(model, profit_gas == \n",
    "                            sum(data.weights[t]*(price[t] - tech.c[5] - tech.c2[5] * quantity[t,5])*quantity[t,5] for t=1:T) - tech.F[5]*gas_gw );\n",
    "        @constraint(model, profit_wind == \n",
    "                            sum(data.weights[t]*price[t]*quantity[t,6] for t=1:T) - tech.F[6]*wind_gw );\n",
    "        @constraint(model, profit_solar == \n",
    "                            sum(data.weights[t]*price[t]*quantity[t,7]  for t=1:T) - tech.F[7]*solar_gw );\n",
    "    \n",
    "    # Solve model\n",
    "    optimize!(model);\n",
    "\n",
    "    status = @sprintf(\"%s\", JuMP.termination_status(model));\n",
    "\n",
    "    if (status==\"LOCALLY_SOLVED\")\n",
    "        p = JuMP.value.(price);\n",
    "        avg_price = sum(p[t] * data.weights[t]/sum(data.weights) for t=1:T);\n",
    "        q = JuMP.value.(quantity);\n",
    "        imp = JuMP.value.(imports);\n",
    "        d = JuMP.value.(demand);\n",
    "        cost = JuMP.value.(costs);\n",
    "        results = Dict(\"status\" => @sprintf(\"%s\",JuMP.termination_status(model)),\n",
    "            \"avg_price\" => avg_price,\n",
    "            \"price\" => p,\n",
    "            \"quantity\" => q,\n",
    "            \"imports\" => imp,\n",
    "            \"demand\" => d,\n",
    "            \"cost\" => cost,\n",
    "            \"gas_gw\" => JuMP.value.(gas_gw),\n",
    "            \"wind_gw\" => JuMP.value.(wind_gw),\n",
    "            \"solar_gw\" => JuMP.value.(solar_gw),\n",
    "            \"profit_gas\" => JuMP.value.(profit_gas),\n",
    "            \"profit_wind\" => JuMP.value.(profit_wind),\n",
    "            \"profit_solar\" => JuMP.value.(profit_solar));\n",
    "        return results\n",
    "    else\n",
    "        results = Dict(\"status\" => @sprintf(\"%s\",JuMP.termination_status(model)));\n",
    "        return results\n",
    "    end\n",
    "\n",
    "end"
   ]
  },
  {
   "cell_type": "code",
   "execution_count": null,
   "metadata": {},
   "outputs": [],
   "source": [
    "results_min = clear_market_invest(dfclust, tech)"
   ]
  },
  {
   "cell_type": "markdown",
   "metadata": {},
   "source": [
    "## Environmental regulation\n",
    "\n",
    "We will begin by adding carbon taxes to the model.\n",
    "\n"
   ]
  },
  {
   "cell_type": "code",
   "execution_count": null,
   "metadata": {},
   "outputs": [],
   "source": [
    "function clear_market_invest_tax(data::DataFrame, tech::DataFrame,tax=30.0)\n",
    "\n",
    "    # We declare a model\n",
    "    model = Model(\n",
    "        optimizer_with_attributes(\n",
    "            Ipopt.Optimizer, \n",
    "                \"print_level\"=>0)\n",
    "        );\n",
    "\n",
    "    # Set useful indexes\n",
    "    I = nrow(tech);  # number of techs\n",
    "    T = nrow(data);  # number of periods\n",
    "\n",
    "    # Variables to solve for\n",
    "    @variable(model, price[1:T]);\n",
    "    @variable(model, demand[1:T]);\n",
    "    @variable(model, imports[1:T]);\n",
    "    @variable(model, quantity[1:T, 1:I] >= 0);\n",
    "    @variable(model, costs[1:T]);\n",
    "    @variable(model, gross_surplus[1:T]);\n",
    "    @variable(model, gas_gw >= 0.0);\n",
    "    @variable(model, wind_gw >= 0.0);\n",
    "    @variable(model, solar_gw >= 0.0);\n",
    "\n",
    "    # New variable\n",
    "    @variable(model, totale[1:T]);\n",
    "\n",
    "    # Maximize welfare including imports costs\n",
    "    @NLobjective(model, Max, sum(data.weights[t] * \n",
    "                (gross_surplus[t] - costs[t] - tax*totale[t]) for t=1:T)\n",
    "             - tech.F[5]*gas_gw  - tech.F[6]*wind_gw - tech.F[7]*solar_gw );\n",
    "\n",
    "    # Market clearing\n",
    "    @constraint(model, [t=1:T], \n",
    "        demand[t] == data.a[t] - data.b[t] * price[t]);\n",
    "    @constraint(model, [t=1:T], \n",
    "        imports[t] == data.am[t] + data.bm[t] * price[t]);\n",
    "    @constraint(model, [t=1:T], \n",
    "        demand[t] == sum(quantity[t,i] for i=1:I) + imports[t]);\n",
    "\n",
    "    # Define surplus\n",
    "    @constraint(model, [t=1:T], gross_surplus[t]==\n",
    "                (data.a[t] - demand[t]) * demand[t] / data.b[t] \n",
    "            + demand[t]^2/(2*data.b[t]));\n",
    "\n",
    "    # Define cost\n",
    "    @constraint(model, [t=1:T], costs[t] ==\n",
    "                    sum(tech.c[i] * quantity[t,i]\n",
    "                    + tech.c2[i] * quantity[t,i]^2/2 for i=1:I)\n",
    "        + (imports[t] - data.am[t])^2/(2 * data.bm[t]))\n",
    "\n",
    "    # Define emissions \n",
    "    @constraint(model, [t=1:T], totale[t] ==\n",
    "                    sum(tech.e[i] * quantity[t,i] + tech.e2[i] * quantity[t,i]^2 for i=1:I))\n",
    "\n",
    "        # Constraints on output\n",
    "    @constraint(model, [t=1:T], \n",
    "        quantity[t,1] <= data.hydronuc[t]);\n",
    "    @constraint(model, [t=1:T,i=2:4], \n",
    "        quantity[t,i] <= tech[i,\"capUB\"]);\n",
    "    @constraint(model, [t=1:T], \n",
    "        quantity[t,5] <= gas_gw);\n",
    "    @constraint(model, [t=1:T], \n",
    "        quantity[t,6] <= wind_gw * data.wind_cap[t]);\n",
    "    @constraint(model, [t=1:T], \n",
    "        quantity[t,7] <= solar_gw * data.solar_cap[t]);\n",
    "\n",
    "    \n",
    "    # Solve model\n",
    "    optimize!(model);\n",
    "\n",
    "    status = @sprintf(\"%s\", JuMP.termination_status(model));\n",
    "\n",
    "    if (status==\"LOCALLY_SOLVED\")\n",
    "        p = JuMP.value.(price);\n",
    "        avg_price = sum(p[t] * data.weights[t]/sum(data.weights) for t=1:T);\n",
    "        q = JuMP.value.(quantity);\n",
    "        imp = JuMP.value.(imports);\n",
    "        d = JuMP.value.(demand);\n",
    "        cost = JuMP.value.(costs);\n",
    "        totale = JuMP.value.(totale);\n",
    "        avg_emissions = sum(totale[t] * data.weights[t]/sum(data.weights) for t=1:T);\n",
    "        results = Dict(\"status\" => @sprintf(\"%s\",JuMP.termination_status(model)),\n",
    "            \"avg_price\" => avg_price,\n",
    "            \"avg_emissions\" => avg_emissions,\n",
    "            \"price\" => p,\n",
    "            \"quantity\" => q,\n",
    "            \"imports\" => imp,\n",
    "            \"demand\" => d,\n",
    "            \"cost\" => cost,\n",
    "            \"totale\" => totale,\n",
    "            \"gas_gw\" => JuMP.value.(gas_gw),\n",
    "            \"wind_gw\" => JuMP.value.(wind_gw),\n",
    "            \"solar_gw\" => JuMP.value.(solar_gw));\n",
    "        return results\n",
    "    else\n",
    "        results = Dict(\"status\" => @sprintf(\"%s\",JuMP.termination_status(model)));\n",
    "        return results\n",
    "    end\n",
    "\n",
    "end"
   ]
  },
  {
   "cell_type": "code",
   "execution_count": null,
   "metadata": {},
   "outputs": [],
   "source": [
    "results_tax = clear_market_invest_tax(dfclust, tech)"
   ]
  },
  {
   "cell_type": "markdown",
   "metadata": {},
   "source": [
    "Finally, we will add a subsidy to the model. One can think of the subsidy as a negative cost to renewable power. "
   ]
  },
  {
   "cell_type": "code",
   "execution_count": null,
   "metadata": {},
   "outputs": [],
   "source": [
    "function clear_market_invest_subsidy(data::DataFrame, tech::DataFrame; subsidy=20.0, renewable_charge =0.0)\n",
    "\n",
    "    # We declare a model\n",
    "    model = Model(\n",
    "        optimizer_with_attributes(\n",
    "            Ipopt.Optimizer, \n",
    "                \"print_level\"=>0)\n",
    "        );\n",
    "\n",
    "    # Set useful indexes\n",
    "    I = nrow(tech);  # number of techs\n",
    "    T = nrow(data);  # number of periods\n",
    "\n",
    "    # Variables to solve for\n",
    "    @variable(model, price[1:T]);\n",
    "    @variable(model, demand[1:T]);\n",
    "    @variable(model, imports[1:T]);\n",
    "    @variable(model, quantity[1:T, 1:I] >= 0);\n",
    "    @variable(model, costs[1:T]);\n",
    "    @variable(model, gross_surplus[1:T]);\n",
    "    @variable(model, gas_gw >= 0.0);\n",
    "    @variable(model, wind_gw >= 0.0);\n",
    "    @variable(model, solar_gw >= 0.0);\n",
    "\n",
    "    # New variable\n",
    "    @variable(model, totale[1:T]);\n",
    "\n",
    "    # Maximize welfare including imports costs\n",
    "    @NLobjective(model, Max, sum(data.weights[t] * \n",
    "                (gross_surplus[t] - costs[t] ) for t=1:T)\n",
    "             - tech.F[5]*gas_gw  - tech.F[6]*wind_gw - tech.F[7]*solar_gw );\n",
    "\n",
    "    # Market clearing\n",
    "    @constraint(model, [t=1:T], \n",
    "        demand[t] == data.a[t] - data.b[t] * (price[t] + renewable_charge));\n",
    "    @constraint(model, [t=1:T], \n",
    "        imports[t] == data.am[t] + data.bm[t] * price[t]);\n",
    "    @constraint(model, [t=1:T], \n",
    "        demand[t] == sum(quantity[t,i] for i=1:I) + imports[t]);\n",
    "\n",
    "    # Define surplus\n",
    "    @constraint(model, [t=1:T], gross_surplus[t]==\n",
    "                (data.a[t] - demand[t]) * demand[t] / data.b[t] \n",
    "            + demand[t]^2/(2*data.b[t]));\n",
    "\n",
    "    # Define cost\n",
    "    @constraint(model, [t=1:T], costs[t] ==\n",
    "                    sum(tech.c[i] * quantity[t,i]\n",
    "                    + tech.c2[i] * quantity[t,i]^2/2 \n",
    "                    - subsidy * tech.renewable[i] * quantity[t,i] for i=1:I)\n",
    "        + (imports[t] - data.am[t])^2/(2 * data.bm[t]))\n",
    "\n",
    "    # Define emissions \n",
    "    @constraint(model, [t=1:T], totale[t] ==\n",
    "        sum(tech.e[i] * quantity[t,i] + tech.e2[i] * quantity[t,i]^2 for i=1:I))\n",
    "\n",
    "      \n",
    "        # Constraints on output\n",
    "    @constraint(model, [t=1:T], \n",
    "        quantity[t,1] <= data.hydronuc[t]);\n",
    "    @constraint(model, [t=1:T,i=2:4], \n",
    "        quantity[t,i] <= tech[i,\"capUB\"]);\n",
    "    @constraint(model, [t=1:T], \n",
    "        quantity[t,5] <= gas_gw);\n",
    "    @constraint(model, [t=1:T], \n",
    "        quantity[t,6] <= wind_gw * data.wind_cap[t]);\n",
    "    @constraint(model, [t=1:T], \n",
    "        quantity[t,7] <= solar_gw * data.solar_cap[t]);\n",
    "\n",
    "\n",
    "    # Solve model\n",
    "    optimize!(model);\n",
    "\n",
    "    status = @sprintf(\"%s\", JuMP.termination_status(model));\n",
    "\n",
    "    if (status==\"LOCALLY_SOLVED\")\n",
    "        p = JuMP.value.(price);\n",
    "        avg_price = sum(p[t] * data.weights[t]/sum(data.weights) for t=1:T);\n",
    "        q = JuMP.value.(quantity);\n",
    "        imp = JuMP.value.(imports);\n",
    "        d = JuMP.value.(demand);\n",
    "        cost = JuMP.value.(costs);\n",
    "        totale = JuMP.value.(totale);\n",
    "        avg_emissions = sum(totale[t] * data.weights[t]/sum(data.weights) for t=1:T);\n",
    "        subsidy_cost = sum(data.weights[t] * sum(subsidy * q[t,i] for i=6:7) for t=1:T);\n",
    "        results = Dict(\"status\" => @sprintf(\"%s\",JuMP.termination_status(model)),\n",
    "            \"avg_price\" => avg_price,\n",
    "            \"avg_emissions\" => avg_emissions,\n",
    "            \"price\" => p,\n",
    "            \"quantity\" => q,\n",
    "            \"imports\" => imp,\n",
    "            \"demand\" => d,\n",
    "            \"cost\" => cost,\n",
    "            \"totale\" => totale,\n",
    "            \"gas_gw\" => JuMP.value.(gas_gw),\n",
    "            \"wind_gw\" => JuMP.value.(wind_gw),\n",
    "            \"solar_gw\" => JuMP.value.(solar_gw),\n",
    "            \"subsidy_cost\" => subsidy_cost,\n",
    "            \"needed_charge\" => (subsidy_cost/sum(data.weights[t] * d[t] for t=1:T)));\n",
    "        return results\n",
    "    else\n",
    "        results = Dict(\"status\" => @sprintf(\"%s\",JuMP.termination_status(model)));\n",
    "        return results\n",
    "    end\n",
    "\n",
    "end"
   ]
  },
  {
   "cell_type": "code",
   "execution_count": null,
   "metadata": {},
   "outputs": [],
   "source": [
    "results_subsidy = clear_market_invest_subsidy(dfclust, tech)"
   ]
  },
  {
   "cell_type": "markdown",
   "metadata": {},
   "source": [
    "## Computing the renewable charge\n",
    "\n",
    "We would like to add a constraint that states that the subsidies given to firms (solar and wind) need to equal the payments made by consumers with the renewable charges:\n",
    "```\n",
    "    # Subsidy charge \n",
    "    @constraint(model, \n",
    "        sum(data.weights[t] * sum(subsidy * quantity[t,i] for i=6:7) for t=1:T) == renewable_charge * sum(data.weights[t] * demand[t] for t=1:T));\n",
    "```\n",
    "\n",
    "One computational issue is that this is what is called a non-linear equation (`demand` and `renewable_charge` multiply each other, making it harder to compute).\n",
    "\n",
    "It is best to proceed with a search approach for the renewable charge. We will code it with a simple loop here (akin to the visual search we saw last week)."
   ]
  },
  {
   "cell_type": "markdown",
   "metadata": {},
   "source": [
    "We get intuition first without making it a function."
   ]
  },
  {
   "cell_type": "code",
   "execution_count": null,
   "metadata": {},
   "outputs": [],
   "source": [
    "current_diff = 1.0;\n",
    "    guess = 5.0;\n",
    "    while (current_diff > 1e-2)\n",
    "        res = clear_market_invest_subsidy(dfclust, tech, renewable_charge=guess, subsidy=20.0);\n",
    "        newguess = res[\"needed_charge\"];\n",
    "        current_diff = (guess-newguess).^2;\n",
    "        guess = newguess;\n",
    "    end\n",
    "    "
   ]
  },
  {
   "cell_type": "code",
   "execution_count": null,
   "metadata": {},
   "outputs": [],
   "source": [
    "guess"
   ]
  },
  {
   "cell_type": "markdown",
   "metadata": {},
   "source": [
    "The result is telling us that the renewable charge should be about $8.643 per MWh consumed, we have found an equilibrium."
   ]
  },
  {
   "cell_type": "code",
   "execution_count": null,
   "metadata": {},
   "outputs": [],
   "source": [
    "res = clear_market_invest_subsidy(dfclust, tech, renewable_charge=8.965, subsidy=20.0)"
   ]
  },
  {
   "cell_type": "markdown",
   "metadata": {},
   "source": [
    "### Making it into a function\n",
    "\n",
    "We create a function that will do the loop and return the optimal solution."
   ]
  },
  {
   "cell_type": "code",
   "execution_count": null,
   "metadata": {},
   "outputs": [],
   "source": [
    "function clear_market_equilibrium(data::DataFrame, tech::DataFrame; \n",
    "     subsidy=0.0, renewable_charge=0.0)\n",
    "\n",
    "    current_diff = 1.0;\n",
    "    guess = subsidy/2.0;\n",
    "    while (current_diff > 1e-2)\n",
    "        res = clear_market_invest_subsidy(data, tech,  subsidy=subsidy, renewable_charge= guess);\n",
    "        newguess = res[\"needed_charge\"];\n",
    "        current_diff = (guess-newguess).^2;\n",
    "        guess = newguess\n",
    "    end\n",
    "\n",
    "    # we solve at the equilibrium to return results\n",
    "    res = clear_market_invest_subsidy(data, tech,\n",
    "             subsidy=subsidy, renewable_charge=guess);\n",
    "\n",
    "    return res\n",
    "\n",
    "end"
   ]
  },
  {
   "cell_type": "code",
   "execution_count": null,
   "metadata": {},
   "outputs": [],
   "source": [
    "res_eq = clear_market_equilibrium(dfclust,tech, subsidy=10.0,renewable_charge=10.0)"
   ]
  },
  {
   "cell_type": "markdown",
   "metadata": {},
   "source": [
    "## Follow-up exercises\n",
    "\n",
    "1. Consider a tax and a subsidy that reach the same target of emissions. What are the different costs? How are the different components of welfare affected?\n",
    "\n",
    "Note: This will require you to include emissions as an input or an output to the function."
   ]
  }
 ],
 "metadata": {
  "kernelspec": {
   "display_name": "Julia 1.9.2",
   "language": "julia",
   "name": "julia-1.9"
  },
  "language_info": {
   "file_extension": ".jl",
   "mimetype": "application/julia",
   "name": "julia",
   "version": "1.9.2"
  }
 },
 "nbformat": 4,
 "nbformat_minor": 2
}
