{
 "cells": [
  {
   "cell_type": "markdown",
   "metadata": {},
   "source": [
    "# Day 3: Supply II - Enhancing the model\n",
    "\n",
    "We will continue our modeling exercise by adding carbon taxes, renewable subsidies, and investment to the model.\n",
    "\n",
    "This will allow us to consider the policy impacts of alternative energy transition policies.\n",
    "\n",
    "The data and code are based on the paper \"The Efficiency and Sectoral Distributional Implications of Large-Scale Renewable Policies,\" by Mar Reguant."
   ]
  },
  {
   "cell_type": "markdown",
   "metadata": {},
   "source": [
    "We first load relevant libraries, same as last session."
   ]
  },
  {
   "cell_type": "code",
   "execution_count": 3,
   "metadata": {},
   "outputs": [],
   "source": [
    "#using Pkg\n",
    "#Pkg.add([\"DataFrames\", \"CSV\", \"JuMP\", \"Ipopt\", \"Plots\", \"Printf\"])\n"
   ]
  },
  {
   "cell_type": "code",
   "execution_count": 4,
   "metadata": {},
   "outputs": [],
   "source": [
    "using DataFrames\n",
    "using CSV\n",
    "using JuMP\n",
    "using Ipopt\n",
    "using Plots\n",
    "using Printf"
   ]
  },
  {
   "cell_type": "markdown",
   "metadata": {},
   "source": [
    "Remember to set your path correctly:"
   ]
  },
  {
   "cell_type": "markdown",
   "metadata": {},
   "source": [
    "## Building the model\n",
    "\n",
    "We load the same data as last week, and also clean it up to simplify it further and create the demand and import curves."
   ]
  },
  {
   "cell_type": "code",
   "execution_count": 5,
   "metadata": {},
   "outputs": [],
   "source": [
    "dfclust = CSV.read(\"data_jaere_clustered_500.csv\", DataFrame);\n",
    "\n",
    "# Re-scaling (we multiply by 8.76 to make it into a full year of hours (divided by 1000))\n",
    "dfclust.weights = 8.76 * dfclust.weights / sum(dfclust.weights);\n",
    "\n",
    "# Here only one demand type to make it easier\n",
    "dfclust.demand = dfclust.q_residential + dfclust.q_commercial + dfclust.q_industrial;\n",
    "\n",
    "# Calibrate demand based on elasticities (using 0.1 here as only one final demand)\n",
    "elas = [.1, .2, .5, .3];\n",
    "dfclust.b = elas[1] * dfclust.demand ./ dfclust.price;  # slope\n",
    "dfclust.a = dfclust.demand + dfclust.b .* dfclust.price;  # intercept\n",
    "\n",
    "# Calibrate imports (using elas 0.3)\n",
    "dfclust.bm = elas[4] * dfclust.imports ./ dfclust.price;  # slope\n",
    "dfclust.am = dfclust.imports - dfclust.bm .* dfclust.price;  # intercept"
   ]
  },
  {
   "cell_type": "code",
   "execution_count": 26,
   "metadata": {},
   "outputs": [
    {
     "data": {
      "text/html": [
       "<table class=\"data-frame\"><thead><tr><th></th><th>price</th><th>imports</th><th>q_commercial</th><th>q_industrial</th><th>q_residential</th><th>wind_cap</th><th>solar_cap</th></tr><tr><th></th><th>Float64</th><th>Float64</th><th>Float64</th><th>Float64</th><th>Float64</th><th>Float64</th><th>Float64</th></tr></thead><tbody><p>500 rows × 14 columns (omitted printing of 7 columns)</p><tr><th>1</th><td>47.4484</td><td>9.39537</td><td>19.7026</td><td>3.88848</td><td>12.9976</td><td>0.227655</td><td>0.669076</td></tr><tr><th>2</th><td>32.6478</td><td>8.60231</td><td>10.4654</td><td>3.5081</td><td>11.7395</td><td>0.369588</td><td>0.00484255</td></tr><tr><th>3</th><td>30.2033</td><td>7.53693</td><td>14.3369</td><td>3.22852</td><td>9.54468</td><td>0.0924152</td><td>0.110296</td></tr><tr><th>4</th><td>42.3501</td><td>7.04916</td><td>15.1294</td><td>6.03778</td><td>8.79985</td><td>0.210081</td><td>0.72881</td></tr><tr><th>5</th><td>35.9848</td><td>5.19763</td><td>9.48416</td><td>3.44022</td><td>9.57441</td><td>0.517585</td><td>0.40288</td></tr><tr><th>6</th><td>25.6185</td><td>7.50538</td><td>13.5399</td><td>4.95729</td><td>7.51179</td><td>0.0998095</td><td>0.433466</td></tr><tr><th>7</th><td>33.8859</td><td>8.27999</td><td>15.2935</td><td>4.91894</td><td>6.21909</td><td>0.595772</td><td>0.00212942</td></tr><tr><th>8</th><td>54.2729</td><td>8.74016</td><td>10.9945</td><td>3.7498</td><td>12.6627</td><td>0.486594</td><td>0.0185694</td></tr><tr><th>9</th><td>34.9291</td><td>10.0313</td><td>14.2391</td><td>3.70911</td><td>18.1411</td><td>0.487055</td><td>0.0341828</td></tr><tr><th>10</th><td>42.4744</td><td>7.4433</td><td>11.4445</td><td>3.09278</td><td>13.5281</td><td>0.495523</td><td>0.00281124</td></tr><tr><th>11</th><td>46.9347</td><td>9.89197</td><td>11.8725</td><td>3.17904</td><td>13.1296</td><td>0.666791</td><td>0.00471005</td></tr><tr><th>12</th><td>47.3599</td><td>8.47888</td><td>16.8908</td><td>6.65177</td><td>12.6586</td><td>0.203588</td><td>0.750108</td></tr><tr><th>13</th><td>24.3625</td><td>6.09593</td><td>13.5272</td><td>4.6018</td><td>8.19466</td><td>0.101614</td><td>0.237122</td></tr><tr><th>14</th><td>34.0768</td><td>6.23296</td><td>9.86546</td><td>2.78517</td><td>10.7452</td><td>0.183473</td><td>0.384374</td></tr><tr><th>15</th><td>40.4209</td><td>4.96928</td><td>17.1757</td><td>5.93935</td><td>4.24014</td><td>0.11684</td><td>0.557374</td></tr><tr><th>16</th><td>42.7348</td><td>4.42898</td><td>13.3899</td><td>4.39127</td><td>8.70582</td><td>0.242965</td><td>0.0735314</td></tr><tr><th>17</th><td>38.7897</td><td>9.63383</td><td>18.8353</td><td>3.97473</td><td>10.562</td><td>0.200851</td><td>0.519939</td></tr><tr><th>18</th><td>24.9029</td><td>9.30352</td><td>15.0258</td><td>3.89876</td><td>8.65999</td><td>0.522379</td><td>0.296127</td></tr><tr><th>19</th><td>39.2039</td><td>7.63736</td><td>17.2317</td><td>4.01345</td><td>9.78268</td><td>0.303801</td><td>0.618113</td></tr><tr><th>20</th><td>27.5417</td><td>9.267</td><td>12.9033</td><td>3.3282</td><td>13.0057</td><td>0.756852</td><td>0.0200737</td></tr><tr><th>21</th><td>42.5811</td><td>8.7179</td><td>11.194</td><td>4.26704</td><td>11.972</td><td>0.756054</td><td>0.0115525</td></tr><tr><th>22</th><td>9.57332</td><td>5.04542</td><td>9.30926</td><td>2.52509</td><td>8.45569</td><td>0.260906</td><td>0.00436495</td></tr><tr><th>23</th><td>23.1859</td><td>4.54899</td><td>9.83121</td><td>2.80839</td><td>8.74344</td><td>0.0987488</td><td>0.000387074</td></tr><tr><th>24</th><td>41.0036</td><td>7.57024</td><td>13.977</td><td>5.35196</td><td>8.62934</td><td>0.663437</td><td>0.418917</td></tr><tr><th>&vellip;</th><td>&vellip;</td><td>&vellip;</td><td>&vellip;</td><td>&vellip;</td><td>&vellip;</td><td>&vellip;</td><td>&vellip;</td></tr></tbody></table>"
      ],
      "text/latex": [
       "\\begin{tabular}{r|cccccccc}\n",
       "\t& price & imports & q\\_commercial & q\\_industrial & q\\_residential & wind\\_cap & solar\\_cap & \\\\\n",
       "\t\\hline\n",
       "\t& Float64 & Float64 & Float64 & Float64 & Float64 & Float64 & Float64 & \\\\\n",
       "\t\\hline\n",
       "\t1 & 47.4484 & 9.39537 & 19.7026 & 3.88848 & 12.9976 & 0.227655 & 0.669076 & $\\dots$ \\\\\n",
       "\t2 & 32.6478 & 8.60231 & 10.4654 & 3.5081 & 11.7395 & 0.369588 & 0.00484255 & $\\dots$ \\\\\n",
       "\t3 & 30.2033 & 7.53693 & 14.3369 & 3.22852 & 9.54468 & 0.0924152 & 0.110296 & $\\dots$ \\\\\n",
       "\t4 & 42.3501 & 7.04916 & 15.1294 & 6.03778 & 8.79985 & 0.210081 & 0.72881 & $\\dots$ \\\\\n",
       "\t5 & 35.9848 & 5.19763 & 9.48416 & 3.44022 & 9.57441 & 0.517585 & 0.40288 & $\\dots$ \\\\\n",
       "\t6 & 25.6185 & 7.50538 & 13.5399 & 4.95729 & 7.51179 & 0.0998095 & 0.433466 & $\\dots$ \\\\\n",
       "\t7 & 33.8859 & 8.27999 & 15.2935 & 4.91894 & 6.21909 & 0.595772 & 0.00212942 & $\\dots$ \\\\\n",
       "\t8 & 54.2729 & 8.74016 & 10.9945 & 3.7498 & 12.6627 & 0.486594 & 0.0185694 & $\\dots$ \\\\\n",
       "\t9 & 34.9291 & 10.0313 & 14.2391 & 3.70911 & 18.1411 & 0.487055 & 0.0341828 & $\\dots$ \\\\\n",
       "\t10 & 42.4744 & 7.4433 & 11.4445 & 3.09278 & 13.5281 & 0.495523 & 0.00281124 & $\\dots$ \\\\\n",
       "\t11 & 46.9347 & 9.89197 & 11.8725 & 3.17904 & 13.1296 & 0.666791 & 0.00471005 & $\\dots$ \\\\\n",
       "\t12 & 47.3599 & 8.47888 & 16.8908 & 6.65177 & 12.6586 & 0.203588 & 0.750108 & $\\dots$ \\\\\n",
       "\t13 & 24.3625 & 6.09593 & 13.5272 & 4.6018 & 8.19466 & 0.101614 & 0.237122 & $\\dots$ \\\\\n",
       "\t14 & 34.0768 & 6.23296 & 9.86546 & 2.78517 & 10.7452 & 0.183473 & 0.384374 & $\\dots$ \\\\\n",
       "\t15 & 40.4209 & 4.96928 & 17.1757 & 5.93935 & 4.24014 & 0.11684 & 0.557374 & $\\dots$ \\\\\n",
       "\t16 & 42.7348 & 4.42898 & 13.3899 & 4.39127 & 8.70582 & 0.242965 & 0.0735314 & $\\dots$ \\\\\n",
       "\t17 & 38.7897 & 9.63383 & 18.8353 & 3.97473 & 10.562 & 0.200851 & 0.519939 & $\\dots$ \\\\\n",
       "\t18 & 24.9029 & 9.30352 & 15.0258 & 3.89876 & 8.65999 & 0.522379 & 0.296127 & $\\dots$ \\\\\n",
       "\t19 & 39.2039 & 7.63736 & 17.2317 & 4.01345 & 9.78268 & 0.303801 & 0.618113 & $\\dots$ \\\\\n",
       "\t20 & 27.5417 & 9.267 & 12.9033 & 3.3282 & 13.0057 & 0.756852 & 0.0200737 & $\\dots$ \\\\\n",
       "\t21 & 42.5811 & 8.7179 & 11.194 & 4.26704 & 11.972 & 0.756054 & 0.0115525 & $\\dots$ \\\\\n",
       "\t22 & 9.57332 & 5.04542 & 9.30926 & 2.52509 & 8.45569 & 0.260906 & 0.00436495 & $\\dots$ \\\\\n",
       "\t23 & 23.1859 & 4.54899 & 9.83121 & 2.80839 & 8.74344 & 0.0987488 & 0.000387074 & $\\dots$ \\\\\n",
       "\t24 & 41.0036 & 7.57024 & 13.977 & 5.35196 & 8.62934 & 0.663437 & 0.418917 & $\\dots$ \\\\\n",
       "\t$\\dots$ & $\\dots$ & $\\dots$ & $\\dots$ & $\\dots$ & $\\dots$ & $\\dots$ & $\\dots$ &  \\\\\n",
       "\\end{tabular}\n"
      ],
      "text/plain": [
       "\u001b[1m500×14 DataFrame\u001b[0m\n",
       "\u001b[1m Row \u001b[0m│\u001b[1m price    \u001b[0m\u001b[1m imports  \u001b[0m\u001b[1m q_commercial \u001b[0m\u001b[1m q_industrial \u001b[0m\u001b[1m q_residential \u001b[0m\u001b[1m wind_cap\u001b[0m ⋯\n",
       "\u001b[1m     \u001b[0m│\u001b[90m Float64  \u001b[0m\u001b[90m Float64  \u001b[0m\u001b[90m Float64      \u001b[0m\u001b[90m Float64      \u001b[0m\u001b[90m Float64       \u001b[0m\u001b[90m Float64 \u001b[0m ⋯\n",
       "─────┼──────────────────────────────────────────────────────────────────────────\n",
       "   1 │  47.4484   9.39537      19.7026        3.88848       12.9976   0.227655 ⋯\n",
       "   2 │  32.6478   8.60231      10.4654        3.5081        11.7395   0.369588\n",
       "   3 │  30.2033   7.53693      14.3369        3.22852        9.54468  0.092415\n",
       "   4 │  42.3501   7.04916      15.1294        6.03778        8.79985  0.210081\n",
       "   5 │  35.9848   5.19763       9.48416       3.44022        9.57441  0.517585 ⋯\n",
       "   6 │  25.6185   7.50538      13.5399        4.95729        7.51179  0.099809\n",
       "   7 │  33.8859   8.27999      15.2935        4.91894        6.21909  0.595772\n",
       "   8 │  54.2729   8.74016      10.9945        3.7498        12.6627   0.486594\n",
       "  ⋮  │    ⋮         ⋮           ⋮             ⋮              ⋮            ⋮    ⋱\n",
       " 494 │  46.7479   8.45914      10.5993        3.13385       15.3105   0.068965 ⋯\n",
       " 495 │  33.2368   8.83113      10.226         4.4951         9.05266  0.529705\n",
       " 496 │  43.9379   4.97394      13.3282        5.07687        7.90433  0.350642\n",
       " 497 │  49.4018   8.98827      17.6233        3.73098        9.35556  0.47216\n",
       " 498 │ 140.906    3.26055      11.4648        4.09834       11.5595   0.340168 ⋯\n",
       " 499 │  40.3593   6.29413       9.69743       3.26704        9.23952  0.633091\n",
       " 500 │  47.7339   7.04726      10.5519        3.94882       11.4241   0.124844\n",
       "\u001b[36m                                                  9 columns and 485 rows omitted\u001b[0m"
      ]
     },
     "metadata": {},
     "output_type": "display_data"
    }
   ],
   "source": [
    "dfclust"
   ]
  },
  {
   "cell_type": "markdown",
   "metadata": {},
   "source": [
    "The technology file now includes the fixed cost of building new power plants (technologies 3-5). Note that we added an additional row for new natural gas plants."
   ]
  },
  {
   "cell_type": "markdown",
   "metadata": {},
   "source": [
    "We will use an annualization factor to pro-rate the importance of fixed costs for one year."
   ]
  },
  {
   "cell_type": "code",
   "execution_count": 6,
   "metadata": {},
   "outputs": [
    {
     "data": {
      "text/html": [
       "<table class=\"data-frame\"><thead><tr><th></th><th>techname</th><th>heatrate</th><th>heatrate2</th><th>F</th><th>capLB</th><th>capUB</th><th>new</th><th>renewable</th></tr><tr><th></th><th>String15</th><th>Float64</th><th>Float64</th><th>Float64</th><th>Float64</th><th>Float64</th><th>Int64</th><th>Int64</th></tr></thead><tbody><p>7 rows × 15 columns (omitted printing of 7 columns)</p><tr><th>1</th><td>Hydro/Nuclear</td><td>10.0</td><td>0.0</td><td>0.0</td><td>1.0</td><td>1.0</td><td>0</td><td>0</td></tr><tr><th>2</th><td>Existing 1</td><td>6.67199</td><td>0.0929123</td><td>0.0</td><td>11.5</td><td>11.5</td><td>0</td><td>0</td></tr><tr><th>3</th><td>Existing 2</td><td>9.79412</td><td>0.286247</td><td>0.0</td><td>14.5</td><td>14.5</td><td>0</td><td>0</td></tr><tr><th>4</th><td>Existing 3</td><td>13.8181</td><td>20.5352</td><td>0.0</td><td>0.578</td><td>0.578</td><td>0</td><td>0</td></tr><tr><th>5</th><td>New Gas</td><td>6.6</td><td>0.0</td><td>78.4773</td><td>0.0</td><td>100.0</td><td>1</td><td>0</td></tr><tr><th>6</th><td>Wind</td><td>0.0</td><td>0.0</td><td>100.303</td><td>0.0</td><td>100.0</td><td>1</td><td>1</td></tr><tr><th>7</th><td>Solar</td><td>0.0</td><td>0.0</td><td>100.303</td><td>0.0</td><td>100.0</td><td>1</td><td>1</td></tr></tbody></table>"
      ],
      "text/latex": [
       "\\begin{tabular}{r|ccccccccc}\n",
       "\t& techname & heatrate & heatrate2 & F & capLB & capUB & new & renewable & \\\\\n",
       "\t\\hline\n",
       "\t& String15 & Float64 & Float64 & Float64 & Float64 & Float64 & Int64 & Int64 & \\\\\n",
       "\t\\hline\n",
       "\t1 & Hydro/Nuclear & 10.0 & 0.0 & 0.0 & 1.0 & 1.0 & 0 & 0 & $\\dots$ \\\\\n",
       "\t2 & Existing 1 & 6.67199 & 0.0929123 & 0.0 & 11.5 & 11.5 & 0 & 0 & $\\dots$ \\\\\n",
       "\t3 & Existing 2 & 9.79412 & 0.286247 & 0.0 & 14.5 & 14.5 & 0 & 0 & $\\dots$ \\\\\n",
       "\t4 & Existing 3 & 13.8181 & 20.5352 & 0.0 & 0.578 & 0.578 & 0 & 0 & $\\dots$ \\\\\n",
       "\t5 & New Gas & 6.6 & 0.0 & 78.4773 & 0.0 & 100.0 & 1 & 0 & $\\dots$ \\\\\n",
       "\t6 & Wind & 0.0 & 0.0 & 100.303 & 0.0 & 100.0 & 1 & 1 & $\\dots$ \\\\\n",
       "\t7 & Solar & 0.0 & 0.0 & 100.303 & 0.0 & 100.0 & 1 & 1 & $\\dots$ \\\\\n",
       "\\end{tabular}\n"
      ],
      "text/plain": [
       "\u001b[1m7×15 DataFrame\u001b[0m\n",
       "\u001b[1m Row \u001b[0m│\u001b[1m techname      \u001b[0m\u001b[1m heatrate \u001b[0m\u001b[1m heatrate2  \u001b[0m\u001b[1m F        \u001b[0m\u001b[1m capLB   \u001b[0m\u001b[1m capUB   \u001b[0m\u001b[1m new   \u001b[0m\u001b[1m\u001b[0m ⋯\n",
       "\u001b[1m     \u001b[0m│\u001b[90m String15      \u001b[0m\u001b[90m Float64  \u001b[0m\u001b[90m Float64    \u001b[0m\u001b[90m Float64  \u001b[0m\u001b[90m Float64 \u001b[0m\u001b[90m Float64 \u001b[0m\u001b[90m Int64 \u001b[0m\u001b[90m\u001b[0m ⋯\n",
       "─────┼──────────────────────────────────────────────────────────────────────────\n",
       "   1 │ Hydro/Nuclear  10.0       0.0          0.0       1.0      1.0        0  ⋯\n",
       "   2 │ Existing 1      6.67199   0.0929123    0.0      11.5     11.5        0\n",
       "   3 │ Existing 2      9.79412   0.286247     0.0      14.5     14.5        0\n",
       "   4 │ Existing 3     13.8181   20.5352       0.0       0.578    0.578      0\n",
       "   5 │ New Gas         6.6       0.0         78.4773    0.0    100.0        1  ⋯\n",
       "   6 │ Wind            0.0       0.0        100.303     0.0    100.0        1\n",
       "   7 │ Solar           0.0       0.0        100.303     0.0    100.0        1\n",
       "\u001b[36m                                                               8 columns omitted\u001b[0m"
      ]
     },
     "metadata": {},
     "output_type": "display_data"
    }
   ],
   "source": [
    "tech = CSV.read(\"data_technology.csv\", DataFrame);\n",
    "afactor = (1 - (1 / (1.05^20.0))) / 0.05;\n",
    "tech.F = tech.F ./afactor;\n",
    "tech.F2 = tech.F2 ./afactor;\n",
    "tech\n",
    "\n"
   ]
  },
  {
   "cell_type": "code",
   "execution_count": 12,
   "metadata": {},
   "outputs": [
    {
     "data": {
      "text/html": [
       "<table class=\"data-frame\"><thead><tr><th></th><th>variable</th><th>mean</th><th>min</th><th>median</th><th>max</th><th>nmissing</th><th>eltype</th></tr><tr><th></th><th>Symbol</th><th>Union…</th><th>Any</th><th>Union…</th><th>Any</th><th>Int64</th><th>DataType</th></tr></thead><tbody><p>15 rows × 7 columns</p><tr><th>1</th><td>techname</td><td></td><td>Existing 1</td><td></td><td>Wind</td><td>0</td><td>String15</td></tr><tr><th>2</th><td>heatrate</td><td>6.69775</td><td>0.0</td><td>6.67199</td><td>13.8181</td><td>0</td><td>Float64</td></tr><tr><th>3</th><td>heatrate2</td><td>2.98776</td><td>0.0</td><td>0.0</td><td>20.5352</td><td>0</td><td>Float64</td></tr><tr><th>4</th><td>F</td><td>39.8691</td><td>0.0</td><td>0.0</td><td>100.303</td><td>0</td><td>Float64</td></tr><tr><th>5</th><td>capLB</td><td>3.93971</td><td>0.0</td><td>0.578</td><td>14.5</td><td>0</td><td>Float64</td></tr><tr><th>6</th><td>capUB</td><td>46.7969</td><td>0.578</td><td>14.5</td><td>100.0</td><td>0</td><td>Float64</td></tr><tr><th>7</th><td>new</td><td>0.428571</td><td>0</td><td>0.0</td><td>1</td><td>0</td><td>Int64</td></tr><tr><th>8</th><td>renewable</td><td>0.285714</td><td>0</td><td>0.0</td><td>1</td><td>0</td><td>Int64</td></tr><tr><th>9</th><td>solar</td><td>0.142857</td><td>0</td><td>0.0</td><td>1</td><td>0</td><td>Int64</td></tr><tr><th>10</th><td>thermal</td><td>0.571429</td><td>0</td><td>1.0</td><td>1</td><td>0</td><td>Int64</td></tr><tr><th>11</th><td>e</td><td>0.296155</td><td>0.0</td><td>0.35</td><td>0.816768</td><td>0</td><td>Float64</td></tr><tr><th>12</th><td>e2</td><td>0.0357771</td><td>0.0</td><td>0.0</td><td>0.234476</td><td>0</td><td>Float64</td></tr><tr><th>13</th><td>c</td><td>19.9067</td><td>0.0</td><td>23.352</td><td>48.3634</td><td>0</td><td>Float64</td></tr><tr><th>14</th><td>c2</td><td>10.5036</td><td>0.0</td><td>0.325193</td><td>71.8731</td><td>0</td><td>Float64</td></tr><tr><th>15</th><td>F2</td><td>0.797382</td><td>0.0</td><td>0.0</td><td>2.00606</td><td>0</td><td>Float64</td></tr></tbody></table>"
      ],
      "text/latex": [
       "\\begin{tabular}{r|ccccccc}\n",
       "\t& variable & mean & min & median & max & nmissing & eltype\\\\\n",
       "\t\\hline\n",
       "\t& Symbol & Union… & Any & Union… & Any & Int64 & DataType\\\\\n",
       "\t\\hline\n",
       "\t1 & techname &  & Existing 1 &  & Wind & 0 & String15 \\\\\n",
       "\t2 & heatrate & 6.69775 & 0.0 & 6.67199 & 13.8181 & 0 & Float64 \\\\\n",
       "\t3 & heatrate2 & 2.98776 & 0.0 & 0.0 & 20.5352 & 0 & Float64 \\\\\n",
       "\t4 & F & 39.8691 & 0.0 & 0.0 & 100.303 & 0 & Float64 \\\\\n",
       "\t5 & capLB & 3.93971 & 0.0 & 0.578 & 14.5 & 0 & Float64 \\\\\n",
       "\t6 & capUB & 46.7969 & 0.578 & 14.5 & 100.0 & 0 & Float64 \\\\\n",
       "\t7 & new & 0.428571 & 0 & 0.0 & 1 & 0 & Int64 \\\\\n",
       "\t8 & renewable & 0.285714 & 0 & 0.0 & 1 & 0 & Int64 \\\\\n",
       "\t9 & solar & 0.142857 & 0 & 0.0 & 1 & 0 & Int64 \\\\\n",
       "\t10 & thermal & 0.571429 & 0 & 1.0 & 1 & 0 & Int64 \\\\\n",
       "\t11 & e & 0.296155 & 0.0 & 0.35 & 0.816768 & 0 & Float64 \\\\\n",
       "\t12 & e2 & 0.0357771 & 0.0 & 0.0 & 0.234476 & 0 & Float64 \\\\\n",
       "\t13 & c & 19.9067 & 0.0 & 23.352 & 48.3634 & 0 & Float64 \\\\\n",
       "\t14 & c2 & 10.5036 & 0.0 & 0.325193 & 71.8731 & 0 & Float64 \\\\\n",
       "\t15 & F2 & 0.797382 & 0.0 & 0.0 & 2.00606 & 0 & Float64 \\\\\n",
       "\\end{tabular}\n"
      ],
      "text/plain": [
       "\u001b[1m15×7 DataFrame\u001b[0m\n",
       "\u001b[1m Row \u001b[0m│\u001b[1m variable  \u001b[0m\u001b[1m mean      \u001b[0m\u001b[1m min        \u001b[0m\u001b[1m median   \u001b[0m\u001b[1m max      \u001b[0m\u001b[1m nmissing \u001b[0m\u001b[1m eltype \u001b[0m ⋯\n",
       "\u001b[1m     \u001b[0m│\u001b[90m Symbol    \u001b[0m\u001b[90m Union…    \u001b[0m\u001b[90m Any        \u001b[0m\u001b[90m Union…   \u001b[0m\u001b[90m Any      \u001b[0m\u001b[90m Int64    \u001b[0m\u001b[90m DataTyp\u001b[0m ⋯\n",
       "─────┼──────────────────────────────────────────────────────────────────────────\n",
       "   1 │ techname  \u001b[90m           \u001b[0m Existing 1 \u001b[90m          \u001b[0m Wind             0  String1 ⋯\n",
       "   2 │ heatrate   6.69775    0.0         6.67199   13.8181          0  Float64\n",
       "   3 │ heatrate2  2.98776    0.0         0.0       20.5352          0  Float64\n",
       "   4 │ F          39.8691    0.0         0.0       100.303          0  Float64\n",
       "   5 │ capLB      3.93971    0.0         0.578     14.5             0  Float64 ⋯\n",
       "   6 │ capUB      46.7969    0.578       14.5      100.0            0  Float64\n",
       "   7 │ new        0.428571   0           0.0       1                0  Int64\n",
       "   8 │ renewable  0.285714   0           0.0       1                0  Int64\n",
       "   9 │ solar      0.142857   0           0.0       1                0  Int64   ⋯\n",
       "  10 │ thermal    0.571429   0           1.0       1                0  Int64\n",
       "  11 │ e          0.296155   0.0         0.35      0.816768         0  Float64\n",
       "  12 │ e2         0.0357771  0.0         0.0       0.234476         0  Float64\n",
       "  13 │ c          19.9067    0.0         23.352    48.3634          0  Float64 ⋯\n",
       "  14 │ c2         10.5036    0.0         0.325193  71.8731          0  Float64\n",
       "  15 │ F2         0.797382   0.0         0.0       2.00606          0  Float64\n",
       "\u001b[36m                                                                1 column omitted\u001b[0m"
      ]
     },
     "metadata": {},
     "output_type": "display_data"
    }
   ],
   "source": [
    "describe(tech)"
   ]
  },
  {
   "cell_type": "markdown",
   "metadata": {},
   "source": [
    "### Adding investment\n",
    "\n",
    "We are now ready to clear the market. We will **maximize welfare** using a non-linear solver.\n",
    "\n",
    "$$ \\max \\ CS - Costs - Fixed Costs \\\\\n",
    "\n",
    "\\text{s.t.} \\ \\text{operational constraints, market clearing}. $$\n",
    "\n",
    "Notice that we added the fixed costs to the problem, as we will be solving for the optimal level of wind and solar investment."
   ]
  },
  {
   "cell_type": "code",
   "execution_count": 10,
   "metadata": {},
   "outputs": [
    {
     "data": {
      "text/plain": [
       "clear_market_invest (generic function with 1 method)"
      ]
     },
     "metadata": {},
     "output_type": "display_data"
    }
   ],
   "source": [
    "## Clear market based on cost minimization\n",
    "function clear_market_invest(data::DataFrame, tech::DataFrame)\n",
    "\n",
    "    # We declare a model\n",
    "    model = Model(\n",
    "        optimizer_with_attributes(\n",
    "            Ipopt.Optimizer, \n",
    "                \"print_level\"=>0)\n",
    "        );\n",
    "\n",
    "    # Set useful indexes\n",
    "    I = nrow(tech);  # number of techs\n",
    "    T = nrow(data);  # number of periods\n",
    "\n",
    "    \n",
    "    # Variables to solve for\n",
    "    @variable(model, price[1:T]);\n",
    "    @variable(model, demand[1:T]);\n",
    "    @variable(model, imports[1:T]);\n",
    "    @variable(model, quantity[1:T, 1:I] >= 0);\n",
    "    @variable(model, costs[1:T]);\n",
    "    @variable(model, gross_surplus[1:T]);\n",
    "    @variable(model, gas_gw >= 0.0);\n",
    "    @variable(model, wind_gw >= 0.0);\n",
    "    @variable(model, solar_gw >= 0.0);\n",
    "\n",
    "    \n",
    "    # Maximize welfare including imports costs\n",
    "    @NLobjective(model, Max, sum(data.weights[t] * \n",
    "                (gross_surplus[t] - costs[t] - ) for t=1:T)\n",
    "             - tech.F[5]*gas_gw  - tech.F[6]*wind_gw - tech.F[7]*solar_gw \n",
    "             - tech.F2[5]*gas_gw^2  - tech.F2[6]*wind_gw^2 - tech.F2[7]*solar_gw^2);\n",
    "\n",
    "    # Market clearing\n",
    "    @constraint(model, [t=1:T], \n",
    "        demand[t] == data.a[t] - data.b[t] * price[t]);\n",
    "    @constraint(model, [t=1:T], \n",
    "        imports[t] == data.am[t] + data.bm[t] * price[t]);\n",
    "    @constraint(model, [t=1:T], \n",
    "        demand[t] == sum(quantity[t,i] for i=1:I) + imports[t]);\n",
    "\n",
    "    # Define surplus\n",
    "    @constraint(model, [t=1:T], gross_surplus[t]==\n",
    "                (data.a[t] - demand[t]) * demand[t] / data.b[t] \n",
    "            + demand[t]^2/(2*data.b[t]));\n",
    "\n",
    "    # Define cost\n",
    "    @constraint(model, [t=1:T], costs[t] ==\n",
    "                    sum(tech.c[i] * quantity[t,i]\n",
    "                    + tech.c2[i] * quantity[t,i]^2/2 for i=1:I)\n",
    "        + (imports[t] - data.am[t])^2/(2 * data.bm[t]))\n",
    "\n",
    "    # Constraints on output\n",
    "    @constraint(model, [t=1:T], \n",
    "        quantity[t,1] <= data.hydronuc[t]);\n",
    "    @constraint(model, [t=1:T,i=2:4], \n",
    "        quantity[t,i] <= tech[i,\"capUB\"]);\n",
    "    @constraint(model, [t=1:T], \n",
    "        quantity[t,5] <= gas_gw);\n",
    "    @constraint(model, [t=1:T], \n",
    "        quantity[t,6] <= wind_gw * data.wind_cap[t]);\n",
    "    @constraint(model, [t=1:T], \n",
    "        quantity[t,7] <= solar_gw * data.solar_cap[t]);\n",
    "\n",
    "\n",
    "    # Solve model\n",
    "    optimize!(model);\n",
    "\n",
    "    status = @sprintf(\"%s\", JuMP.termination_status(model));\n",
    "\n",
    "    if (status==\"LOCALLY_SOLVED\")\n",
    "        p = JuMP.value.(price);\n",
    "        avg_price = sum(p[t] * data.weights[t]/sum(data.weights) for t=1:T);\n",
    "        q = JuMP.value.(quantity);\n",
    "        imp = JuMP.value.(imports);\n",
    "        d = JuMP.value.(demand);\n",
    "        cost = JuMP.value.(costs);\n",
    "        results = Dict(\"status\" => @sprintf(\"%s\",JuMP.termination_status(model)),\n",
    "            \"avg_price\" => avg_price,\n",
    "            \"price\" => p,\n",
    "            \"quantity\" => q,\n",
    "            \"imports\" => imp,\n",
    "            \"demand\" => d,\n",
    "            \"cost\" => cost,\n",
    "            \"gas_gw\" => JuMP.value.(gas_gw),\n",
    "            \"wind_gw\" => JuMP.value.(wind_gw),\n",
    "            \"solar_gw\" => JuMP.value.(solar_gw));\n",
    "        return results\n",
    "    else\n",
    "        results = Dict(\"status\" => @sprintf(\"%s\",JuMP.termination_status(model)));\n",
    "        return results\n",
    "    end\n",
    "\n",
    "end"
   ]
  },
  {
   "cell_type": "code",
   "execution_count": 11,
   "metadata": {},
   "outputs": [
    {
     "data": {
      "text/plain": [
       "Dict{String, Any} with 10 entries:\n",
       "  \"avg_price\" => 33.4541\n",
       "  \"solar_gw\"  => 0.0\n",
       "  \"cost\"      => [682.383, 416.599, 429.477, 637.056, 425.05, 428.07, 453.645, …\n",
       "  \"price\"     => [39.8678, 34.0552, 27.078, 40.2672, 35.1904, 34.512, 35.3557, …\n",
       "  \"gas_gw\"    => 1.96212\n",
       "  \"status\"    => \"LOCALLY_SOLVED\"\n",
       "  \"imports\"   => [8.94505, 8.71356, 7.30296, 6.94515, 5.16321, 8.28702, 8.38773…\n",
       "  \"demand\"    => [37.1733, 25.6022, 27.3906, 30.1144, 22.5485, 25.1061, 26.3169…\n",
       "  \"quantity\"  => [9.18815 11.5 … 4.08069e-8 1.42882e-9; 3.42648 11.5 … 6.05604e…\n",
       "  \"wind_gw\"   => 1.45949e-7"
      ]
     },
     "metadata": {},
     "output_type": "display_data"
    }
   ],
   "source": [
    "results_min = clear_market_invest(dfclust, tech)"
   ]
  },
  {
   "cell_type": "markdown",
   "metadata": {},
   "source": []
  },
  {
   "cell_type": "markdown",
   "metadata": {},
   "source": [
    "## Environmental regulation\n",
    "\n",
    "We will begin by adding carbon taxes to the model.\n",
    "\n"
   ]
  },
  {
   "cell_type": "code",
   "execution_count": 32,
   "metadata": {},
   "outputs": [
    {
     "data": {
      "text/plain": [
       "clear_market_invest_tax (generic function with 2 methods)"
      ]
     },
     "metadata": {},
     "output_type": "display_data"
    }
   ],
   "source": [
    "function clear_market_invest_tax(data::DataFrame, tech::DataFrame,tax=30.0)\n",
    "\n",
    "    # We declare a model\n",
    "    model = Model(\n",
    "        optimizer_with_attributes(\n",
    "            Ipopt.Optimizer, \n",
    "                \"print_level\"=>0)\n",
    "        );\n",
    "\n",
    "    # Set useful indexes\n",
    "    I = nrow(tech);  # number of techs\n",
    "    T = nrow(data);  # number of periods\n",
    "\n",
    "    # Variables to solve for\n",
    "    @variable(model, price[1:T]);\n",
    "    @variable(model, demand[1:T]);\n",
    "    @variable(model, imports[1:T]);\n",
    "    @variable(model, quantity[1:T, 1:I] >= 0);\n",
    "    @variable(model, costs[1:T]);\n",
    "    @variable(model, gross_surplus[1:T]);\n",
    "    @variable(model, gas_gw >= 0.0);\n",
    "    @variable(model, wind_gw >= 0.0);\n",
    "    @variable(model, solar_gw >= 0.0);\n",
    "\n",
    "    #New Variable\n",
    "    @variable(model, totale[1:T]); #total emissions\n",
    "    \n",
    "\n",
    "    # Maximize welfare including imports costs\n",
    "    @NLobjective(model, Max, sum(data.weights[t] * \n",
    "                (gross_surplus[t] - costs[t] - tax*totale[t]) for t=1:T)\n",
    "             - tech.F[5]*gas_gw  - tech.F[6]*wind_gw - tech.F[7]*solar_gw \n",
    "             - tech.F2[5]*gas_gw^2  - tech.F2[6]*wind_gw^2 - tech.F2[7]*solar_gw^2);\n",
    "\n",
    "    # Market clearing\n",
    "    @constraint(model, [t=1:T], \n",
    "        demand[t] == data.a[t] - data.b[t] * price[t]);\n",
    "    @constraint(model, [t=1:T], \n",
    "        imports[t] == data.am[t] + data.bm[t] * price[t]);\n",
    "    @constraint(model, [t=1:T], \n",
    "        demand[t] == sum(quantity[t,i] for i=1:I) + imports[t]);\n",
    "\n",
    "    # Define surplus\n",
    "    @constraint(model, [t=1:T], gross_surplus[t]==\n",
    "                (data.a[t] - demand[t]) * demand[t] / data.b[t] \n",
    "            + demand[t]^2/(2*data.b[t]));\n",
    "\n",
    "    # Define cost\n",
    "    @constraint(model, [t=1:T], costs[t] ==\n",
    "                    sum(tech.c[i] * quantity[t,i]\n",
    "                    + tech.c2[i] * quantity[t,i]^2/2 for i=1:I)\n",
    "        + (imports[t] - data.am[t])^2/(2 * data.bm[t]))\n",
    "\n",
    "    # Define emissions \n",
    "    @constraint(model, [t=1:T], totale[t] ==\n",
    "                    sum(tech.e[i] * quantity[t,i] for i=1:I))\n",
    "\n",
    "        # Constraints on output\n",
    "    @constraint(model, [t=1:T], \n",
    "        quantity[t,1] <= data.hydronuc[t]);\n",
    "    @constraint(model, [t=1:T,i=2:4], \n",
    "        quantity[t,i] <= tech[i,\"capUB\"]);\n",
    "    @constraint(model, [t=1:T], \n",
    "        quantity[t,5] <= gas_gw);\n",
    "    @constraint(model, [t=1:T], \n",
    "        quantity[t,6] <= wind_gw * data.wind_cap[t]);\n",
    "    @constraint(model, [t=1:T], \n",
    "        quantity[t,7] <= solar_gw * data.solar_cap[t]);\n",
    "\n",
    "\n",
    "    # Solve model\n",
    "    optimize!(model);\n",
    "\n",
    "    status = @sprintf(\"%s\", JuMP.termination_status(model));\n",
    "\n",
    "    if (status==\"LOCALLY_SOLVED\")\n",
    "        p = JuMP.value.(price);\n",
    "        avg_price = sum(p[t] * data.weights[t]/sum(data.weights) for t=1:T);\n",
    "        q = JuMP.value.(quantity);\n",
    "        imp = JuMP.value.(imports);\n",
    "        d = JuMP.value.(demand);\n",
    "        cost = JuMP.value.(costs);\n",
    "        totale = JuMP.value.(totale);\n",
    "        avg_emissions = sum(totale[t] * data.weights[t]/sum(data.weights) for t=1:T);\n",
    "        results = Dict(\"status\" => @sprintf(\"%s\",JuMP.termination_status(model)),\n",
    "            \"avg_price\" => avg_price,\n",
    "            \"avg_emissions\" => avg_emissions,\n",
    "            \"price\" => p,\n",
    "            \"quantity\" => q,\n",
    "            \"imports\" => imp,\n",
    "            \"demand\" => d,\n",
    "            \"cost\" => cost,\n",
    "            \"totale\" => totale,\n",
    "            \"gas_gw\" => JuMP.value.(gas_gw),\n",
    "            \"wind_gw\" => JuMP.value.(wind_gw),\n",
    "            \"solar_gw\" => JuMP.value.(solar_gw));\n",
    "        return results\n",
    "    else\n",
    "        results = Dict(\"status\" => @sprintf(\"%s\",JuMP.termination_status(model)));\n",
    "        return results\n",
    "    end\n",
    "\n",
    "end"
   ]
  },
  {
   "cell_type": "code",
   "execution_count": 33,
   "metadata": {},
   "outputs": [
    {
     "data": {
      "text/plain": [
       "Dict{String, Any} with 12 entries:\n",
       "  \"avg_price\"     => 43.1595\n",
       "  \"price\"         => [54.0909, 37.4321, 37.4687, 54.767, 37.5872, 37.8942, 37.4…\n",
       "  \"gas_gw\"        => 1.08291\n",
       "  \"status\"        => \"LOCALLY_SOLVED\"\n",
       "  \"totale\"        => [6.38951, 4.00592, 4.04652, 6.75805, 4.17773, 4.51784, 4.0…\n",
       "  \"quantity\"      => [9.18815 11.5 … 1.09443 6.57676e-9; 3.42648 10.0696 … 1.77…\n",
       "  \"solar_gw\"      => 0.0\n",
       "  \"imports\"       => [9.78995, 8.98049, 8.08083, 7.66919, 5.26706, 8.58429, 8.5…\n",
       "  \"demand\"        => [36.0765, 25.3362, 26.4579, 29.0884, 22.3986, 24.7627, 26.…\n",
       "  \"avg_emissions\" => 4.44261\n",
       "  \"cost\"          => [617.449, 366.753, 399.339, 576.531, 350.595, 409.634, 367…\n",
       "  \"wind_gw\"       => 4.80741"
      ]
     },
     "metadata": {},
     "output_type": "display_data"
    }
   ],
   "source": [
    "results_tax = clear_market_invest_tax(dfclust, tech)"
   ]
  },
  {
   "cell_type": "markdown",
   "metadata": {},
   "source": [
    "Finally, we will add a subsidy to the model. One can think of the subsidy as a negative cost to renewable power. "
   ]
  },
  {
   "cell_type": "code",
   "execution_count": 36,
   "metadata": {},
   "outputs": [
    {
     "data": {
      "text/plain": [
       "clear_market_invest_subsidy (generic function with 2 methods)"
      ]
     },
     "metadata": {},
     "output_type": "display_data"
    }
   ],
   "source": [
    "function clear_market_invest_subsidy(data::DataFrame, tech::DataFrame,subsidy=10.0)\n",
    "\n",
    "    # We declare a model\n",
    "    model = Model(\n",
    "        optimizer_with_attributes(\n",
    "            Ipopt.Optimizer, \n",
    "                \"print_level\"=>0)\n",
    "        );\n",
    "\n",
    "    # Set useful indexes\n",
    "    I = nrow(tech);  # number of techs\n",
    "    T = nrow(data);  # number of periods\n",
    "\n",
    "    # Variables to solve for\n",
    "    @variable(model, price[1:T]);\n",
    "    @variable(model, demand[1:T]);\n",
    "    @variable(model, imports[1:T]);\n",
    "    @variable(model, quantity[1:T, 1:I] >= 0);\n",
    "    @variable(model, costs[1:T]);\n",
    "    @variable(model, gross_surplus[1:T]);\n",
    "    @variable(model, gas_gw >= 0.0);\n",
    "    @variable(model, wind_gw >= 0.0);\n",
    "    @variable(model, solar_gw >= 0.0);\n",
    "\n",
    "    #New Variable\n",
    "    @variable(model, totale[1:T]); #total emissions\n",
    "    \n",
    "    # Maximize welfare including imports costs\n",
    "    @NLobjective(model, Max, sum(data.weights[t] * \n",
    "                (gross_surplus[t] - costs[t] ) for t=1:T)\n",
    "             - tech.F[5]*gas_gw  - tech.F[6]*wind_gw - tech.F[7]*solar_gw \n",
    "             - tech.F2[5]*gas_gw^2  - tech.F2[6]*wind_gw^2 - tech.F2[7]*solar_gw^2);\n",
    "\n",
    "    # Market clearing\n",
    "    @constraint(model, [t=1:T], \n",
    "        demand[t] == data.a[t] - data.b[t] * price[t]);\n",
    "    @constraint(model, [t=1:T], \n",
    "        imports[t] == data.am[t] + data.bm[t] * price[t]);\n",
    "    @constraint(model, [t=1:T], \n",
    "        demand[t] == sum(quantity[t,i] for i=1:I) + imports[t]);\n",
    "\n",
    "    # Define surplus\n",
    "    @constraint(model, [t=1:T], gross_surplus[t]==\n",
    "                (data.a[t] - demand[t]) * demand[t] / data.b[t] \n",
    "            + demand[t]^2/(2*data.b[t]));\n",
    "\n",
    "    # Define cost\n",
    "    @constraint(model, [t=1:T], costs[t] ==\n",
    "                    sum(tech.c[i] * quantity[t,i]\n",
    "                    + tech.c2[i] * quantity[t,i]^2/2 \n",
    "                    - subsidy * tech.renewable[i] * quantity[t,i] for i=1:I)\n",
    "        + (imports[t] - data.am[t])^2/(2 * data.bm[t]))\n",
    "\n",
    "    # Define emissions \n",
    "    @constraint(model, [t=1:T], totale[t] ==\n",
    "                    sum(tech.e[i] * quantity[t,i] for i=1:I))\n",
    "\n",
    "\n",
    "        # Constraints on output\n",
    "    @constraint(model, [t=1:T], \n",
    "        quantity[t,1] <= data.hydronuc[t]);\n",
    "    @constraint(model, [t=1:T,i=2:4], \n",
    "        quantity[t,i] <= tech[i,\"capUB\"]);\n",
    "    @constraint(model, [t=1:T], \n",
    "        quantity[t,5] <= gas_gw);\n",
    "    @constraint(model, [t=1:T], \n",
    "        quantity[t,6] <= wind_gw * data.wind_cap[t]);\n",
    "    @constraint(model, [t=1:T], \n",
    "        quantity[t,7] <= solar_gw * data.solar_cap[t]);\n",
    "\n",
    "\n",
    "    # Solve model\n",
    "    optimize!(model);\n",
    "\n",
    "    status = @sprintf(\"%s\", JuMP.termination_status(model));\n",
    "\n",
    "    if (status==\"LOCALLY_SOLVED\")\n",
    "        p = JuMP.value.(price);\n",
    "        avg_price = sum(p[t] * data.weights[t]/sum(data.weights) for t=1:T);\n",
    "        q = JuMP.value.(quantity);\n",
    "        imp = JuMP.value.(imports);\n",
    "        d = JuMP.value.(demand);\n",
    "        cost = JuMP.value.(costs);\n",
    "        totale = JuMP.value.(totale);\n",
    "        avg_emissions = sum(totale[t] * data.weights[t]/sum(data.weights) for t=1:T);\n",
    "        results = Dict(\"status\" => @sprintf(\"%s\",JuMP.termination_status(model)),\n",
    "            \"avg_price\" => avg_price,\n",
    "            \"avg_emissions\" => avg_emissions,\n",
    "            \"price\" => p,\n",
    "            \"quantity\" => q,\n",
    "            \"imports\" => imp,\n",
    "            \"demand\" => d,\n",
    "            \"cost\" => cost,\n",
    "            \"totale\" => totale,\n",
    "            \"gas_gw\" => JuMP.value.(gas_gw),\n",
    "            \"wind_gw\" => JuMP.value.(wind_gw),\n",
    "            \"solar_gw\" => JuMP.value.(solar_gw));\n",
    "        return results\n",
    "    else\n",
    "        results = Dict(\"status\" => @sprintf(\"%s\",JuMP.termination_status(model)));\n",
    "        return results\n",
    "    end\n",
    "\n",
    "end"
   ]
  },
  {
   "cell_type": "code",
   "execution_count": 37,
   "metadata": {},
   "outputs": [
    {
     "data": {
      "text/plain": [
       "Dict{String, Any} with 12 entries:\n",
       "  \"avg_price\"     => 32.7805\n",
       "  \"price\"         => [39.7889, 29.318, 30.0876, 40.2601, 30.2362, 34.9357, 30.5…\n",
       "  \"gas_gw\"        => 0.996083\n",
       "  \"status\"        => \"LOCALLY_SOLVED\"\n",
       "  \"totale\"        => [7.49409, 4.49075, 4.49075, 7.75092, 4.49075, 4.84853, 4.4…\n",
       "  \"quantity\"      => [9.18815 11.5 … 1.05553 4.88794e-9; 3.42648 11.5 … 1.71361…\n",
       "  \"solar_gw\"      => 0.0\n",
       "  \"imports\"       => [8.94036, 8.3391, 7.52827, 6.94479, 4.94853, 8.32427, 8.03…\n",
       "  \"demand\"        => [37.1794, 25.9753, 27.1204, 30.115, 22.8582, 25.063, 26.68…\n",
       "  \"avg_emissions\" => 5.14646\n",
       "  \"cost\"          => [645.482, 364.573, 409.749, 603.99, 339.42, 416.4, 354.061…\n",
       "  \"wind_gw\"       => 4.63653"
      ]
     },
     "metadata": {},
     "output_type": "display_data"
    }
   ],
   "source": [
    "results_subsidy = clear_market_invest_subsidy(dfclust, tech)"
   ]
  },
  {
   "cell_type": "markdown",
   "metadata": {},
   "source": [
    "## Follow-up exercises\n",
    "\n",
    "1. Consider a tax and a subsidy that reach the same target of emissions. What are the different costs? How are the different components of welfare affected?\n",
    "\n",
    "Note: This will require you to include emissions as an input or an output to the function."
   ]
  }
 ],
 "metadata": {
  "kernelspec": {
   "display_name": "Julia 1.6.2",
   "language": "julia",
   "name": "julia-1.6"
  },
  "language_info": {
   "file_extension": ".jl",
   "mimetype": "application/julia",
   "name": "julia",
   "version": "1.6.2"
  }
 },
 "nbformat": 4,
 "nbformat_minor": 2
}
