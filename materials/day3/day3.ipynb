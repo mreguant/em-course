{
 "cells": [
  {
   "cell_type": "markdown",
   "metadata": {},
   "source": [
    "# Day 3: Supply II - Enhancing the model\n",
    "\n",
    "We will continue our modeling exercise by adding carbon taxes, renewable subsidies, and investment to the model.\n",
    "\n",
    "This will allow us to consider the policy impacts of alternative energy transition policies.\n",
    "\n",
    "The data and code are based on the paper \"The Efficiency and Sectoral Distributional Implications of Large-Scale Renewable Policies,\" by Mar Reguant."
   ]
  },
  {
   "cell_type": "markdown",
   "metadata": {},
   "source": [
    "We first load relevant libraries, same as last session."
   ]
  },
  {
   "cell_type": "code",
   "execution_count": 2,
   "metadata": {},
   "outputs": [],
   "source": [
    "#using Pkg\n",
    "#Pkg.add([\"DataFrames\", \"CSV\", \"JuMP\", \"Ipopt\", \"Plots\", \"Printf\"])\n"
   ]
  },
  {
   "cell_type": "code",
   "execution_count": 1,
   "metadata": {},
   "outputs": [],
   "source": [
    "using DataFrames\n",
    "using CSV\n",
    "using JuMP\n",
    "using Ipopt\n",
    "using Plots\n",
    "using Printf"
   ]
  },
  {
   "cell_type": "markdown",
   "metadata": {},
   "source": [
    "Remember to set your path correctly:"
   ]
  },
  {
   "cell_type": "markdown",
   "metadata": {},
   "source": [
    "## Building the model\n",
    "\n",
    "We load the same data as last week, and also clean it up to simplify it further and create the demand and import curves."
   ]
  },
  {
   "cell_type": "code",
   "execution_count": 7,
   "metadata": {},
   "outputs": [],
   "source": [
    "dfclust = CSV.read(\"data_jaere_clustered.csv\", DataFrame);\n",
    "\n",
    "# Re-scaling (we multiply by 8.76 to make it into a full year of hours (divided by 1000))\n",
    "dfclust.weights = 8.76 * dfclust.weights / sum(dfclust.weights);\n",
    "\n",
    "# Here only one demand type to make it easier\n",
    "dfclust.demand = dfclust.q_residential + dfclust.q_commercial + dfclust.q_industrial;\n",
    "\n",
    "# Calibrate demand based on elasticities (using 0.1 here as only one final demand)\n",
    "elas = [.1, .2, .5, .3];\n",
    "dfclust.b = elas[1] * dfclust.demand ./ dfclust.price;  # slope\n",
    "dfclust.a = dfclust.demand + dfclust.b .* dfclust.price;  # intercept\n",
    "\n",
    "# Calibrate imports (using elas 0.3)\n",
    "dfclust.bm = elas[4] * dfclust.imports ./ dfclust.price;  # slope\n",
    "dfclust.am = dfclust.imports - dfclust.bm .* dfclust.price;  # intercept"
   ]
  },
  {
   "cell_type": "code",
   "execution_count": 5,
   "metadata": {},
   "outputs": [
    {
     "data": {
      "text/html": [
       "<table class=\"data-frame\"><thead><tr><th></th><th>price</th><th>imports</th><th>q_commercial</th><th>q_industrial</th><th>q_residential</th><th>wind_cap</th><th>solar_cap</th></tr><tr><th></th><th>Float64</th><th>Float64</th><th>Float64</th><th>Float64</th><th>Float64</th><th>Float64</th><th>Float64</th></tr></thead><tbody><p>100 rows × 14 columns (omitted printing of 7 columns)</p><tr><th>1</th><td>44.8507</td><td>7.25688</td><td>15.6342</td><td>6.24111</td><td>11.3666</td><td>0.481806</td><td>0.785586</td></tr><tr><th>2</th><td>40.2834</td><td>8.47216</td><td>11.5798</td><td>4.06036</td><td>14.155</td><td>0.411881</td><td>0.00733263</td></tr><tr><th>3</th><td>70.1554</td><td>8.07499</td><td>15.0325</td><td>6.11547</td><td>20.0267</td><td>0.398612</td><td>0.505725</td></tr><tr><th>4</th><td>26.5618</td><td>7.02309</td><td>10.0495</td><td>3.91292</td><td>8.15435</td><td>0.662615</td><td>0.0102827</td></tr><tr><th>5</th><td>37.0007</td><td>5.6396</td><td>10.0141</td><td>3.54231</td><td>10.0543</td><td>0.208139</td><td>0.450361</td></tr><tr><th>6</th><td>37.998</td><td>6.61716</td><td>9.33798</td><td>3.20469</td><td>8.74743</td><td>0.141276</td><td>0.0105646</td></tr><tr><th>7</th><td>43.3107</td><td>9.1167</td><td>19.8993</td><td>7.09356</td><td>5.91624</td><td>0.232668</td><td>0.577826</td></tr><tr><th>8</th><td>32.181</td><td>8.7686</td><td>14.153</td><td>3.59615</td><td>9.66465</td><td>0.192524</td><td>0.112814</td></tr><tr><th>9</th><td>44.9164</td><td>6.89629</td><td>15.5495</td><td>5.22585</td><td>6.4413</td><td>0.209247</td><td>0.0267234</td></tr><tr><th>10</th><td>66.6889</td><td>9.01539</td><td>17.5508</td><td>3.83764</td><td>19.5326</td><td>0.424122</td><td>0.606772</td></tr><tr><th>11</th><td>32.3101</td><td>5.30761</td><td>9.54326</td><td>3.27026</td><td>8.10166</td><td>0.276752</td><td>0.00105247</td></tr><tr><th>12</th><td>37.1852</td><td>8.22759</td><td>11.6365</td><td>5.81543</td><td>9.29026</td><td>0.349788</td><td>0.0462479</td></tr><tr><th>13</th><td>21.4409</td><td>5.24227</td><td>9.72554</td><td>2.7324</td><td>8.49395</td><td>0.172079</td><td>0.00061323</td></tr><tr><th>14</th><td>31.0031</td><td>6.8494</td><td>14.8496</td><td>3.48897</td><td>8.80531</td><td>0.391996</td><td>0.202474</td></tr><tr><th>15</th><td>20.3313</td><td>5.40274</td><td>9.7402</td><td>3.79303</td><td>9.45019</td><td>0.414787</td><td>0.543777</td></tr><tr><th>16</th><td>33.836</td><td>5.93062</td><td>12.713</td><td>3.94256</td><td>4.97379</td><td>0.240408</td><td>0.0043707</td></tr><tr><th>17</th><td>29.1566</td><td>7.60755</td><td>13.9451</td><td>3.33569</td><td>9.67927</td><td>0.132486</td><td>0.0704853</td></tr><tr><th>18</th><td>56.2943</td><td>8.32775</td><td>16.9205</td><td>6.59297</td><td>15.3642</td><td>0.308444</td><td>0.676066</td></tr><tr><th>19</th><td>32.3238</td><td>6.76951</td><td>14.8502</td><td>3.43169</td><td>8.90204</td><td>0.116551</td><td>0.290268</td></tr><tr><th>20</th><td>32.7434</td><td>9.47797</td><td>18.1425</td><td>4.11837</td><td>10.3762</td><td>0.219953</td><td>0.710539</td></tr><tr><th>21</th><td>35.0143</td><td>6.78739</td><td>11.4476</td><td>4.53698</td><td>12.5494</td><td>0.233954</td><td>0.691388</td></tr><tr><th>22</th><td>43.9499</td><td>7.87976</td><td>16.4085</td><td>6.54647</td><td>11.3989</td><td>0.194642</td><td>0.688817</td></tr><tr><th>23</th><td>34.0984</td><td>8.67849</td><td>10.3146</td><td>4.53871</td><td>9.17007</td><td>0.536132</td><td>0.00471673</td></tr><tr><th>24</th><td>4.04784</td><td>6.92442</td><td>10.6802</td><td>3.0385</td><td>8.39448</td><td>0.627334</td><td>0.0136463</td></tr><tr><th>&vellip;</th><td>&vellip;</td><td>&vellip;</td><td>&vellip;</td><td>&vellip;</td><td>&vellip;</td><td>&vellip;</td><td>&vellip;</td></tr></tbody></table>"
      ],
      "text/latex": [
       "\\begin{tabular}{r|cccccccc}\n",
       "\t& price & imports & q\\_commercial & q\\_industrial & q\\_residential & wind\\_cap & solar\\_cap & \\\\\n",
       "\t\\hline\n",
       "\t& Float64 & Float64 & Float64 & Float64 & Float64 & Float64 & Float64 & \\\\\n",
       "\t\\hline\n",
       "\t1 & 44.8507 & 7.25688 & 15.6342 & 6.24111 & 11.3666 & 0.481806 & 0.785586 & $\\dots$ \\\\\n",
       "\t2 & 40.2834 & 8.47216 & 11.5798 & 4.06036 & 14.155 & 0.411881 & 0.00733263 & $\\dots$ \\\\\n",
       "\t3 & 70.1554 & 8.07499 & 15.0325 & 6.11547 & 20.0267 & 0.398612 & 0.505725 & $\\dots$ \\\\\n",
       "\t4 & 26.5618 & 7.02309 & 10.0495 & 3.91292 & 8.15435 & 0.662615 & 0.0102827 & $\\dots$ \\\\\n",
       "\t5 & 37.0007 & 5.6396 & 10.0141 & 3.54231 & 10.0543 & 0.208139 & 0.450361 & $\\dots$ \\\\\n",
       "\t6 & 37.998 & 6.61716 & 9.33798 & 3.20469 & 8.74743 & 0.141276 & 0.0105646 & $\\dots$ \\\\\n",
       "\t7 & 43.3107 & 9.1167 & 19.8993 & 7.09356 & 5.91624 & 0.232668 & 0.577826 & $\\dots$ \\\\\n",
       "\t8 & 32.181 & 8.7686 & 14.153 & 3.59615 & 9.66465 & 0.192524 & 0.112814 & $\\dots$ \\\\\n",
       "\t9 & 44.9164 & 6.89629 & 15.5495 & 5.22585 & 6.4413 & 0.209247 & 0.0267234 & $\\dots$ \\\\\n",
       "\t10 & 66.6889 & 9.01539 & 17.5508 & 3.83764 & 19.5326 & 0.424122 & 0.606772 & $\\dots$ \\\\\n",
       "\t11 & 32.3101 & 5.30761 & 9.54326 & 3.27026 & 8.10166 & 0.276752 & 0.00105247 & $\\dots$ \\\\\n",
       "\t12 & 37.1852 & 8.22759 & 11.6365 & 5.81543 & 9.29026 & 0.349788 & 0.0462479 & $\\dots$ \\\\\n",
       "\t13 & 21.4409 & 5.24227 & 9.72554 & 2.7324 & 8.49395 & 0.172079 & 0.00061323 & $\\dots$ \\\\\n",
       "\t14 & 31.0031 & 6.8494 & 14.8496 & 3.48897 & 8.80531 & 0.391996 & 0.202474 & $\\dots$ \\\\\n",
       "\t15 & 20.3313 & 5.40274 & 9.7402 & 3.79303 & 9.45019 & 0.414787 & 0.543777 & $\\dots$ \\\\\n",
       "\t16 & 33.836 & 5.93062 & 12.713 & 3.94256 & 4.97379 & 0.240408 & 0.0043707 & $\\dots$ \\\\\n",
       "\t17 & 29.1566 & 7.60755 & 13.9451 & 3.33569 & 9.67927 & 0.132486 & 0.0704853 & $\\dots$ \\\\\n",
       "\t18 & 56.2943 & 8.32775 & 16.9205 & 6.59297 & 15.3642 & 0.308444 & 0.676066 & $\\dots$ \\\\\n",
       "\t19 & 32.3238 & 6.76951 & 14.8502 & 3.43169 & 8.90204 & 0.116551 & 0.290268 & $\\dots$ \\\\\n",
       "\t20 & 32.7434 & 9.47797 & 18.1425 & 4.11837 & 10.3762 & 0.219953 & 0.710539 & $\\dots$ \\\\\n",
       "\t21 & 35.0143 & 6.78739 & 11.4476 & 4.53698 & 12.5494 & 0.233954 & 0.691388 & $\\dots$ \\\\\n",
       "\t22 & 43.9499 & 7.87976 & 16.4085 & 6.54647 & 11.3989 & 0.194642 & 0.688817 & $\\dots$ \\\\\n",
       "\t23 & 34.0984 & 8.67849 & 10.3146 & 4.53871 & 9.17007 & 0.536132 & 0.00471673 & $\\dots$ \\\\\n",
       "\t24 & 4.04784 & 6.92442 & 10.6802 & 3.0385 & 8.39448 & 0.627334 & 0.0136463 & $\\dots$ \\\\\n",
       "\t$\\dots$ & $\\dots$ & $\\dots$ & $\\dots$ & $\\dots$ & $\\dots$ & $\\dots$ & $\\dots$ &  \\\\\n",
       "\\end{tabular}\n"
      ],
      "text/plain": [
       "\u001b[1m100×14 DataFrame\u001b[0m\n",
       "\u001b[1m Row \u001b[0m│\u001b[1m price   \u001b[0m\u001b[1m imports \u001b[0m\u001b[1m q_commercial \u001b[0m\u001b[1m q_industrial \u001b[0m\u001b[1m q_residential \u001b[0m\u001b[1m wind_cap  \u001b[0m\u001b[1m\u001b[0m ⋯\n",
       "\u001b[1m     \u001b[0m│\u001b[90m Float64 \u001b[0m\u001b[90m Float64 \u001b[0m\u001b[90m Float64      \u001b[0m\u001b[90m Float64      \u001b[0m\u001b[90m Float64       \u001b[0m\u001b[90m Float64   \u001b[0m\u001b[90m\u001b[0m ⋯\n",
       "─────┼──────────────────────────────────────────────────────────────────────────\n",
       "   1 │ 44.8507  7.25688      15.6342        6.24111       11.3666   0.481806   ⋯\n",
       "   2 │ 40.2834  8.47216      11.5798        4.06036       14.155    0.411881\n",
       "   3 │ 70.1554  8.07499      15.0325        6.11547       20.0267   0.398612\n",
       "   4 │ 26.5618  7.02309      10.0495        3.91292        8.15435  0.662615\n",
       "   5 │ 37.0007  5.6396       10.0141        3.54231       10.0543   0.208139   ⋯\n",
       "   6 │ 37.998   6.61716       9.33798       3.20469        8.74743  0.141276\n",
       "   7 │ 43.3107  9.1167       19.8993        7.09356        5.91624  0.232668\n",
       "   8 │ 32.181   8.7686       14.153         3.59615        9.66465  0.192524\n",
       "  ⋮  │    ⋮        ⋮          ⋮             ⋮              ⋮            ⋮      ⋱\n",
       "  94 │ 46.7626  8.97852      19.1404        4.19042       14.4333   0.293797   ⋯\n",
       "  95 │ 31.5239  6.42458       9.2691        2.73293       11.5118   0.0993763\n",
       "  96 │ 40.0159  7.74693      10.7555        4.01961       10.6092   0.408918\n",
       "  97 │ 24.4162  7.01477      10.5684        2.65229       10.8282   0.279734\n",
       "  98 │ 50.291   8.63424      12.366         4.03427       12.7299   0.170711   ⋯\n",
       "  99 │ 62.2489  4.91079      13.394         4.72638        8.48676  0.209196\n",
       " 100 │ 17.7275  8.4835       11.2062        3.31419        8.80595  0.59856\n",
       "\u001b[36m                                                   8 columns and 85 rows omitted\u001b[0m"
      ]
     },
     "metadata": {},
     "output_type": "display_data"
    }
   ],
   "source": [
    "dfclust"
   ]
  },
  {
   "cell_type": "markdown",
   "metadata": {},
   "source": [
    "The technology file now includes the fixed cost of building new power plants (technologies 3-5). Note that we added an additional row for new natural gas plants."
   ]
  },
  {
   "cell_type": "markdown",
   "metadata": {},
   "source": [
    "We will use an annualization factor to pro-rate the importance of fixed costs for one year."
   ]
  },
  {
   "cell_type": "code",
   "execution_count": 3,
   "metadata": {},
   "outputs": [
    {
     "data": {
      "text/html": [
       "<div><div style = \"float: left;\"><span>7×15 DataFrame</span></div><div style = \"clear: both;\"></div></div><div class = \"data-frame\" style = \"overflow-x: scroll;\"><table class = \"data-frame\" style = \"margin-bottom: 6px;\"><thead><tr class = \"header\"><th class = \"rowNumber\" style = \"font-weight: bold; text-align: right;\">Row</th><th style = \"text-align: left;\">techname</th><th style = \"text-align: left;\">heatrate</th><th style = \"text-align: left;\">heatrate2</th><th style = \"text-align: left;\">F</th><th style = \"text-align: left;\">capLB</th><th style = \"text-align: left;\">capUB</th><th style = \"text-align: left;\">new</th><th style = \"text-align: left;\">renewable</th><th style = \"text-align: left;\">solar</th><th style = \"text-align: left;\">thermal</th><th style = \"text-align: left;\">e</th><th style = \"text-align: left;\">e2</th><th style = \"text-align: left;\">c</th><th style = \"text-align: left;\">c2</th><th style = \"text-align: left;\">F2</th></tr><tr class = \"subheader headerLastRow\"><th class = \"rowNumber\" style = \"font-weight: bold; text-align: right;\"></th><th title = \"String15\" style = \"text-align: left;\">String15</th><th title = \"Float64\" style = \"text-align: left;\">Float64</th><th title = \"Float64\" style = \"text-align: left;\">Float64</th><th title = \"Float64\" style = \"text-align: left;\">Float64</th><th title = \"Float64\" style = \"text-align: left;\">Float64</th><th title = \"Float64\" style = \"text-align: left;\">Float64</th><th title = \"Int64\" style = \"text-align: left;\">Int64</th><th title = \"Int64\" style = \"text-align: left;\">Int64</th><th title = \"Int64\" style = \"text-align: left;\">Int64</th><th title = \"Int64\" style = \"text-align: left;\">Int64</th><th title = \"Float64\" style = \"text-align: left;\">Float64</th><th title = \"Float64\" style = \"text-align: left;\">Float64</th><th title = \"Float64\" style = \"text-align: left;\">Float64</th><th title = \"Float64\" style = \"text-align: left;\">Float64</th><th title = \"Float64\" style = \"text-align: left;\">Float64</th></tr></thead><tbody><tr><td class = \"rowNumber\" style = \"font-weight: bold; text-align: right;\">1</td><td style = \"text-align: left;\">Hydro/Nuclear</td><td style = \"text-align: right;\">10.0</td><td style = \"text-align: right;\">0.0</td><td style = \"text-align: right;\">0.0</td><td style = \"text-align: right;\">1.0</td><td style = \"text-align: right;\">1.0</td><td style = \"text-align: right;\">0</td><td style = \"text-align: right;\">0</td><td style = \"text-align: right;\">0</td><td style = \"text-align: right;\">0</td><td style = \"text-align: right;\">0.0</td><td style = \"text-align: right;\">0.0</td><td style = \"text-align: right;\">10.0</td><td style = \"text-align: right;\">0.0</td><td style = \"text-align: right;\">0.0</td></tr><tr><td class = \"rowNumber\" style = \"font-weight: bold; text-align: right;\">2</td><td style = \"text-align: left;\">Existing 1</td><td style = \"text-align: right;\">6.67199</td><td style = \"text-align: right;\">0.0929123</td><td style = \"text-align: right;\">0.0</td><td style = \"text-align: right;\">11.5</td><td style = \"text-align: right;\">11.5</td><td style = \"text-align: right;\">0</td><td style = \"text-align: right;\">0</td><td style = \"text-align: right;\">0</td><td style = \"text-align: right;\">1</td><td style = \"text-align: right;\">0.360184</td><td style = \"text-align: right;\">0.0048861</td><td style = \"text-align: right;\">23.352</td><td style = \"text-align: right;\">0.325193</td><td style = \"text-align: right;\">0.0</td></tr><tr><td class = \"rowNumber\" style = \"font-weight: bold; text-align: right;\">3</td><td style = \"text-align: left;\">Existing 2</td><td style = \"text-align: right;\">9.79412</td><td style = \"text-align: right;\">0.286247</td><td style = \"text-align: right;\">0.0</td><td style = \"text-align: right;\">14.5</td><td style = \"text-align: right;\">14.5</td><td style = \"text-align: right;\">0</td><td style = \"text-align: right;\">0</td><td style = \"text-align: right;\">0</td><td style = \"text-align: right;\">1</td><td style = \"text-align: right;\">0.546134</td><td style = \"text-align: right;\">0.0110777</td><td style = \"text-align: right;\">34.2794</td><td style = \"text-align: right;\">1.00187</td><td style = \"text-align: right;\">0.0</td></tr><tr><td class = \"rowNumber\" style = \"font-weight: bold; text-align: right;\">4</td><td style = \"text-align: left;\">Existing 3</td><td style = \"text-align: right;\">13.8181</td><td style = \"text-align: right;\">20.5352</td><td style = \"text-align: right;\">0.0</td><td style = \"text-align: right;\">0.578</td><td style = \"text-align: right;\">0.578</td><td style = \"text-align: right;\">0</td><td style = \"text-align: right;\">0</td><td style = \"text-align: right;\">0</td><td style = \"text-align: right;\">1</td><td style = \"text-align: right;\">0.816768</td><td style = \"text-align: right;\">0.234476</td><td style = \"text-align: right;\">48.3634</td><td style = \"text-align: right;\">71.8731</td><td style = \"text-align: right;\">0.0</td></tr><tr><td class = \"rowNumber\" style = \"font-weight: bold; text-align: right;\">5</td><td style = \"text-align: left;\">New Gas</td><td style = \"text-align: right;\">6.6</td><td style = \"text-align: right;\">0.0</td><td style = \"text-align: right;\">78.4773</td><td style = \"text-align: right;\">0.0</td><td style = \"text-align: right;\">100.0</td><td style = \"text-align: right;\">1</td><td style = \"text-align: right;\">0</td><td style = \"text-align: right;\">0</td><td style = \"text-align: right;\">1</td><td style = \"text-align: right;\">0.35</td><td style = \"text-align: right;\">0.0</td><td style = \"text-align: right;\">23.352</td><td style = \"text-align: right;\">0.325193</td><td style = \"text-align: right;\">1.56955</td></tr><tr><td class = \"rowNumber\" style = \"font-weight: bold; text-align: right;\">6</td><td style = \"text-align: left;\">Wind</td><td style = \"text-align: right;\">0.0</td><td style = \"text-align: right;\">0.0</td><td style = \"text-align: right;\">100.303</td><td style = \"text-align: right;\">0.0</td><td style = \"text-align: right;\">100.0</td><td style = \"text-align: right;\">1</td><td style = \"text-align: right;\">1</td><td style = \"text-align: right;\">0</td><td style = \"text-align: right;\">0</td><td style = \"text-align: right;\">0.0</td><td style = \"text-align: right;\">0.0</td><td style = \"text-align: right;\">0.0</td><td style = \"text-align: right;\">0.0</td><td style = \"text-align: right;\">2.00606</td></tr><tr><td class = \"rowNumber\" style = \"font-weight: bold; text-align: right;\">7</td><td style = \"text-align: left;\">Solar</td><td style = \"text-align: right;\">0.0</td><td style = \"text-align: right;\">0.0</td><td style = \"text-align: right;\">100.303</td><td style = \"text-align: right;\">0.0</td><td style = \"text-align: right;\">100.0</td><td style = \"text-align: right;\">1</td><td style = \"text-align: right;\">1</td><td style = \"text-align: right;\">1</td><td style = \"text-align: right;\">0</td><td style = \"text-align: right;\">0.0</td><td style = \"text-align: right;\">0.0</td><td style = \"text-align: right;\">0.0</td><td style = \"text-align: right;\">0.0</td><td style = \"text-align: right;\">2.00606</td></tr></tbody></table></div>"
      ],
      "text/latex": [
       "\\begin{tabular}{r|ccccccccc}\n",
       "\t& techname & heatrate & heatrate2 & F & capLB & capUB & new & renewable & \\\\\n",
       "\t\\hline\n",
       "\t& String15 & Float64 & Float64 & Float64 & Float64 & Float64 & Int64 & Int64 & \\\\\n",
       "\t\\hline\n",
       "\t1 & Hydro/Nuclear & 10.0 & 0.0 & 0.0 & 1.0 & 1.0 & 0 & 0 & $\\dots$ \\\\\n",
       "\t2 & Existing 1 & 6.67199 & 0.0929123 & 0.0 & 11.5 & 11.5 & 0 & 0 & $\\dots$ \\\\\n",
       "\t3 & Existing 2 & 9.79412 & 0.286247 & 0.0 & 14.5 & 14.5 & 0 & 0 & $\\dots$ \\\\\n",
       "\t4 & Existing 3 & 13.8181 & 20.5352 & 0.0 & 0.578 & 0.578 & 0 & 0 & $\\dots$ \\\\\n",
       "\t5 & New Gas & 6.6 & 0.0 & 78.4773 & 0.0 & 100.0 & 1 & 0 & $\\dots$ \\\\\n",
       "\t6 & Wind & 0.0 & 0.0 & 100.303 & 0.0 & 100.0 & 1 & 1 & $\\dots$ \\\\\n",
       "\t7 & Solar & 0.0 & 0.0 & 100.303 & 0.0 & 100.0 & 1 & 1 & $\\dots$ \\\\\n",
       "\\end{tabular}\n"
      ],
      "text/plain": [
       "\u001b[1m7×15 DataFrame\u001b[0m\n",
       "\u001b[1m Row \u001b[0m│\u001b[1m techname      \u001b[0m\u001b[1m heatrate \u001b[0m\u001b[1m heatrate2  \u001b[0m\u001b[1m F        \u001b[0m\u001b[1m capLB   \u001b[0m\u001b[1m capUB   \u001b[0m\u001b[1m new   \u001b[0m\u001b[1m\u001b[0m ⋯\n",
       "     │\u001b[90m String15      \u001b[0m\u001b[90m Float64  \u001b[0m\u001b[90m Float64    \u001b[0m\u001b[90m Float64  \u001b[0m\u001b[90m Float64 \u001b[0m\u001b[90m Float64 \u001b[0m\u001b[90m Int64 \u001b[0m\u001b[90m\u001b[0m ⋯\n",
       "─────┼──────────────────────────────────────────────────────────────────────────\n",
       "   1 │ Hydro/Nuclear  10.0       0.0          0.0       1.0      1.0        0  ⋯\n",
       "   2 │ Existing 1      6.67199   0.0929123    0.0      11.5     11.5        0\n",
       "   3 │ Existing 2      9.79412   0.286247     0.0      14.5     14.5        0\n",
       "   4 │ Existing 3     13.8181   20.5352       0.0       0.578    0.578      0\n",
       "   5 │ New Gas         6.6       0.0         78.4773    0.0    100.0        1  ⋯\n",
       "   6 │ Wind            0.0       0.0        100.303     0.0    100.0        1\n",
       "   7 │ Solar           0.0       0.0        100.303     0.0    100.0        1\n",
       "\u001b[36m                                                               8 columns omitted\u001b[0m"
      ]
     },
     "metadata": {},
     "output_type": "display_data"
    }
   ],
   "source": [
    "tech = CSV.read(\"data_technology.csv\", DataFrame);\n",
    "afactor = (1 - (1 / (1.05^20.0))) / 0.05;\n",
    "tech.F = tech.F ./afactor;\n",
    "tech.F2 = tech.F2 ./afactor;\n",
    "tech\n",
    "\n"
   ]
  },
  {
   "cell_type": "markdown",
   "metadata": {},
   "source": [
    "### Adding investment\n",
    "\n",
    "We are now ready to clear the market. We will **maximize welfare** using a non-linear solver.\n",
    "\n",
    "$$ \\max \\ CS - Costs - Fixed Costs \\\\\n",
    "\n",
    "\\text{s.t.} \\ \\text{operational constraints, market clearing}. $$\n",
    "\n",
    "Notice that we added the fixed costs to the problem, as we will be solving for the optimal level of wind and solar investment."
   ]
  },
  {
   "cell_type": "code",
   "execution_count": 44,
   "metadata": {},
   "outputs": [
    {
     "data": {
      "text/plain": [
       "clear_market_invest (generic function with 1 method)"
      ]
     },
     "metadata": {},
     "output_type": "display_data"
    }
   ],
   "source": [
    "## Clear market based on cost minimization\n",
    "function clear_market_invest(data::DataFrame, tech::DataFrame)\n",
    "\n",
    "    # We declare a model\n",
    "    model = Model(\n",
    "        optimizer_with_attributes(\n",
    "            Ipopt.Optimizer, \n",
    "                \"print_level\"=>0)\n",
    "        );\n",
    "\n",
    "    # Set useful indexes\n",
    "    I = nrow(tech);  # number of techs\n",
    "    T = nrow(data);  # number of periods\n",
    "\n",
    "    \n",
    "    # Variables to solve for\n",
    "    @variable(model, price[1:T]);\n",
    "    @variable(model, demand[1:T]);\n",
    "    @variable(model, imports[1:T]);\n",
    "    @variable(model, quantity[1:T, 1:I] >= 0);\n",
    "    @variable(model, costs[1:T]);\n",
    "    @variable(model, gross_surplus[1:T]);\n",
    "    @variable(model, gas_gw >= 0.0);\n",
    "    @variable(model, wind_gw >= 0.0);\n",
    "    @variable(model, solar_gw >= 0.0);\n",
    "    \n",
    "    \n",
    "    # Maximize welfare including imports costs\n",
    "    @NLobjective(model, Max, sum(data.weights[t] * \n",
    "                        (gross_surplus[t] - costs[t] ) for t=1:T)\n",
    "                    - tech.F[5]*gas_gw  - tech.F[6]*wind_gw - tech.F[7]*solar_gw \n",
    "                    - tech.F2[5]*gas_gw^2  - tech.F2[6]*wind_gw^2 - tech.F2[7]*solar_gw^2);\n",
    "\n",
    "    # Market clearing\n",
    "    @constraint(model, [t=1:T], \n",
    "        demand[t] == data.a[t] - data.b[t] * price[t]);\n",
    "    @constraint(model, [t=1:T], \n",
    "        imports[t] == data.am[t] + data.bm[t] * price[t]);\n",
    "    @constraint(model, [t=1:T], \n",
    "        demand[t] == sum(quantity[t,i] for i=1:I) + imports[t]);\n",
    "\n",
    "    # Define surplus\n",
    "    @constraint(model, [t=1:T], gross_surplus[t]==\n",
    "                (data.a[t] - demand[t]) * demand[t] / data.b[t] \n",
    "            + demand[t]^2/(2*data.b[t]));\n",
    "\n",
    "    # Define cost\n",
    "    @constraint(model, [t=1:T], costs[t] ==\n",
    "                    sum(tech.c[i] * quantity[t,i]\n",
    "                    + tech.c2[i] * quantity[t,i]^2/2 for i=1:I)\n",
    "        + (imports[t] - data.am[t])^2/(2 * data.bm[t]))\n",
    "\n",
    "    # Constraints on output\n",
    "    @constraint(model, [t=1:T], \n",
    "        quantity[t,1] <= data.hydronuc[t]);\n",
    "    @constraint(model, [t=1:T,i=2:4], \n",
    "        quantity[t,i] <= tech[i,\"capUB\"]);\n",
    "    @constraint(model, [t=1:T], \n",
    "        quantity[t,5] <= gas_gw);\n",
    "    @constraint(model, [t=1:T], \n",
    "        quantity[t,6] <= wind_gw * data.wind_cap[t]);\n",
    "    @constraint(model, [t=1:T], \n",
    "        quantity[t,7] <= solar_gw * data.solar_cap[t]);\n",
    "\n",
    "    \n",
    "    # Solve model\n",
    "    optimize!(model);\n",
    "\n",
    "    status = @sprintf(\"%s\", JuMP.termination_status(model));\n",
    "\n",
    "    if (status==\"LOCALLY_SOLVED\")\n",
    "        p = JuMP.value.(price);\n",
    "        avg_price = sum(p[t] * data.weights[t]/sum(data.weights) for t=1:T);\n",
    "        q = JuMP.value.(quantity);\n",
    "        imp = JuMP.value.(imports);\n",
    "        d = JuMP.value.(demand);\n",
    "        cost = JuMP.value.(costs);\n",
    "        results = Dict(\"status\" => @sprintf(\"%s\",JuMP.termination_status(model)),\n",
    "            \"avg_price\" => avg_price,\n",
    "            \"price\" => p,\n",
    "            \"quantity\" => q,\n",
    "            \"imports\" => imp,\n",
    "            \"demand\" => d,\n",
    "            \"cost\" => cost,\n",
    "            \"gas_gw\" => JuMP.value.(gas_gw),\n",
    "            \"wind_gw\" => JuMP.value.(wind_gw),\n",
    "            \"solar_gw\" => JuMP.value.(solar_gw));\n",
    "        return results\n",
    "    else\n",
    "        results = Dict(\"status\" => @sprintf(\"%s\",JuMP.termination_status(model)));\n",
    "        return results\n",
    "    end\n",
    "\n",
    "end"
   ]
  },
  {
   "cell_type": "code",
   "execution_count": 45,
   "metadata": {},
   "outputs": [
    {
     "data": {
      "text/plain": [
       "Dict{String, Any} with 10 entries:\n",
       "  \"avg_price\" => 33.5045\n",
       "  \"solar_gw\"  => -9.97587e-9\n",
       "  \"cost\"      => [740.963, 573.792, 1071.45, 350.522, 457.893, 379.907, 657.347…\n",
       "  \"price\"     => [42.4835, 38.4386, 61.2367, 26.5039, 36.0861, 27.6725, 40.2351…\n",
       "  \"gas_gw\"    => 1.97069\n",
       "  \"status\"    => \"LOCALLY_SOLVED\"\n",
       "  \"imports\"   => [7.14198, 8.35576, 7.76702, 7.01849, 5.59778, 6.07772, 8.92248…\n",
       "  \"demand\"    => [33.4174, 29.9316, 41.6982, 22.1216, 23.6691, 21.8686, 33.1428…\n",
       "  \"quantity\"  => [4.61597 11.5 … 4.96219e-9 1.8045e-9; 3.95377 11.5 … 5.82e-9 9…\n",
       "  \"wind_gw\"   => -9.69727e-9"
      ]
     },
     "metadata": {},
     "output_type": "display_data"
    }
   ],
   "source": [
    "results_min = clear_market_invest(dfclust, tech)"
   ]
  },
  {
   "cell_type": "markdown",
   "metadata": {},
   "source": [
    "## Environmental regulation\n",
    "\n",
    "We will begin by adding carbon taxes to the model.\n",
    "\n"
   ]
  },
  {
   "cell_type": "code",
   "execution_count": 48,
   "metadata": {},
   "outputs": [
    {
     "data": {
      "text/plain": [
       "clear_market_invest_tax (generic function with 2 methods)"
      ]
     },
     "metadata": {},
     "output_type": "display_data"
    }
   ],
   "source": [
    "function clear_market_invest_tax(data::DataFrame, tech::DataFrame,tax=30.0)\n",
    "\n",
    "    # We declare a model\n",
    "    model = Model(\n",
    "        optimizer_with_attributes(\n",
    "            Ipopt.Optimizer, \n",
    "                \"print_level\"=>0)\n",
    "        );\n",
    "\n",
    "    # Set useful indexes\n",
    "    I = nrow(tech);  # number of techs\n",
    "    T = nrow(data);  # number of periods\n",
    "\n",
    "    # Variables to solve for\n",
    "    @variable(model, price[1:T]);\n",
    "    @variable(model, demand[1:T]);\n",
    "    @variable(model, imports[1:T]);\n",
    "    @variable(model, quantity[1:T, 1:I] >= 0);\n",
    "    @variable(model, costs[1:T]);\n",
    "    @variable(model, gross_surplus[1:T]);\n",
    "    @variable(model, gas_gw >= 0.0);\n",
    "    @variable(model, wind_gw >= 0.0);\n",
    "    @variable(model, solar_gw >= 0.0);\n",
    "\n",
    "    # New variable\n",
    "    @variable(model, totale[1:T]);\n",
    "\n",
    "    # Maximize welfare including imports costs\n",
    "    @NLobjective(model, Max, sum(data.weights[t] * \n",
    "                (gross_surplus[t] - costs[t] - tax*totale[t]) for t=1:T)\n",
    "             - tech.F[5]*gas_gw  - tech.F[6]*wind_gw - tech.F[7]*solar_gw \n",
    "             - tech.F2[5]*gas_gw^2  - tech.F2[6]*wind_gw^2 - tech.F2[7]*solar_gw^2);\n",
    "\n",
    "    # Market clearing\n",
    "    @constraint(model, [t=1:T], \n",
    "        demand[t] == data.a[t] - data.b[t] * price[t]);\n",
    "    @constraint(model, [t=1:T], \n",
    "        imports[t] == data.am[t] + data.bm[t] * price[t]);\n",
    "    @constraint(model, [t=1:T], \n",
    "        demand[t] == sum(quantity[t,i] for i=1:I) + imports[t]);\n",
    "\n",
    "    # Define surplus\n",
    "    @constraint(model, [t=1:T], gross_surplus[t]==\n",
    "                (data.a[t] - demand[t]) * demand[t] / data.b[t] \n",
    "            + demand[t]^2/(2*data.b[t]));\n",
    "\n",
    "    # Define cost\n",
    "    @constraint(model, [t=1:T], costs[t] ==\n",
    "                    sum(tech.c[i] * quantity[t,i]\n",
    "                    + tech.c2[i] * quantity[t,i]^2/2 for i=1:I)\n",
    "        + (imports[t] - data.am[t])^2/(2 * data.bm[t]))\n",
    "\n",
    "    # Define emissions \n",
    "    @constraint(model, [t=1:T], totale[t] ==\n",
    "                    sum(tech.e[i] * quantity[t,i] + tech.e2[i] * quantity[t,i]^2 for i=1:I))\n",
    "\n",
    "        # Constraints on output\n",
    "    @constraint(model, [t=1:T], \n",
    "        quantity[t,1] <= data.hydronuc[t]);\n",
    "    @constraint(model, [t=1:T,i=2:4], \n",
    "        quantity[t,i] <= tech[i,\"capUB\"]);\n",
    "    @constraint(model, [t=1:T], \n",
    "        quantity[t,5] <= gas_gw);\n",
    "    @constraint(model, [t=1:T], \n",
    "        quantity[t,6] <= wind_gw * data.wind_cap[t]);\n",
    "    @constraint(model, [t=1:T], \n",
    "        quantity[t,7] <= solar_gw * data.solar_cap[t]);\n",
    "\n",
    "    \n",
    "    # Solve model\n",
    "    optimize!(model);\n",
    "\n",
    "    status = @sprintf(\"%s\", JuMP.termination_status(model));\n",
    "\n",
    "    if (status==\"LOCALLY_SOLVED\")\n",
    "        p = JuMP.value.(price);\n",
    "        avg_price = sum(p[t] * data.weights[t]/sum(data.weights) for t=1:T);\n",
    "        q = JuMP.value.(quantity);\n",
    "        imp = JuMP.value.(imports);\n",
    "        d = JuMP.value.(demand);\n",
    "        cost = JuMP.value.(costs);\n",
    "        totale = JuMP.value.(totale);\n",
    "        avg_emissions = sum(totale[t] * data.weights[t]/sum(data.weights) for t=1:T);\n",
    "        results = Dict(\"status\" => @sprintf(\"%s\",JuMP.termination_status(model)),\n",
    "            \"avg_price\" => avg_price,\n",
    "            \"avg_emissions\" => avg_emissions,\n",
    "            \"price\" => p,\n",
    "            \"quantity\" => q,\n",
    "            \"imports\" => imp,\n",
    "            \"demand\" => d,\n",
    "            \"cost\" => cost,\n",
    "            \"totale\" => totale,\n",
    "            \"gas_gw\" => JuMP.value.(gas_gw),\n",
    "            \"wind_gw\" => JuMP.value.(wind_gw),\n",
    "            \"solar_gw\" => JuMP.value.(solar_gw));\n",
    "        return results\n",
    "    else\n",
    "        results = Dict(\"status\" => @sprintf(\"%s\",JuMP.termination_status(model)));\n",
    "        return results\n",
    "    end\n",
    "\n",
    "end"
   ]
  },
  {
   "cell_type": "code",
   "execution_count": 51,
   "metadata": {},
   "outputs": [
    {
     "data": {
      "text/plain": [
       "Dict{String, Any} with 12 entries:\n",
       "  \"avg_price\"     => 43.6926\n",
       "  \"price\"         => [57.2074, 51.199, 70.3597, 36.9793, 43.5261, 40.0505, 55.2…\n",
       "  \"gas_gw\"        => 1.84275\n",
       "  \"status\"        => \"LOCALLY_SOLVED\"\n",
       "  \"totale\"        => [7.74857, 5.60993, 13.4352, 2.39038, 5.43327, 4.5213, 7.01…\n",
       "  \"quantity\"      => [4.61597 11.5 … 2.58407 1.76044e-9; 3.95377 11.5 … 2.20904…\n",
       "  \"solar_gw\"      => -9.9378e-9\n",
       "  \"imports\"       => [7.85668, 9.16087, 8.08204, 7.84942, 5.93798, 6.72439, 9.8…\n",
       "  \"demand\"        => [32.3261, 28.9878, 41.1627, 21.2493, 23.1943, 21.1751, 32.…\n",
       "  \"avg_emissions\" => 4.77937\n",
       "  \"cost\"          => [601.551, 466.937, 952.03, 242.169, 404.922, 345.999, 575.…\n",
       "  \"wind_gw\"       => 5.36329"
      ]
     },
     "metadata": {},
     "output_type": "display_data"
    }
   ],
   "source": [
    "results_tax = clear_market_invest_tax(dfclust, tech)"
   ]
  },
  {
   "cell_type": "markdown",
   "metadata": {},
   "source": [
    "Finally, we will add a subsidy to the model. One can think of the subsidy as a negative cost to renewable power. "
   ]
  },
  {
   "cell_type": "code",
   "execution_count": 52,
   "metadata": {},
   "outputs": [
    {
     "data": {
      "text/plain": [
       "clear_market_invest_subsidy (generic function with 2 methods)"
      ]
     },
     "metadata": {},
     "output_type": "display_data"
    }
   ],
   "source": [
    "function clear_market_invest_subsidy(data::DataFrame, tech::DataFrame,subsidy=10.0)\n",
    "\n",
    "    # We declare a model\n",
    "    model = Model(\n",
    "        optimizer_with_attributes(\n",
    "            Ipopt.Optimizer, \n",
    "                \"print_level\"=>0)\n",
    "        );\n",
    "\n",
    "    # Set useful indexes\n",
    "    I = nrow(tech);  # number of techs\n",
    "    T = nrow(data);  # number of periods\n",
    "\n",
    "    # Variables to solve for\n",
    "    @variable(model, price[1:T]);\n",
    "    @variable(model, demand[1:T]);\n",
    "    @variable(model, imports[1:T]);\n",
    "    @variable(model, quantity[1:T, 1:I] >= 0);\n",
    "    @variable(model, costs[1:T]);\n",
    "    @variable(model, gross_surplus[1:T]);\n",
    "    @variable(model, gas_gw >= 0.0);\n",
    "    @variable(model, wind_gw >= 0.0);\n",
    "    @variable(model, solar_gw >= 0.0);\n",
    "\n",
    "    # New variable\n",
    "    @variable(model, totale[1:T]);\n",
    "\n",
    "    # Maximize welfare including imports costs\n",
    "    @NLobjective(model, Max, sum(data.weights[t] * \n",
    "                (gross_surplus[t] - costs[t] ) for t=1:T)\n",
    "             - tech.F[5]*gas_gw  - tech.F[6]*wind_gw - tech.F[7]*solar_gw \n",
    "             - tech.F2[5]*gas_gw^2  - tech.F2[6]*wind_gw^2 - tech.F2[7]*solar_gw^2);\n",
    "\n",
    "    # Market clearing\n",
    "    @constraint(model, [t=1:T], \n",
    "        demand[t] == data.a[t] - data.b[t] * price[t]);\n",
    "    @constraint(model, [t=1:T], \n",
    "        imports[t] == data.am[t] + data.bm[t] * price[t]);\n",
    "    @constraint(model, [t=1:T], \n",
    "        demand[t] == sum(quantity[t,i] for i=1:I) + imports[t]);\n",
    "\n",
    "    # Define surplus\n",
    "    @constraint(model, [t=1:T], gross_surplus[t]==\n",
    "                (data.a[t] - demand[t]) * demand[t] / data.b[t] \n",
    "            + demand[t]^2/(2*data.b[t]));\n",
    "\n",
    "    # Define cost\n",
    "    @constraint(model, [t=1:T], costs[t] ==\n",
    "                    sum(tech.c[i] * quantity[t,i]\n",
    "                    + tech.c2[i] * quantity[t,i]^2/2 \n",
    "                    - subsidy * tech.renewable[i] * quantity[t,i] for i=1:I)\n",
    "        + (imports[t] - data.am[t])^2/(2 * data.bm[t]))\n",
    "\n",
    "    # Define emissions \n",
    "    @constraint(model, [t=1:T], totale[t] ==\n",
    "        sum(tech.e[i] * quantity[t,i] + tech.e2[i] * quantity[t,i]^2 for i=1:I))\n",
    "\n",
    "\n",
    "        # Constraints on output\n",
    "    @constraint(model, [t=1:T], \n",
    "        quantity[t,1] <= data.hydronuc[t]);\n",
    "    @constraint(model, [t=1:T,i=2:4], \n",
    "        quantity[t,i] <= tech[i,\"capUB\"]);\n",
    "    @constraint(model, [t=1:T], \n",
    "        quantity[t,5] <= gas_gw);\n",
    "    @constraint(model, [t=1:T], \n",
    "        quantity[t,6] <= wind_gw * data.wind_cap[t]);\n",
    "    @constraint(model, [t=1:T], \n",
    "        quantity[t,7] <= solar_gw * data.solar_cap[t]);\n",
    "\n",
    "\n",
    "    # Solve model\n",
    "    optimize!(model);\n",
    "\n",
    "    status = @sprintf(\"%s\", JuMP.termination_status(model));\n",
    "\n",
    "    if (status==\"LOCALLY_SOLVED\")\n",
    "        p = JuMP.value.(price);\n",
    "        avg_price = sum(p[t] * data.weights[t]/sum(data.weights) for t=1:T);\n",
    "        q = JuMP.value.(quantity);\n",
    "        imp = JuMP.value.(imports);\n",
    "        d = JuMP.value.(demand);\n",
    "        cost = JuMP.value.(costs);\n",
    "        totale = JuMP.value.(totale);\n",
    "        avg_emissions = sum(totale[t] * data.weights[t]/sum(data.weights) for t=1:T);\n",
    "        results = Dict(\"status\" => @sprintf(\"%s\",JuMP.termination_status(model)),\n",
    "            \"avg_price\" => avg_price,\n",
    "            \"avg_emissions\" => avg_emissions,\n",
    "            \"price\" => p,\n",
    "            \"quantity\" => q,\n",
    "            \"imports\" => imp,\n",
    "            \"demand\" => d,\n",
    "            \"cost\" => cost,\n",
    "            \"totale\" => totale,\n",
    "            \"gas_gw\" => JuMP.value.(gas_gw),\n",
    "            \"wind_gw\" => JuMP.value.(wind_gw),\n",
    "            \"solar_gw\" => JuMP.value.(solar_gw));\n",
    "        return results\n",
    "    else\n",
    "        results = Dict(\"status\" => @sprintf(\"%s\",JuMP.termination_status(model)));\n",
    "        return results\n",
    "    end\n",
    "\n",
    "end"
   ]
  },
  {
   "cell_type": "code",
   "execution_count": 55,
   "metadata": {},
   "outputs": [
    {
     "data": {
      "text/plain": [
       "Dict{String, Any} with 12 entries:\n",
       "  \"avg_price\"     => 32.7931\n",
       "  \"price\"         => [41.3537, 37.6123, 53.0627, 25.8507, 36.1026, 30.7403, 40.…\n",
       "  \"gas_gw\"        => 0.975417\n",
       "  \"status\"        => \"LOCALLY_SOLVED\"\n",
       "  \"totale\"        => [9.53837, 7.06908, 15.4321, 3.39742, 6.16026, 5.1297, 8.71…\n",
       "  \"quantity\"      => [4.61597 11.5 … 2.2615 1.45904e-9; 3.95377 11.5 … 1.93328 …\n",
       "  \"solar_gw\"      => -9.87458e-9\n",
       "  \"imports\"       => [7.08714, 8.30363, 7.48477, 6.96668, 5.59854, 6.23799, 8.9…\n",
       "  \"demand\"        => [33.5012, 29.9927, 42.1779, 22.176, 23.668, 21.6967, 33.14…\n",
       "  \"avg_emissions\" => 5.83137\n",
       "  \"cost\"          => [645.062, 497.396, 1006.39, 241.764, 425.028, 354.239, 619…\n",
       "  \"wind_gw\"       => 4.69379"
      ]
     },
     "metadata": {},
     "output_type": "display_data"
    }
   ],
   "source": [
    "results_subsidy = clear_market_invest_subsidy(dfclust, tech)"
   ]
  },
  {
   "cell_type": "markdown",
   "metadata": {},
   "source": [
    "## Follow-up exercises\n",
    "\n",
    "1. Consider a tax and a subsidy that reach the same target of emissions. What are the different costs? How are the different components of welfare affected?\n",
    "\n",
    "Note: This will require you to include emissions as an input or an output to the function."
   ]
  }
 ],
 "metadata": {
  "kernelspec": {
   "display_name": "Julia 1.9.2",
   "language": "julia",
   "name": "julia-1.9"
  },
  "language_info": {
   "file_extension": ".jl",
   "mimetype": "application/julia",
   "name": "julia",
   "version": "1.9.2"
  }
 },
 "nbformat": 4,
 "nbformat_minor": 2
}
