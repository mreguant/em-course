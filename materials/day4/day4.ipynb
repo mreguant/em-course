{
 "cells": [
  {
   "cell_type": "markdown",
   "metadata": {},
   "source": [
    "# Day 7: Demand I - Enhancing the model with demand\n",
    "\n",
    "We will continue our modeling exercise by including demand responses.\n",
    "\n",
    "This will allow us to consider the policy impacts of alternative energy transition policies, when consumers face different pricing regimes.\n",
    "\n",
    "The data and code are based on the paper \"The Efficiency and Sectoral Distributional Implications of Large-Scale Renewable Policies,\" by Mar Reguant."
   ]
  },
  {
   "cell_type": "markdown",
   "metadata": {},
   "source": [
    "We first load relevant libraries, same as last session."
   ]
  },
  {
   "cell_type": "code",
   "execution_count": null,
   "metadata": {
    "scrolled": true
   },
   "outputs": [],
   "source": [
    "#using Pkg\n",
    "#Pkg.add([\"DataFrames\", \"CSV\", \"JuMP\", \"Ipopt\", \"Cbc\", \"Plots\", \"Printf\"])"
   ]
  },
  {
   "cell_type": "code",
   "execution_count": 1,
   "metadata": {},
   "outputs": [],
   "source": [
    " \n",
    "using DataFrames\n",
    "using CSV\n",
    "using JuMP\n",
    "using Ipopt, Cbc\n",
    "using Plots\n",
    "using Printf\n"
   ]
  },
  {
   "cell_type": "markdown",
   "metadata": {},
   "source": [
    "## Building the model\n",
    "\n",
    "We load the same data as usual, and also clean it up to simplify it further and create the demand and import curves."
   ]
  },
  {
   "cell_type": "code",
   "execution_count": 2,
   "metadata": {},
   "outputs": [
    {
     "data": {
      "text/html": [
       "<table class=\"data-frame\"><thead><tr><th></th><th>variable</th><th>mean</th><th>min</th><th>median</th><th>max</th><th>nmissing</th><th>eltype</th></tr><tr><th></th><th>Symbol</th><th>Float64</th><th>Float64</th><th>Float64</th><th>Float64</th><th>Int64</th><th>DataType</th></tr></thead><tbody><p>12 rows × 7 columns</p><tr><th>1</th><td>price</td><td>38.5055</td><td>1.66311</td><td>37.2797</td><td>137.116</td><td>0</td><td>Float64</td></tr><tr><th>2</th><td>imports</td><td>7.52426</td><td>4.2479</td><td>7.57055</td><td>9.79814</td><td>0</td><td>Float64</td></tr><tr><th>3</th><td>q_commercial</td><td>12.9532</td><td>9.26236</td><td>12.3881</td><td>22.1766</td><td>0</td><td>Float64</td></tr><tr><th>4</th><td>q_industrial</td><td>4.1224</td><td>2.60049</td><td>3.83347</td><td>7.62003</td><td>0</td><td>Float64</td></tr><tr><th>5</th><td>q_residential</td><td>11.0753</td><td>4.3995</td><td>10.0075</td><td>20.4922</td><td>0</td><td>Float64</td></tr><tr><th>6</th><td>wind_cap</td><td>0.340955</td><td>0.0935896</td><td>0.334676</td><td>0.681777</td><td>0</td><td>Float64</td></tr><tr><th>7</th><td>solar_cap</td><td>0.260549</td><td>0.00155919</td><td>0.0679638</td><td>0.793407</td><td>0</td><td>Float64</td></tr><tr><th>8</th><td>hydronuc</td><td>5.0346</td><td>2.36316</td><td>4.56859</td><td>9.68051</td><td>0</td><td>Float64</td></tr><tr><th>9</th><td>weights</td><td>0.0876</td><td>0.00787044</td><td>0.0788053</td><td>0.227839</td><td>0</td><td>Float64</td></tr><tr><th>10</th><td>demand</td><td>28.1509</td><td>20.6052</td><td>27.0938</td><td>41.8096</td><td>0</td><td>Float64</td></tr><tr><th>11</th><td>bm</td><td>0.0771438</td><td>0.0128668</td><td>0.061616</td><td>1.13582</td><td>0</td><td>Float64</td></tr><tr><th>12</th><td>am</td><td>5.26698</td><td>2.97353</td><td>5.29939</td><td>6.8587</td><td>0</td><td>Float64</td></tr></tbody></table>"
      ],
      "text/latex": [
       "\\begin{tabular}{r|ccccccc}\n",
       "\t& variable & mean & min & median & max & nmissing & eltype\\\\\n",
       "\t\\hline\n",
       "\t& Symbol & Float64 & Float64 & Float64 & Float64 & Int64 & DataType\\\\\n",
       "\t\\hline\n",
       "\t1 & price & 38.5055 & 1.66311 & 37.2797 & 137.116 & 0 & Float64 \\\\\n",
       "\t2 & imports & 7.52426 & 4.2479 & 7.57055 & 9.79814 & 0 & Float64 \\\\\n",
       "\t3 & q\\_commercial & 12.9532 & 9.26236 & 12.3881 & 22.1766 & 0 & Float64 \\\\\n",
       "\t4 & q\\_industrial & 4.1224 & 2.60049 & 3.83347 & 7.62003 & 0 & Float64 \\\\\n",
       "\t5 & q\\_residential & 11.0753 & 4.3995 & 10.0075 & 20.4922 & 0 & Float64 \\\\\n",
       "\t6 & wind\\_cap & 0.340955 & 0.0935896 & 0.334676 & 0.681777 & 0 & Float64 \\\\\n",
       "\t7 & solar\\_cap & 0.260549 & 0.00155919 & 0.0679638 & 0.793407 & 0 & Float64 \\\\\n",
       "\t8 & hydronuc & 5.0346 & 2.36316 & 4.56859 & 9.68051 & 0 & Float64 \\\\\n",
       "\t9 & weights & 0.0876 & 0.00787044 & 0.0788053 & 0.227839 & 0 & Float64 \\\\\n",
       "\t10 & demand & 28.1509 & 20.6052 & 27.0938 & 41.8096 & 0 & Float64 \\\\\n",
       "\t11 & bm & 0.0771438 & 0.0128668 & 0.061616 & 1.13582 & 0 & Float64 \\\\\n",
       "\t12 & am & 5.26698 & 2.97353 & 5.29939 & 6.8587 & 0 & Float64 \\\\\n",
       "\\end{tabular}\n"
      ],
      "text/plain": [
       "\u001b[1m12×7 DataFrame\u001b[0m\n",
       "\u001b[1m Row \u001b[0m│\u001b[1m variable      \u001b[0m\u001b[1m mean       \u001b[0m\u001b[1m min         \u001b[0m\u001b[1m median     \u001b[0m\u001b[1m max        \u001b[0m\u001b[1m nmissin\u001b[0m ⋯\n",
       "\u001b[1m     \u001b[0m│\u001b[90m Symbol        \u001b[0m\u001b[90m Float64    \u001b[0m\u001b[90m Float64     \u001b[0m\u001b[90m Float64    \u001b[0m\u001b[90m Float64    \u001b[0m\u001b[90m Int64  \u001b[0m ⋯\n",
       "─────┼──────────────────────────────────────────────────────────────────────────\n",
       "   1 │ price          38.5055      1.66311     37.2797     137.116             ⋯\n",
       "   2 │ imports         7.52426     4.2479       7.57055      9.79814\n",
       "   3 │ q_commercial   12.9532      9.26236     12.3881      22.1766\n",
       "   4 │ q_industrial    4.1224      2.60049      3.83347      7.62003\n",
       "   5 │ q_residential  11.0753      4.3995      10.0075      20.4922            ⋯\n",
       "   6 │ wind_cap        0.340955    0.0935896    0.334676     0.681777\n",
       "   7 │ solar_cap       0.260549    0.00155919   0.0679638    0.793407\n",
       "   8 │ hydronuc        5.0346      2.36316      4.56859      9.68051\n",
       "   9 │ weights         0.0876      0.00787044   0.0788053    0.227839          ⋯\n",
       "  10 │ demand         28.1509     20.6052      27.0938      41.8096\n",
       "  11 │ bm              0.0771438   0.0128668    0.061616     1.13582\n",
       "  12 │ am              5.26698     2.97353      5.29939      6.8587\n",
       "\u001b[36m                                                               2 columns omitted\u001b[0m"
      ]
     },
     "metadata": {},
     "output_type": "display_data"
    }
   ],
   "source": [
    "\n",
    "dfclust = CSV.read(\"data_jaere_clustered.csv\", DataFrame);\n",
    "\n",
    "# Re-scaling (we multiply by 8.76 to make it into a full year of hours (divided by 1000))\n",
    "dfclust.weights = 8.76 * dfclust.weights / sum(dfclust.weights);\n",
    "\n",
    "# Here only one demand type to make it easier\n",
    "dfclust.demand = dfclust.q_residential + dfclust.q_commercial + dfclust.q_industrial;\n",
    "\n",
    "# Calibrate imports (using elas 0.3)\n",
    "dfclust.bm = 0.3 * dfclust.imports ./ dfclust.price;  # slope\n",
    "dfclust.am = dfclust.imports - dfclust.bm .* dfclust.price;  # intercept\n",
    "    \n",
    "describe(dfclust)\n",
    "\n"
   ]
  },
  {
   "cell_type": "markdown",
   "metadata": {},
   "source": [
    "We also load the technology file"
   ]
  },
  {
   "cell_type": "code",
   "execution_count": 3,
   "metadata": {
    "scrolled": true
   },
   "outputs": [
    {
     "data": {
      "text/html": [
       "<table class=\"data-frame\"><thead><tr><th></th><th>techname</th><th>heatrate</th><th>heatrate2</th><th>F</th><th>capLB</th><th>capUB</th><th>new</th><th>renewable</th></tr><tr><th></th><th>String15</th><th>Float64</th><th>Float64</th><th>Float64</th><th>Float64</th><th>Float64</th><th>Int64</th><th>Int64</th></tr></thead><tbody><p>7 rows × 15 columns (omitted printing of 7 columns)</p><tr><th>1</th><td>Hydro/Nuclear</td><td>10.0</td><td>0.0</td><td>0.0</td><td>1.0</td><td>1.0</td><td>0</td><td>0</td></tr><tr><th>2</th><td>Existing 1</td><td>6.67199</td><td>0.0929123</td><td>0.0</td><td>11.5</td><td>11.5</td><td>0</td><td>0</td></tr><tr><th>3</th><td>Existing 2</td><td>9.79412</td><td>0.286247</td><td>0.0</td><td>14.5</td><td>14.5</td><td>0</td><td>0</td></tr><tr><th>4</th><td>Existing 3</td><td>13.8181</td><td>20.5352</td><td>0.0</td><td>0.578</td><td>0.578</td><td>0</td><td>0</td></tr><tr><th>5</th><td>New Gas</td><td>6.6</td><td>0.0</td><td>78.4773</td><td>0.0</td><td>100.0</td><td>1</td><td>0</td></tr><tr><th>6</th><td>Wind</td><td>0.0</td><td>0.0</td><td>100.303</td><td>0.0</td><td>100.0</td><td>1</td><td>1</td></tr><tr><th>7</th><td>Solar</td><td>0.0</td><td>0.0</td><td>100.303</td><td>0.0</td><td>100.0</td><td>1</td><td>1</td></tr></tbody></table>"
      ],
      "text/latex": [
       "\\begin{tabular}{r|ccccccccc}\n",
       "\t& techname & heatrate & heatrate2 & F & capLB & capUB & new & renewable & \\\\\n",
       "\t\\hline\n",
       "\t& String15 & Float64 & Float64 & Float64 & Float64 & Float64 & Int64 & Int64 & \\\\\n",
       "\t\\hline\n",
       "\t1 & Hydro/Nuclear & 10.0 & 0.0 & 0.0 & 1.0 & 1.0 & 0 & 0 & $\\dots$ \\\\\n",
       "\t2 & Existing 1 & 6.67199 & 0.0929123 & 0.0 & 11.5 & 11.5 & 0 & 0 & $\\dots$ \\\\\n",
       "\t3 & Existing 2 & 9.79412 & 0.286247 & 0.0 & 14.5 & 14.5 & 0 & 0 & $\\dots$ \\\\\n",
       "\t4 & Existing 3 & 13.8181 & 20.5352 & 0.0 & 0.578 & 0.578 & 0 & 0 & $\\dots$ \\\\\n",
       "\t5 & New Gas & 6.6 & 0.0 & 78.4773 & 0.0 & 100.0 & 1 & 0 & $\\dots$ \\\\\n",
       "\t6 & Wind & 0.0 & 0.0 & 100.303 & 0.0 & 100.0 & 1 & 1 & $\\dots$ \\\\\n",
       "\t7 & Solar & 0.0 & 0.0 & 100.303 & 0.0 & 100.0 & 1 & 1 & $\\dots$ \\\\\n",
       "\\end{tabular}\n"
      ],
      "text/plain": [
       "\u001b[1m7×15 DataFrame\u001b[0m\n",
       "\u001b[1m Row \u001b[0m│\u001b[1m techname      \u001b[0m\u001b[1m heatrate \u001b[0m\u001b[1m heatrate2  \u001b[0m\u001b[1m F        \u001b[0m\u001b[1m capLB   \u001b[0m\u001b[1m capUB   \u001b[0m\u001b[1m new   \u001b[0m\u001b[1m\u001b[0m ⋯\n",
       "\u001b[1m     \u001b[0m│\u001b[90m String15      \u001b[0m\u001b[90m Float64  \u001b[0m\u001b[90m Float64    \u001b[0m\u001b[90m Float64  \u001b[0m\u001b[90m Float64 \u001b[0m\u001b[90m Float64 \u001b[0m\u001b[90m Int64 \u001b[0m\u001b[90m\u001b[0m ⋯\n",
       "─────┼──────────────────────────────────────────────────────────────────────────\n",
       "   1 │ Hydro/Nuclear  10.0       0.0          0.0       1.0      1.0        0  ⋯\n",
       "   2 │ Existing 1      6.67199   0.0929123    0.0      11.5     11.5        0\n",
       "   3 │ Existing 2      9.79412   0.286247     0.0      14.5     14.5        0\n",
       "   4 │ Existing 3     13.8181   20.5352       0.0       0.578    0.578      0\n",
       "   5 │ New Gas         6.6       0.0         78.4773    0.0    100.0        1  ⋯\n",
       "   6 │ Wind            0.0       0.0        100.303     0.0    100.0        1\n",
       "   7 │ Solar           0.0       0.0        100.303     0.0    100.0        1\n",
       "\u001b[36m                                                               8 columns omitted\u001b[0m"
      ]
     },
     "metadata": {},
     "output_type": "display_data"
    }
   ],
   "source": [
    "\n",
    "tech = CSV.read(\"data_technology.csv\", DataFrame);\n",
    "afactor = (1 - (1 / (1.05^20.0))) / 0.05;\n",
    "tech.F = tech.F ./afactor;\n",
    "tech.F2 = tech.F2 ./afactor;\n",
    "tech\n"
   ]
  },
  {
   "cell_type": "markdown",
   "metadata": {},
   "source": [
    "### Adding demand considerations\n",
    "\n",
    "We are now ready to clear the market. We will **maximize welfare** using a non-linear solver.\n",
    "\n",
    "$$ \\max \\ CS - Costs - Fixed Costs \\\\\n",
    "\n",
    "\\text{s.t.} \\ \\text{operational constraints, market clearing}. $$\n",
    "\n",
    "To include demand, we will separate the price that consumers pay from the price that the wholesale market sets. We define a variable \"tariff\" that is what consumers pay any hour of the day.\n",
    "\n",
    "We also allow alpha to determine the share of \"insensitive\" consumers. We can see how the investment changes as we modify \"alpha\"."
   ]
  },
  {
   "cell_type": "code",
   "execution_count": 10,
   "metadata": {},
   "outputs": [
    {
     "data": {
      "text/plain": [
       "clear_market_invest_tariff (generic function with 1 method)"
      ]
     },
     "metadata": {},
     "output_type": "display_data"
    }
   ],
   "source": [
    "function clear_market_invest_tariff(data::DataFrame, tech::DataFrame;\n",
    "    subsidy=0.0, tax=0.0, elas = 0.3,tariff= 40.0,alpha=1.0)\n",
    "\n",
    "    # We declare a model\n",
    "    model = Model(\n",
    "        optimizer_with_attributes(\n",
    "            Ipopt.Optimizer, \n",
    "                \"print_level\"=>0)\n",
    "        );\n",
    "\n",
    "    # Set useful indexes\n",
    "    I = nrow(tech);  # number of techs\n",
    "    T = nrow(data);  # number of periods\n",
    "\n",
    "     # Setting demand parameters\n",
    "     data.b = elas * data.demand ./ data.price;  # slope\n",
    "     data.a = data.demand + data.b .* data.price;  # intercept\n",
    "    \n",
    "    # Variables to solve for\n",
    "    @variable(model, price[1:T]);\n",
    "    @variable(model, demand[1:T]);\n",
    "    @variable(model, imports[1:T]);\n",
    "    @variable(model, quantity[1:T, 1:I] >= 0);\n",
    "    @variable(model, costs[1:T]);\n",
    "    @variable(model, total_cost);\n",
    "    @variable(model, profit[1:I]);  # profits by technology need to be at least zero\n",
    "    @variable(model, gross_surplus[1:T]);\n",
    "    @variable(model, gas_gw >= 0.0);\n",
    "    @variable(model, wind_gw >= 0.0);\n",
    "    @variable(model, solar_gw >= 0.0);\n",
    "\n",
    "    \n",
    "    # Maximize welfare including imports costs\n",
    "    @NLobjective(model, Max, sum(data.weights[t] * \n",
    "                (gross_surplus[t] - costs[t] ) for t=1:T)\n",
    "             - tech.F[5]*gas_gw  - tech.F[6]*wind_gw - tech.F[7]*solar_gw \n",
    "             - tech.F2[5]*gas_gw^2  - tech.F2[6]*wind_gw^2 - tech.F2[7]*solar_gw^2);\n",
    "\n",
    "    # Market clearing\n",
    "    @constraint(model, [t=1:T], \n",
    "        demand[t] == data.a[t] - data.b[t] * (alpha*tariff + (1.0-alpha)*price[t]));\n",
    "    @constraint(model, [t=1:T], \n",
    "        imports[t] == data.am[t] + data.bm[t] * price[t]);\n",
    "    @constraint(model, [t=1:T], \n",
    "        demand[t] == sum(quantity[t,i] for i=1:I) + imports[t]);\n",
    "\n",
    "    # Define surplus\n",
    "    @constraint(model, [t=1:T], gross_surplus[t]==\n",
    "        # insenstive consumers\n",
    "                alpha * (tariff * (data.a[t] - data.b[t]*tariff) \n",
    "            + (data.a[t] - data.b[t]*tariff)^2/(2*data.b[t])) \n",
    "        # sensitive consumers\n",
    "            + (1.0-alpha)*(price[t] * (data.a[t] - data.b[t]*price[t]) \n",
    "            + (data.a[t] - data.b[t]*price[t])^2/(2*data.b[t])));\n",
    "\n",
    " # Define costs\n",
    "@constraint(model, [t=1:T], costs[t] ==\n",
    "        sum(tech.c[i] * quantity[t,i]\n",
    "        + tech.c2[i] * quantity[t,i]^2/2 \n",
    "        + tax * tech.e[i] * quantity[t,i] \n",
    "        - subsidy * tech.renewable[i] * quantity[t,i] for i=1:I)\n",
    "+ (imports[t] - data.am[t])^2/(2 * data.bm[t]))\n",
    "\n",
    "\n",
    "@constraint(model, total_cost == sum(data.weights[t] * costs[t] for t=1:T)\n",
    " + tech.F[5]*gas_gw  + tech.F[6]*wind_gw + tech.F[7]*solar_gw \n",
    " + tech.F2[5]*gas_gw^2  + tech.F2[6]*wind_gw^2 + tech.F2[7]*solar_gw^2)\n",
    "\n",
    "# Define profits\n",
    "@constraint(model, [i=1:4], profit[i] == \n",
    "        sum(data.weights[t]*(price[t] \n",
    "    - tech.c[i] - tech.c2[i]*quantity[t,i]/2)*quantity[t,i] for t=1:T));\n",
    "@constraint(model, profit[5] == \n",
    "        sum(data.weights[t]*(price[t] \n",
    "    - tech.c[5] - tech.c2[5]*quantity[t,5]/2)*quantity[t,5] for t=1:T)\n",
    "    - tech.F[5]*gas_gw - tech.F2[5]*gas_gw^2);\n",
    "@constraint(model, profit[6] == \n",
    "        sum(data.weights[t]*(price[t] \n",
    "    - tech.c[6] - tech.c2[6]*quantity[t,6]/2)*quantity[t,6] for t=1:T)\n",
    "    - tech.F[6]*wind_gw - tech.F2[6]*wind_gw^2);\n",
    "@constraint(model, [i=1:4], profit[7] == \n",
    "        sum(data.weights[t]*(price[t] \n",
    "    - tech.c[7] - tech.c2[7]*quantity[t,7]/2)*quantity[t,7] for t=1:T)\n",
    "    - tech.F[7]*solar_gw - tech.F2[7]*solar_gw^2);\n",
    "\n",
    "\n",
    "\n",
    "        # Constraints on output\n",
    "    @constraint(model, [t=1:T], \n",
    "        quantity[t,1] <= data.hydronuc[t]);\n",
    "    @constraint(model, [t=1:T,i=2:4], \n",
    "        quantity[t,i] <= tech[i,\"capUB\"]);\n",
    "    @constraint(model, [t=1:T], \n",
    "        quantity[t,5] <= gas_gw);\n",
    "    @constraint(model, [t=1:T], \n",
    "        quantity[t,6] <= wind_gw * data.wind_cap[t]);\n",
    "    @constraint(model, [t=1:T], \n",
    "        quantity[t,7] <= solar_gw * data.solar_cap[t]);\n",
    "\n",
    "\n",
    "    # Solve model\n",
    "    optimize!(model);\n",
    "\n",
    "    status = @sprintf(\"%s\", JuMP.termination_status(model));\n",
    "\n",
    "    if (status==\"LOCALLY_SOLVED\")\n",
    "        p = JuMP.value.(price);\n",
    "        d = JuMP.value.(demand);\n",
    "        q = JuMP.value.(quantity);\n",
    "        d_insen = (data.a .- data.b.*tariff);\n",
    "        d_sen = (data.a .- data.b.*p);\n",
    "        avg_price = sum(p.*d.*data.weights)/sum(d.*data.weights);\n",
    "        avg_price_insen = sum(p.*d_insen.*data.weights)/sum(d_insen.*data.weights);\n",
    "        avg_price_sen = sum(p.*d_sen.*data.weights)/sum(d_sen.*data.weights);\n",
    "        imp = JuMP.value.(imports);\n",
    "        cost = JuMP.value.(costs);\n",
    "        results = Dict(\"status\" => @sprintf(\"%s\",JuMP.termination_status(model)),\n",
    "            \"avg_price\" => avg_price,\n",
    "            \"avg_price_insen\" => avg_price_insen,\n",
    "            \"avg_price_sen\" => avg_price_sen,\n",
    "            \"price\" => p,\n",
    "            \"quantity\" => q,\n",
    "            \"quantity_sen\" => d_sen,\n",
    "            \"quantity_insen\" => d_insen,\n",
    "            \"imports\" => imp,\n",
    "            \"demand\" => d,\n",
    "            \"cost\" => cost,\n",
    "            \"total_cost\" => JuMP.value.(total_cost),\n",
    "            \"profits\" => JuMP.value.(profit),\n",
    "            \"gas_gw\" => JuMP.value.(gas_gw),\n",
    "            \"wind_gw\" => JuMP.value.(wind_gw),\n",
    "            \"solar_gw\" => JuMP.value.(solar_gw));\n",
    "        return results\n",
    "    else\n",
    "        results = Dict(\"status\" => @sprintf(\"%s\",JuMP.termination_status(model)));\n",
    "        @printf(\"Solving error!\")\n",
    "        return results\n",
    "    end\n",
    "\n",
    "end"
   ]
  },
  {
   "cell_type": "markdown",
   "metadata": {},
   "source": [
    "We will set the initial tariff to $30/MWh."
   ]
  },
  {
   "cell_type": "code",
   "execution_count": 11,
   "metadata": {},
   "outputs": [
    {
     "data": {
      "text/plain": [
       "Dict{String, Any} with 16 entries:\n",
       "  \"avg_price\"       => 42.6059\n",
       "  \"price\"           => [42.6171, 35.1464, 26.225, 38.9551, 27.0243, 26.8164, 26…\n",
       "  \"gas_gw\"          => 1.87949\n",
       "  \"quantity_sen\"    => [39.4012, 27.6118, 28.851, 28.957, 23.9866, 26.467, 27.4…\n",
       "  \"status\"          => \"LOCALLY_SOLVED\"\n",
       "  \"quantity\"        => [9.46003 11.5 … 6.82405e-9 3.49202e-9; 4.0713 11.5 … 7.4…\n",
       "  \"solar_gw\"        => 0.0\n",
       "  \"imports\"         => [8.79488, 8.13045, 7.93675, 6.94785, 5.66144, 7.04172, 7…\n",
       "  \"avg_price_sen\"   => 16.0846\n",
       "  \"demand\"          => [39.9566, 26.4467, 25.3595, 28.683, 21.6728, 22.5578, 24…\n",
       "  \"avg_price_insen\" => 42.6059\n",
       "  \"cost\"            => [797.333, 448.557, 357.405, 586.45, 375.432, 369.875, 38…\n",
       "  \"quantity_insen\"  => [39.9566, 26.4467, 25.3595, 28.683, 21.6728, 22.5578, 24…\n",
       "  \"total_cost\"      => 4530.39\n",
       "  \"profits\"         => [931.943, 862.347, 304.843, 7.3963, 10.379, 3.06807e-6, …\n",
       "  \"wind_gw\"         => 0.0"
      ]
     },
     "metadata": {},
     "output_type": "display_data"
    }
   ],
   "source": [
    "results1 = clear_market_invest_tariff(dfclust, tech)"
   ]
  },
  {
   "cell_type": "markdown",
   "metadata": {},
   "source": [
    "Notice that average weighted prices are higher than the tariff we charged consumers, we need to charge them more or otherwise, we would not be able to pay the producers of energy."
   ]
  },
  {
   "cell_type": "code",
   "execution_count": 12,
   "metadata": {
    "scrolled": true
   },
   "outputs": [
    {
     "data": {
      "text/plain": [
       "Dict{String, Any} with 16 entries:\n",
       "  \"avg_price\"       => 46.7856\n",
       "  \"price\"           => [41.9624, 33.6989, 25.8759, 37.8299, 26.9125, 26.3308, 2…\n",
       "  \"gas_gw\"          => 0.445763\n",
       "  \"quantity_sen\"    => [39.5402, 27.9593, 28.9395, 29.2521, 24.0066, 26.611, 27…\n",
       "  \"status\"          => \"LOCALLY_SOLVED\"\n",
       "  \"quantity\"        => [9.46003 11.5 … 6.27049e-9 2.47795e-9; 4.0713 11.5 … 7.3…\n",
       "  \"solar_gw\"        => 0.0\n",
       "  \"imports\"         => [8.7601, 8.029, 7.90949, 6.88237, 5.65589, 7.00344, 7.82…\n",
       "  \"avg_price_sen\"   => 5.16896\n",
       "  \"demand\"          => [37.8346, 24.0461, 22.8249, 26.0606, 19.8897, 19.5926, 2…\n",
       "  \"avg_price_insen\" => 46.7856\n",
       "  \"cost\"            => [734.205, 381.002, 294.704, 506.793, 331.985, 295.156, 3…\n",
       "  \"quantity_insen\"  => [37.8346, 24.0461, 22.8249, 26.0606, 19.8897, 19.5926, 2…\n",
       "  \"total_cost\"      => 4256.05\n",
       "  \"profits\"         => [879.207, 772.398, 273.363, 6.63368, 0.582942, 2.80832e-…\n",
       "  \"wind_gw\"         => 0.0"
      ]
     },
     "metadata": {},
     "output_type": "display_data"
    }
   ],
   "source": [
    "results2 = clear_market_invest_tariff(dfclust, tech, tariff=50.0)"
   ]
  },
  {
   "cell_type": "markdown",
   "metadata": {},
   "source": [
    "We can see the right tariff is between \\\\$30 and \\\\$50/MWh."
   ]
  },
  {
   "cell_type": "markdown",
   "metadata": {},
   "source": [
    "### Solving for the fixed point\n",
    "We can solve for the fixed point in a loop."
   ]
  },
  {
   "cell_type": "code",
   "execution_count": 13,
   "metadata": {
    "scrolled": true
   },
   "outputs": [
    {
     "data": {
      "text/plain": [
       "44.025259418951734"
      ]
     },
     "metadata": {},
     "output_type": "display_data"
    }
   ],
   "source": [
    "\n",
    "current_diff = 1.0;\n",
    "guess = 40.0;\n",
    "    while (current_diff > 1e-2)\n",
    "        res = clear_market_invest_tariff(dfclust, tech, tariff=guess);\n",
    "        newguess = res[\"avg_price_insen\"];\n",
    "        current_diff = (guess-newguess).^2;\n",
    "        guess = newguess;\n",
    "    end\n",
    "    guess\n"
   ]
  },
  {
   "cell_type": "markdown",
   "metadata": {},
   "source": [
    "Note: It is best to convert this into a function so that now we can compare alternative solutions."
   ]
  },
  {
   "cell_type": "code",
   "execution_count": 14,
   "metadata": {},
   "outputs": [
    {
     "data": {
      "text/plain": [
       "clear_market_equilibrium (generic function with 1 method)"
      ]
     },
     "metadata": {},
     "output_type": "display_data"
    }
   ],
   "source": [
    "function clear_market_equilibrium(data::DataFrame, tech::DataFrame; \n",
    "        tariff=40.0, alpha=1.0, tax=0.0, subsidy=0.0, elas = 0.3)\n",
    "    \n",
    "    current_diff = 1.0;\n",
    "    guess = tariff;\n",
    "    while (current_diff > 1e-3)\n",
    "        res = clear_market_invest_tariff(dfclust, tech, tariff=guess, alpha=alpha,\n",
    "            tax=tax, subsidy=subsidy,  elas=elas);\n",
    "        newguess = res[\"avg_price_insen\"];\n",
    "        current_diff = (guess-newguess).^2;\n",
    "        guess = newguess ;\n",
    "    end\n",
    "    \n",
    "    # we solve at the equilibrium guess and save tariff\n",
    "    res = clear_market_invest_tariff(dfclust, tech, tariff=guess, alpha=alpha,\n",
    "            tax=tax, subsidy=subsidy);\n",
    "    res[\"tariff\"] = guess;\n",
    "    \n",
    "    return res\n",
    "    \n",
    "end"
   ]
  },
  {
   "cell_type": "code",
   "execution_count": 15,
   "metadata": {},
   "outputs": [
    {
     "data": {
      "text/plain": [
       "Dict{String, Any} with 17 entries:\n",
       "  \"avg_price\"       => 34.7697\n",
       "  \"price\"           => [41.9254, 35.7935, 27.7567, 38.9213, 34.3886, 34.1268, 3…\n",
       "  \"gas_gw\"          => 2.19809\n",
       "  \"quantity_sen\"    => [39.548, 27.4565, 28.4628, 28.9659, 22.6734, 24.2993, 25…\n",
       "  \"status\"          => \"LOCALLY_SOLVED\"\n",
       "  \"quantity\"        => [9.46003 11.5 … 6.82405e-9 3.49202e-9; 4.0713 11.5 … 7.4…\n",
       "  \"solar_gw\"        => 0.0\n",
       "  \"tariff\"          => 36.395\n",
       "  \"imports\"         => [8.75814, 8.1758, 8.05636, 6.94588, 6.02714, 7.61806, 8.…\n",
       "  \"avg_price_sen\"   => 34.7697\n",
       "  \"demand\"          => [39.548, 27.4565, 28.4628, 28.9659, 22.6734, 24.2993, 25…\n",
       "  \"avg_price_insen\" => 36.3964\n",
       "  \"cost\"            => [774.246, 480.725, 439.331, 592.71, 403.664, 417.907, 42…\n",
       "  \"quantity_insen\"  => [40.7216, 27.3121, 26.2733, 29.6283, 22.3157, 23.6268, 2…\n",
       "  \"total_cost\"      => 4377.23\n",
       "  \"profits\"         => [925.816, 872.183, 89.4503, 0.296038, 14.3213, 3.00097e-…\n",
       "  \"wind_gw\"         => 0.0"
      ]
     },
     "metadata": {},
     "output_type": "display_data"
    }
   ],
   "source": [
    "res_sen = clear_market_equilibrium(dfclust, tech, alpha=0.0, tariff=32.0)"
   ]
  },
  {
   "cell_type": "code",
   "execution_count": 16,
   "metadata": {
    "scrolled": true
   },
   "outputs": [
    {
     "data": {
      "text/plain": [
       "Dict{String, Any} with 17 entries:\n",
       "  \"avg_price\"       => 44.0517\n",
       "  \"price\"           => [42.3837, 34.8112, 26.0942, 38.5312, 26.9896, 26.6304, 2…\n",
       "  \"gas_gw\"          => 1.26616\n",
       "  \"quantity_sen\"    => [39.4508, 27.6923, 28.8841, 29.0682, 23.9928, 26.5221, 2…\n",
       "  \"status\"          => \"LOCALLY_SOLVED\"\n",
       "  \"quantity\"        => [9.46003 11.5 … 6.82404e-9 3.49202e-9; 4.0713 11.5 … 7.4…\n",
       "  \"solar_gw\"        => 0.0\n",
       "  \"tariff\"          => 44.0467\n",
       "  \"imports\"         => [8.78248, 8.10696, 7.92654, 6.92318, 5.65972, 7.02706, 7…\n",
       "  \"avg_price_sen\"   => 11.9189\n",
       "  \"demand\"          => [39.0979, 25.4752, 24.3338, 27.6218, 20.9512, 21.3579, 2…\n",
       "  \"avg_price_insen\" => 44.0517\n",
       "  \"cost\"            => [772.268, 421.394, 331.982, 554.462, 357.871, 339.563, 3…\n",
       "  \"quantity_insen\"  => [39.0979, 25.4752, 24.3338, 27.6218, 20.9512, 21.3579, 2…\n",
       "  \"total_cost\"      => 4401.88\n",
       "  \"profits\"         => [912.934, 823.292, 294.512, 7.15432, 4.70319, 3.06655e-6…\n",
       "  \"wind_gw\"         => 0.0"
      ]
     },
     "metadata": {},
     "output_type": "display_data"
    }
   ],
   "source": [
    "res_insen = clear_market_equilibrium(dfclust, tech, alpha=1.0, tariff=43.0)"
   ]
  },
  {
   "cell_type": "code",
   "execution_count": null,
   "metadata": {},
   "outputs": [],
   "source": [
    "histogram(res_sen[\"price\"], weights=dfclust.weights)"
   ]
  },
  {
   "cell_type": "markdown",
   "metadata": {},
   "source": [
    "## Follow-up exercises\n",
    "\n",
    "1. What take aways do you get from the above visualization?\n",
    "\n",
    "2. Consider an energy savings technology. How could it be added to the model? What would be the challenges in calibrating it?\n",
    "3. Assume that consumers only pay attention to the average price instead of the real wholesale price, although they keep paying the later. Let the average price equal to the tariff. How would you change your model?"
   ]
  }
 ],
 "metadata": {
  "kernelspec": {
   "display_name": "Julia 1.6.2",
   "language": "julia",
   "name": "julia-1.6"
  },
  "language_info": {
   "file_extension": ".jl",
   "mimetype": "application/julia",
   "name": "julia",
   "version": "1.6.2"
  }
 },
 "nbformat": 4,
 "nbformat_minor": 2
}
